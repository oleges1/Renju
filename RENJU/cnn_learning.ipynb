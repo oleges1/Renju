{
  "nbformat": 4,
  "nbformat_minor": 0,
  "metadata": {
    "colab": {
      "name": "cnn_colab2.ipynb",
      "version": "0.3.2",
      "provenance": [],
      "collapsed_sections": [
        "04Ox0yGrt_up",
        "cUcepy2E4xyP",
        "ebsm5-AY4-yu",
        "G7j-5An2srSu",
        "adoc3kbntpsF"
      ]
    },
    "kernelspec": {
      "name": "python3",
      "display_name": "Python 3"
    },
    "accelerator": "GPU"
  },
  "cells": [
    {
      "metadata": {
        "id": "axhRVAC3gcEg",
        "colab_type": "code",
        "colab": {}
      },
      "cell_type": "code",
      "source": [
        "!pip install -U -q PyDrive"
      ],
      "execution_count": 0,
      "outputs": []
    },
    {
      "metadata": {
        "id": "qpisuJSIgF2S",
        "colab_type": "code",
        "colab": {}
      },
      "cell_type": "code",
      "source": [
        "from pydrive.auth import GoogleAuth\n",
        "from pydrive.drive import GoogleDrive\n",
        "from google.colab import auth\n",
        "from oauth2client.client import GoogleCredentials\n",
        "\n",
        "# 1. Authenticate and create the PyDrive client.\n",
        "auth.authenticate_user()\n",
        "gauth = GoogleAuth()\n",
        "gauth.credentials = GoogleCredentials.get_application_default()\n",
        "drive = GoogleDrive(gauth)"
      ],
      "execution_count": 0,
      "outputs": []
    },
    {
      "metadata": {
        "id": "qj_jVNFskhmR",
        "colab_type": "code",
        "colab": {
          "base_uri": "https://localhost:8080/",
          "height": 34
        },
        "outputId": "4ed70a42-139f-4997-cba2-e1e1ce717d41"
      },
      "cell_type": "code",
      "source": [
        "import tensorflow as tf\n",
        "device_name = tf.test.gpu_device_name()\n",
        "if device_name != '/device:GPU:0':\n",
        "  raise SystemError('GPU device not found')\n",
        "print('Found GPU at: {}'.format(device_name))"
      ],
      "execution_count": 3,
      "outputs": [
        {
          "output_type": "stream",
          "text": [
            "Found GPU at: /device:GPU:0\n"
          ],
          "name": "stdout"
        }
      ]
    },
    {
      "metadata": {
        "id": "iRm3SibOgoso",
        "colab_type": "code",
        "colab": {}
      },
      "cell_type": "code",
      "source": [
        "import pandas as pd\n",
        "import numpy as np"
      ],
      "execution_count": 0,
      "outputs": []
    },
    {
      "metadata": {
        "id": "idivPDOI2R_a",
        "colab_type": "code",
        "colab": {}
      },
      "cell_type": "code",
      "source": [
        "black = np.array(drive.CreateFile({'id': '1tcyQFsii3ZSHKUhZqoODeFVt97GJQZIN'}).GetContentString().split('\\n'))\n",
        "white = np.array(drive.CreateFile({'id': '1rZbVHZEf5P4fQJovcQazHZqGMXpl1vsd'}).GetContentString().split('\\n'))"
      ],
      "execution_count": 0,
      "outputs": []
    },
    {
      "metadata": {
        "id": "WZuX9Vj2uPhl",
        "colab_type": "code",
        "colab": {}
      },
      "cell_type": "code",
      "source": [
        "data = drive.CreateFile({'id': '1-NMkNj-PZAAWEGeoYwr6agwM8RkYhdB8'}).GetContentString().split('\\n')"
      ],
      "execution_count": 0,
      "outputs": []
    },
    {
      "metadata": {
        "id": "BnGblWPpIaNw",
        "colab_type": "code",
        "colab": {
          "base_uri": "https://localhost:8080/",
          "height": 68
        },
        "outputId": "12846e3d-79a7-464b-904d-30e9e8e61f04"
      },
      "cell_type": "code",
      "source": [
        "!free -h"
      ],
      "execution_count": 6,
      "outputs": [
        {
          "output_type": "stream",
          "text": [
            "              total        used        free      shared  buff/cache   available\r\n",
            "Mem:            12G        6.8G        505M        249M        5.4G        5.4G\r\n",
            "Swap:            0B          0B          0B\r\n"
          ],
          "name": "stdout"
        }
      ]
    },
    {
      "metadata": {
        "id": "-eaXUzk03gMG",
        "colab_type": "code",
        "colab": {}
      },
      "cell_type": "code",
      "source": [
        "def num_states(data):\n",
        "  res = 0\n",
        "  for game in data:\n",
        "    res += len(game.split()) - 1\n",
        "  return res / 2"
      ],
      "execution_count": 0,
      "outputs": []
    },
    {
      "metadata": {
        "id": "vyGwzOO13xO-",
        "colab_type": "code",
        "colab": {
          "base_uri": "https://localhost:8080/",
          "height": 34
        },
        "outputId": "f2c19baa-c06e-451b-a1d8-d2ea731352c2"
      },
      "cell_type": "code",
      "source": [
        "num_states(black)"
      ],
      "execution_count": 7,
      "outputs": [
        {
          "output_type": "execute_result",
          "data": {
            "text/plain": [
              "17750698.0"
            ]
          },
          "metadata": {
            "tags": []
          },
          "execution_count": 7
        }
      ]
    },
    {
      "metadata": {
        "id": "04Ox0yGrt_up",
        "colab_type": "text"
      },
      "cell_type": "markdown",
      "source": [
        "# Splitting black and white"
      ]
    },
    {
      "metadata": {
        "id": "SrH77RVbgvjA",
        "colab_type": "code",
        "colab": {}
      },
      "cell_type": "code",
      "source": [
        "black = []\n",
        "white = []\n",
        "size = 0\n",
        "for line in raw_data:\n",
        "    game = line.split()\n",
        "    if (len(game) > 0):\n",
        "      if (game[0] == 'black'):\n",
        "          black.append(' '.join(game[1:]))\n",
        "      elif (game[0] == 'white'):\n",
        "          white.append(' '.join(game[1:]))\n",
        "#black = np.array(black)\n",
        "#white = np.array(white)"
      ],
      "execution_count": 0,
      "outputs": []
    },
    {
      "metadata": {
        "id": "R9wmMy6vTXyM",
        "colab_type": "text"
      },
      "cell_type": "markdown",
      "source": [
        "# Models saver:"
      ]
    },
    {
      "metadata": {
        "id": "UrowXchjSMTw",
        "colab_type": "code",
        "colab": {}
      },
      "cell_type": "code",
      "source": [
        "from googleapiclient.discovery import build\n",
        "drive_service = build('drive', 'v3')"
      ],
      "execution_count": 0,
      "outputs": []
    },
    {
      "metadata": {
        "id": "Y6lbyb_wLmXO",
        "colab_type": "code",
        "colab": {}
      },
      "cell_type": "code",
      "source": [
        "from googleapiclient.http import MediaFileUpload\n",
        "from googleapiclient.discovery import build\n",
        "drive_service = build('drive', 'v3')\n",
        "\n",
        "from googleapiclient.discovery import build\n",
        "drive_service = build('drive', 'v3')\n",
        "\n",
        "def saver(name):\n",
        "  file_metadata = {\n",
        "    'name': name + '.h5',\n",
        "    'mimeType': 'application/octet-stream'\n",
        "  }\n",
        "  media = MediaFileUpload(name + '.h5', \n",
        "                          mimetype='application/octet-stream',\n",
        "                          resumable=True)\n",
        "  created = drive_service.files().create(body=file_metadata,\n",
        "                                         media_body=media).execute()\n",
        "  print('File ID: {}'.format(created.get('id')))"
      ],
      "execution_count": 0,
      "outputs": []
    },
    {
      "metadata": {
        "id": "ov2HOYwXtP0D",
        "colab_type": "text"
      },
      "cell_type": "markdown",
      "source": [
        "# Generators for Networks:"
      ]
    },
    {
      "metadata": {
        "id": "zt9ByJ9E2kB4",
        "colab_type": "code",
        "colab": {}
      },
      "cell_type": "code",
      "source": [
        "POS_TO_LETTER = 'abcdefghjklmnop'\n",
        "LETTER_TO_POS = {letter: pos for pos, letter in enumerate(POS_TO_LETTER)}\n",
        "\n",
        "from random import randint, shuffle\n",
        "\n",
        "def to_pos(move):\n",
        "    return int(move[1:]) - 1, LETTER_TO_POS[move[0]]  \n",
        "  \n",
        "def rotare(img, times):\n",
        "    if times == 0:\n",
        "      return img\n",
        "    if times == 1:\n",
        "      return np.rot90(img)\n",
        "    if times == 2:\n",
        "      return np.rot90(np.rot90(img))\n",
        "    if times == 3:\n",
        "      return np.rot90(np.rot90(np.rot90(img)))\n",
        "\n",
        "def generator(data, batch_size = 64):\n",
        "    datas = []\n",
        "    labels = []\n",
        "    size = 0\n",
        "    while(1):\n",
        "      try:\n",
        "        for game in data:\n",
        "          img = np.zeros((15, 15))\n",
        "          game = game.split(' ')\n",
        "          min_i, min_j, max_i, max_j = 15, 15, 0, 0\n",
        "          for move in range(1, len(game)):\n",
        "              i, j = to_pos(game[move])\n",
        "              min_i = min(min_i, i)\n",
        "              min_j = min(min_j, j)\n",
        "              max_i = max(max_i, i)\n",
        "              max_j = max(max_j, j)\n",
        "              move_i = 0\n",
        "              move_j = 0\n",
        "              if (randint(0, 1)):\n",
        "                if (randint(0, 1)):\n",
        "                  move_i = randint(0, 15 - max_i)\n",
        "                  move_j = randint(0, 15 - max_j)\n",
        "                else:\n",
        "                  move_i = randint(0, 15 - max_i)\n",
        "                  move_j = -randint(0, min_j)\n",
        "              else:\n",
        "                if (randint(0, 1)):\n",
        "                  move_i = -randint(0, min_i)\n",
        "                  move_j = randint(0, 15 - max_j)\n",
        "                else:\n",
        "                  move_i = -randint(0, min_i)\n",
        "                  move_j = -randint(0, min_j)\n",
        "\n",
        "              if (move % 2 == 1):\n",
        "                if (game[0] == 'black'):\n",
        "                  rolled = np.roll(np.roll(img, move_i, axis = 0), move_j, axis = 1)\n",
        "                  label = np.zeros((15, 15))\n",
        "                  label[i, j] = 1\n",
        "                  label = np.roll(np.roll(label, move_i, axis = 0), move_j, axis = 1)\n",
        "                  seed = randint(0, 3)\n",
        "                  rolled = rotare(rolled, seed)\n",
        "                  res = np.zeros((1, 15, 15, 4))\n",
        "                  for i in range(15):\n",
        "                    for j in range(15):\n",
        "                      if (rolled[i, j] == 1):\n",
        "                        res[0, i, j, 0] = 1\n",
        "                        res[0, i, j, 2] = 1\n",
        "                      elif (data[i, j] == -1):\n",
        "                        res[0, i, j, 1] = 1\n",
        "                        res[0, i, j, 2] = 1\n",
        "                      res[0, i, j, 3] = 1\n",
        "                  datas.append(res)\n",
        "                  labels.append(rotare(label, seed).flatten())\n",
        "                  size += 1\n",
        "                img[i][j] = 1\n",
        "              else:\n",
        "                if (game[0] == 'white'):\n",
        "                  rolled = np.roll(np.roll(img, move_i, axis = 0), move_j, axis = 1)\n",
        "                  label = np.zeros((15, 15))\n",
        "                  label[i, j] = 1\n",
        "                  label = np.roll(np.roll(label, move_i, axis = 0), move_j, axis = 1)\n",
        "                  seed = randint(0, 3)\n",
        "                  rolled = rotare(rolled, seed)\n",
        "                  res = np.zeros((1, 15, 15, 4))\n",
        "                  for i in range(15):\n",
        "                    for j in range(15):\n",
        "                      if (rolled[i, j] == 1):\n",
        "                        res[0, i, j, 0] = 1\n",
        "                        res[0, i, j, 2] = 1\n",
        "                      elif (data[i, j] == -1):\n",
        "                        res[0, i, j, 1] = 1\n",
        "                        res[0, i, j, 2] = 1\n",
        "                      res[0, i, j, 3] = -1\n",
        "                  datas.append(res)\n",
        "                  labels.append(rotare(label, seed).flatten())\n",
        "                  size += 1\n",
        "                img[i][j] = -1\n",
        "\n",
        "              if (size == batch_size):\n",
        "                yield np.array(datas).reshape((batch_size, 15, 15, 4)), np.array(labels).reshape((batch_size, 225))\n",
        "                datas = []\n",
        "                labels = []\n",
        "                size = 0\n",
        "      except GeneratorExit:\n",
        "        raise GeneratorExit('exiting...')\n",
        "      except:\n",
        "        continue\n",
        "\n",
        "def generator_small(data, batch_size = 64):\n",
        "    datas = []\n",
        "    labels = []\n",
        "    size = 0\n",
        "    while(1):\n",
        "      random.shuffle(data)\n",
        "      try:\n",
        "        for game in data:\n",
        "          img = np.zeros((15, 15))\n",
        "          game = game.split(' ')\n",
        "          min_i, min_j, max_i, max_j = 15, 15, 0, 0\n",
        "          for move in range(1, len(game)):\n",
        "              i, j = to_pos(game[move])\n",
        "              min_i = min(min_i, i)\n",
        "              min_j = min(min_j, j)\n",
        "              max_i = max(max_i, i)\n",
        "              max_j = max(max_j, j)\n",
        "              move_i = 0\n",
        "              move_j = 0\n",
        "              if (randint(0, 1)):\n",
        "                if (randint(0, 1)):\n",
        "                  move_i = randint(0, 15 - max_i)\n",
        "                  move_j = randint(0, 15 - max_j)\n",
        "                else:\n",
        "                  move_i = randint(0, 15 - max_i)\n",
        "                  move_j = -randint(0, min_j)\n",
        "              else:\n",
        "                if (randint(0, 1)):\n",
        "                  move_i = -randint(0, min_i)\n",
        "                  move_j = randint(0, 15 - max_j)\n",
        "                else:\n",
        "                  move_i = -randint(0, min_i)\n",
        "                  move_j = -randint(0, min_j)\n",
        "\n",
        "              if (move % 2 == 1):\n",
        "                if (game[0] == 'black'):\n",
        "                  rolled = np.roll(np.roll(img, move_i, axis = 0), move_j, axis = 1)\n",
        "                  label = np.zeros((15, 15))\n",
        "                  label[i, j] = 1\n",
        "                  label = np.roll(np.roll(label, move_i, axis = 0), move_j, axis = 1)\n",
        "                  seed = randint(0, 3)\n",
        "                  datas.append(rotare(rolled, seed))\n",
        "                  labels.append(rotare(label, seed).flatten())\n",
        "                  size += 1\n",
        "                img[i][j] = 1\n",
        "              else:\n",
        "                if (game[0] == 'white'):\n",
        "                  rolled = np.roll(np.roll(img, move_i, axis = 0), move_j, axis = 1)\n",
        "                  label = np.zeros((15, 15))\n",
        "                  label[i, j] = 1\n",
        "                  label = np.roll(np.roll(label, move_i, axis = 0), move_j, axis = 1)\n",
        "                  seed = randint(0, 3)\n",
        "                  datas.append(rotare(rolled, seed))\n",
        "                  labels.append(rotare(label, seed).flatten())\n",
        "                  size += 1\n",
        "                img[i][j] = -1\n",
        "\n",
        "              if (size == batch_size):\n",
        "                yield np.array(datas).reshape((batch_size, 15, 15, 1)), np.array(labels).reshape((batch_size, 225))\n",
        "                datas = []\n",
        "                labels = []\n",
        "                size = 0\n",
        "      except GeneratorExit:\n",
        "        raise GeneratorExit('exiting...')\n",
        "      except:\n",
        "        continue"
      ],
      "execution_count": 0,
      "outputs": []
    },
    {
      "metadata": {
        "id": "vKlxBTEgxfu-",
        "colab_type": "code",
        "colab": {}
      },
      "cell_type": "code",
      "source": [
        "import random \n",
        "def generator_value(data, batch_size = 64, color = 'black'):\n",
        "    datas = []\n",
        "    labels = []\n",
        "    size = 0\n",
        "    while(1):\n",
        "      random.shuffle(data)\n",
        "      try:\n",
        "        for game in data:\n",
        "          img = np.zeros((15, 15))\n",
        "          game = game.split(' ')\n",
        "          if (len(game) < 5):\n",
        "            continue\n",
        "          #selected = set(game[-6:])\n",
        "          min_i, min_j, max_i, max_j = 15, 15, 0, 0\n",
        "          for move in range(1, len(game)):\n",
        "              i, j = to_pos(game[move])\n",
        "              min_i = min(min_i, i)\n",
        "              min_j = min(min_j, j)\n",
        "              max_i = max(max_i, i)\n",
        "              max_j = max(max_j, j)\n",
        "\n",
        "              if (move > len(game) - 17 and randint(0, 3) == 3):\n",
        "                move_i = 0\n",
        "                move_j = 0\n",
        "                if (randint(0, 1)):\n",
        "                  if (randint(0, 1)):\n",
        "                    move_i = randint(0, 15 - max_i)\n",
        "                    move_j = randint(0, 15 - max_j)\n",
        "                  else:\n",
        "                    move_i = randint(0, 15 - max_i)\n",
        "                    move_j = -randint(0, min_j)\n",
        "                else:\n",
        "                  if (randint(0, 1)):\n",
        "                    move_i = -randint(0, min_i)\n",
        "                    move_j = randint(0, 15 - max_j)\n",
        "                  else:\n",
        "                    move_i = -randint(0, min_i)\n",
        "                    move_j = -randint(0, min_j)\n",
        "\n",
        "                rolled = np.roll(np.roll(img, move_i, axis = 0), move_j, axis = 1)\n",
        "                seed = randint(0, 3)\n",
        "                datas.append(rotare(rolled, seed))\n",
        "                size += 1\n",
        "                if (game[0] == color):\n",
        "                  labels.append(1)\n",
        "                else:\n",
        "                  labels.append(-1)\n",
        "\n",
        "              if (move % 2 == 1):\n",
        "                img[i][j] = 1\n",
        "              else:\n",
        "                img[i][j] = -1\n",
        "\n",
        "              if (size == batch_size):\n",
        "                yield np.array(datas).reshape((batch_size, 15, 15, 1)), np.array(labels).reshape((batch_size, 1))\n",
        "                datas = []\n",
        "                labels = []\n",
        "                size = 0\n",
        "      except GeneratorExit:\n",
        "        raise GeneratorExit('exiting...')\n",
        "      except:\n",
        "        continue"
      ],
      "execution_count": 0,
      "outputs": []
    },
    {
      "metadata": {
        "id": "P6X1fiAOfCzI",
        "colab_type": "code",
        "colab": {
          "base_uri": "https://localhost:8080/",
          "height": 34
        },
        "outputId": "3c542953-8625-484d-b396-d0d09b4411ee"
      },
      "cell_type": "code",
      "source": [
        "import numpy as np\n",
        "import keras\n",
        "from keras.models import Sequential\n",
        "from keras.layers import Dense, Dropout, Flatten\n",
        "from keras.layers import Conv2D, MaxPooling2D, LeakyReLU, Activation, ZeroPadding2D\n",
        "from keras.layers.normalization import BatchNormalization\n",
        "from keras.optimizers import SGD"
      ],
      "execution_count": 13,
      "outputs": [
        {
          "output_type": "stream",
          "text": [
            "Using TensorFlow backend.\n"
          ],
          "name": "stderr"
        }
      ]
    },
    {
      "metadata": {
        "id": "4sA5gF4pszlP",
        "colab_type": "text"
      },
      "cell_type": "markdown",
      "source": [
        "# Policy Network"
      ]
    },
    {
      "metadata": {
        "id": "cUcepy2E4xyP",
        "colab_type": "text"
      },
      "cell_type": "markdown",
      "source": [
        "## Rollout model:"
      ]
    },
    {
      "metadata": {
        "id": "ABgrur8meUys",
        "colab_type": "code",
        "colab": {
          "base_uri": "https://localhost:8080/",
          "height": 660
        },
        "outputId": "c45f0327-2ce5-40da-fede-b8046156eb02"
      },
      "cell_type": "code",
      "source": [
        "model = Sequential()\n",
        "model.add(Conv2D(16, (3, 3), padding='same',\n",
        "                     input_shape=(15, 15, 1)))\n",
        "model.add(LeakyReLU())\n",
        "model.add(Conv2D(16, (2, 2), padding='same'))\n",
        "model.add(LeakyReLU())\n",
        "#model.add(MaxPooling2D(pool_size = (2, 2), padding = 'same'))\n",
        "#model.add(LeakyReLU())\n",
        "#model.add(BatchNormalization(axis = 3))\n",
        "\n",
        "model.add(Conv2D(32, (3, 3), padding='same'))\n",
        "model.add(LeakyReLU())\n",
        "model.add(Conv2D(32, (2, 2), padding='same'))\n",
        "model.add(LeakyReLU())\n",
        "#model.add(MaxPooling2D(pool_size = (2, 2), padding = 'same'))\n",
        "#model.add(LeakyReLU())\n",
        "#model.add(BatchNormalization(axis = 3))\n",
        "    \n",
        "model.add(Conv2D(64, (3, 3), padding='same'))\n",
        "model.add(LeakyReLU())\n",
        "model.add(Conv2D(64, (2, 2), padding='same'))\n",
        "model.add(LeakyReLU())\n",
        "#model.add(MaxPooling2D(pool_size = (2, 2), padding = 'same'))\n",
        "#model.add(LeakyReLU())\n",
        "#model.add(BatchNormalization(axis = 3))\n",
        "\n",
        "    \n",
        "model.add(Conv2D(1, (1, 1), padding='same'))\n",
        "#model.add(LeakyReLU())\n",
        "#model.add(Flatten())\n",
        "\n",
        "#model.add(LeakyReLU())\n",
        "model.add(Flatten())\n",
        "#model.add(Dense(1))\n",
        "#model.add(Dropout(0.35))\n",
        "#model.add(Dense(225))\n",
        "    \n",
        "model.add(Activation('softmax'))\n",
        "\n",
        "# initiate RMSprop optimizer\n",
        "model.compile(loss='categorical_crossentropy', optimizer = 'adam', metrics = ['accuracy'])\n",
        "model.summary()"
      ],
      "execution_count": 14,
      "outputs": [
        {
          "output_type": "stream",
          "text": [
            "_________________________________________________________________\n",
            "Layer (type)                 Output Shape              Param #   \n",
            "=================================================================\n",
            "conv2d_1 (Conv2D)            (None, 15, 15, 16)        160       \n",
            "_________________________________________________________________\n",
            "leaky_re_lu_1 (LeakyReLU)    (None, 15, 15, 16)        0         \n",
            "_________________________________________________________________\n",
            "conv2d_2 (Conv2D)            (None, 15, 15, 16)        1040      \n",
            "_________________________________________________________________\n",
            "leaky_re_lu_2 (LeakyReLU)    (None, 15, 15, 16)        0         \n",
            "_________________________________________________________________\n",
            "conv2d_3 (Conv2D)            (None, 15, 15, 32)        4640      \n",
            "_________________________________________________________________\n",
            "leaky_re_lu_3 (LeakyReLU)    (None, 15, 15, 32)        0         \n",
            "_________________________________________________________________\n",
            "conv2d_4 (Conv2D)            (None, 15, 15, 32)        4128      \n",
            "_________________________________________________________________\n",
            "leaky_re_lu_4 (LeakyReLU)    (None, 15, 15, 32)        0         \n",
            "_________________________________________________________________\n",
            "conv2d_5 (Conv2D)            (None, 15, 15, 64)        18496     \n",
            "_________________________________________________________________\n",
            "leaky_re_lu_5 (LeakyReLU)    (None, 15, 15, 64)        0         \n",
            "_________________________________________________________________\n",
            "conv2d_6 (Conv2D)            (None, 15, 15, 64)        16448     \n",
            "_________________________________________________________________\n",
            "leaky_re_lu_6 (LeakyReLU)    (None, 15, 15, 64)        0         \n",
            "_________________________________________________________________\n",
            "conv2d_7 (Conv2D)            (None, 15, 15, 1)         65        \n",
            "_________________________________________________________________\n",
            "flatten_1 (Flatten)          (None, 225)               0         \n",
            "_________________________________________________________________\n",
            "activation_1 (Activation)    (None, 225)               0         \n",
            "=================================================================\n",
            "Total params: 44,977\n",
            "Trainable params: 44,977\n",
            "Non-trainable params: 0\n",
            "_________________________________________________________________\n"
          ],
          "name": "stdout"
        }
      ]
    },
    {
      "metadata": {
        "id": "ebsm5-AY4-yu",
        "colab_type": "text"
      },
      "cell_type": "markdown",
      "source": [
        "## Main model"
      ]
    },
    {
      "metadata": {
        "id": "UoZkC3w844qj",
        "colab_type": "code",
        "colab": {
          "base_uri": "https://localhost:8080/",
          "height": 918
        },
        "outputId": "f192d256-6a0d-4044-c9a2-c72fb167128a"
      },
      "cell_type": "code",
      "source": [
        "model = Sequential()\n",
        "model.add(Conv2D(16, (3, 3), padding='same',\n",
        "                     input_shape=(15, 15, 1)))\n",
        "model.add(LeakyReLU())\n",
        "model.add(Conv2D(16, (2, 2), padding='same'))\n",
        "model.add(LeakyReLU())\n",
        "#model.add(MaxPooling2D(pool_size = (2, 2), padding = 'same'))\n",
        "#model.add(LeakyReLU())\n",
        "#model.add(BatchNormalization(axis = 3))\n",
        "\n",
        "model.add(Conv2D(32, (3, 3), padding='same'))\n",
        "model.add(LeakyReLU())\n",
        "model.add(Conv2D(32, (2, 2), padding='same'))\n",
        "model.add(LeakyReLU())\n",
        "#model.add(MaxPooling2D(pool_size = (2, 2), padding = 'same'))\n",
        "#model.add(LeakyReLU())\n",
        "#model.add(BatchNormalization(axis = 3))\n",
        "    \n",
        "model.add(Conv2D(64, (3, 3), padding='same'))\n",
        "model.add(LeakyReLU())\n",
        "model.add(Conv2D(64, (2, 2), padding='same'))\n",
        "model.add(LeakyReLU())\n",
        "#model.add(MaxPooling2D(pool_size = (2, 2), padding = 'same'))\n",
        "#model.add(LeakyReLU())\n",
        "#model.add(BatchNormalization(axis = 3))\n",
        "\n",
        "model.add(Conv2D(128, (3, 3), padding='same'))\n",
        "model.add(LeakyReLU())\n",
        "model.add(Conv2D(128, (2, 2), padding='same'))\n",
        "model.add(LeakyReLU())\n",
        "#model.add(MaxPooling2D(pool_size = (2, 2), padding = 'same'))\n",
        "#model.add(LeakyReLU())\n",
        "\n",
        "model.add(Conv2D(256, (3, 3), padding='same'))\n",
        "model.add(LeakyReLU())\n",
        "model.add(Conv2D(256, (2, 2), padding='same'))\n",
        "model.add(LeakyReLU())\n",
        "#model.add(MaxPooling2D(pool_size = (2, 2), padding = 'same'))\n",
        "#model.add(LeakyReLU())\n",
        "#model.add(BatchNormalization(axis = 3))\n",
        "\n",
        "    \n",
        "model.add(Conv2D(1, (1, 1), padding='same'))\n",
        "#model.add(LeakyReLU())\n",
        "#model.add(Flatten())\n",
        "\n",
        "#model.add(LeakyReLU())\n",
        "model.add(Flatten())\n",
        "#model.add(Dense(1))\n",
        "#model.add(Dropout(0.35))\n",
        "#model.add(Dense(225))\n",
        "    \n",
        "model.add(Activation('softmax'))\n",
        "\n",
        "# initiate RMSprop optimizer\n",
        "model.compile(loss='categorical_crossentropy', optimizer = 'adam', metrics = ['accuracy'])\n",
        "model.summary()"
      ],
      "execution_count": 26,
      "outputs": [
        {
          "output_type": "stream",
          "text": [
            "_________________________________________________________________\n",
            "Layer (type)                 Output Shape              Param #   \n",
            "=================================================================\n",
            "conv2d_1 (Conv2D)            (None, 15, 15, 16)        160       \n",
            "_________________________________________________________________\n",
            "leaky_re_lu_1 (LeakyReLU)    (None, 15, 15, 16)        0         \n",
            "_________________________________________________________________\n",
            "conv2d_2 (Conv2D)            (None, 15, 15, 16)        1040      \n",
            "_________________________________________________________________\n",
            "leaky_re_lu_2 (LeakyReLU)    (None, 15, 15, 16)        0         \n",
            "_________________________________________________________________\n",
            "conv2d_3 (Conv2D)            (None, 15, 15, 32)        4640      \n",
            "_________________________________________________________________\n",
            "leaky_re_lu_3 (LeakyReLU)    (None, 15, 15, 32)        0         \n",
            "_________________________________________________________________\n",
            "conv2d_4 (Conv2D)            (None, 15, 15, 32)        4128      \n",
            "_________________________________________________________________\n",
            "leaky_re_lu_4 (LeakyReLU)    (None, 15, 15, 32)        0         \n",
            "_________________________________________________________________\n",
            "conv2d_5 (Conv2D)            (None, 15, 15, 64)        18496     \n",
            "_________________________________________________________________\n",
            "leaky_re_lu_5 (LeakyReLU)    (None, 15, 15, 64)        0         \n",
            "_________________________________________________________________\n",
            "conv2d_6 (Conv2D)            (None, 15, 15, 64)        16448     \n",
            "_________________________________________________________________\n",
            "leaky_re_lu_6 (LeakyReLU)    (None, 15, 15, 64)        0         \n",
            "_________________________________________________________________\n",
            "conv2d_7 (Conv2D)            (None, 15, 15, 128)       73856     \n",
            "_________________________________________________________________\n",
            "leaky_re_lu_7 (LeakyReLU)    (None, 15, 15, 128)       0         \n",
            "_________________________________________________________________\n",
            "conv2d_8 (Conv2D)            (None, 15, 15, 128)       65664     \n",
            "_________________________________________________________________\n",
            "leaky_re_lu_8 (LeakyReLU)    (None, 15, 15, 128)       0         \n",
            "_________________________________________________________________\n",
            "conv2d_9 (Conv2D)            (None, 15, 15, 256)       295168    \n",
            "_________________________________________________________________\n",
            "leaky_re_lu_9 (LeakyReLU)    (None, 15, 15, 256)       0         \n",
            "_________________________________________________________________\n",
            "conv2d_10 (Conv2D)           (None, 15, 15, 256)       262400    \n",
            "_________________________________________________________________\n",
            "leaky_re_lu_10 (LeakyReLU)   (None, 15, 15, 256)       0         \n",
            "_________________________________________________________________\n",
            "conv2d_11 (Conv2D)           (None, 15, 15, 1)         257       \n",
            "_________________________________________________________________\n",
            "flatten_1 (Flatten)          (None, 225)               0         \n",
            "_________________________________________________________________\n",
            "activation_1 (Activation)    (None, 225)               0         \n",
            "=================================================================\n",
            "Total params: 742,257\n",
            "Trainable params: 742,257\n",
            "Non-trainable params: 0\n",
            "_________________________________________________________________\n"
          ],
          "name": "stdout"
        }
      ]
    },
    {
      "metadata": {
        "id": "DluoALaCuJ7g",
        "colab_type": "text"
      },
      "cell_type": "markdown",
      "source": [
        "# BIG PAPA MODEL"
      ]
    },
    {
      "metadata": {
        "id": "zH-AXZieujI8",
        "colab_type": "code",
        "colab": {
          "base_uri": "https://localhost:8080/",
          "height": 34
        },
        "outputId": "cbb4ba73-c8e3-4171-b1a7-c4f84372af73"
      },
      "cell_type": "code",
      "source": [
        "import numpy as np\n",
        "import keras\n",
        "from keras.models import Sequential, Model\n",
        "from keras.layers import Dense, Dropout, Flatten, Input\n",
        "from keras.layers import Conv2D, MaxPooling2D, LeakyReLU, Activation\n",
        "from keras.layers.normalization import BatchNormalization\n",
        "from keras.preprocessing.image import ImageDataGenerator\n",
        "from keras.optimizers import SGD"
      ],
      "execution_count": 13,
      "outputs": [
        {
          "output_type": "stream",
          "text": [
            "Using TensorFlow backend.\n"
          ],
          "name": "stderr"
        }
      ]
    },
    {
      "metadata": {
        "id": "HKFAzFfquPaP",
        "colab_type": "code",
        "colab": {
          "base_uri": "https://localhost:8080/",
          "height": 1312
        },
        "outputId": "f4a3a0cc-3d13-4828-a11e-04c8f1f99de2"
      },
      "cell_type": "code",
      "source": [
        "from keras.models import Model\n",
        "from keras.optimizers import Nadam\n",
        "from keras.layers import BatchNormalization, Convolution2D, Input, merge, LeakyReLU\n",
        "from keras.layers.core import Activation, Layer\n",
        "\n",
        "def conv_block_3(feat_maps_out, prev):\n",
        "    prev = Conv2D(feat_maps_out, (3, 3), padding='same')(prev) \n",
        "    prev = LeakyReLU()(prev)\n",
        "    prev = Conv2D(feat_maps_out, (2, 2), padding='same')(prev) \n",
        "    prev = LeakyReLU()(prev)\n",
        "    return prev\n",
        "\n",
        "def skip_block(feat_maps_in, feat_maps_out, prev):\n",
        "    if feat_maps_in != feat_maps_out:\n",
        "        prev = Conv2D(feat_maps_out, (1, 1), padding='same')(prev)\n",
        "    return prev \n",
        "\n",
        "def Residual_3(feat_maps_in, feat_maps_out, prev_layer):\n",
        "    skip = skip_block(feat_maps_in, feat_maps_out, prev_layer)\n",
        "    conv = conv_block_3(feat_maps_out, prev_layer)\n",
        "    return merge([skip, conv], mode='sum')\n",
        "\n",
        "img_rows = 15 \n",
        "img_cols = 15 \n",
        "\n",
        "inp = Input((img_rows, img_cols, 1))\n",
        "cnv1 = Conv2D(32, (3, 3), padding='same')(inp)\n",
        "cnv1 = LeakyReLU()(cnv1)\n",
        "r1 = Residual_3(32, 64, cnv1)\n",
        "r2 = Residual_3(64, 64, r1)\n",
        "r3 = Residual_3(64, 128, r2)\n",
        "r4 = Residual_3(128, 256, r3)\n",
        "cnv2 = Conv2D(1, (1, 1), padding='same')(r4)\n",
        "cnv2 = LeakyReLU()(cnv2)\n",
        "cnv2 = Flatten()(cnv2)\n",
        "out = Activation('softmax')(cnv2)\n",
        "model = Model(input=inp, output=out)\n",
        "model.compile(loss='categorical_crossentropy', optimizer = 'adam', metrics = ['accuracy'])\n",
        "model.summary()"
      ],
      "execution_count": 20,
      "outputs": [
        {
          "output_type": "stream",
          "text": [
            "/usr/local/lib/python3.6/dist-packages/ipykernel_launcher.py:21: UserWarning: The `merge` function is deprecated and will be removed after 08/2017. Use instead layers from `keras.layers.merge`, e.g. `add`, `concatenate`, etc.\n",
            "/usr/local/lib/python3.6/dist-packages/keras/legacy/layers.py:465: UserWarning: The `Merge` layer is deprecated and will be removed after 08/2017. Use instead layers from `keras.layers.merge`, e.g. `add`, `concatenate`, etc.\n",
            "  name=name)\n",
            "/usr/local/lib/python3.6/dist-packages/ipykernel_launcher.py:37: UserWarning: Update your `Model` call to the Keras 2 API: `Model(inputs=Tensor(\"in..., outputs=Tensor(\"ac...)`\n"
          ],
          "name": "stderr"
        },
        {
          "output_type": "stream",
          "text": [
            "__________________________________________________________________________________________________\n",
            "Layer (type)                    Output Shape         Param #     Connected to                     \n",
            "==================================================================================================\n",
            "input_3 (InputLayer)            (None, 15, 15, 1)    0                                            \n",
            "__________________________________________________________________________________________________\n",
            "conv2d_26 (Conv2D)              (None, 15, 15, 32)   320         input_3[0][0]                    \n",
            "__________________________________________________________________________________________________\n",
            "leaky_re_lu_21 (LeakyReLU)      (None, 15, 15, 32)   0           conv2d_26[0][0]                  \n",
            "__________________________________________________________________________________________________\n",
            "conv2d_28 (Conv2D)              (None, 15, 15, 64)   18496       leaky_re_lu_21[0][0]             \n",
            "__________________________________________________________________________________________________\n",
            "leaky_re_lu_22 (LeakyReLU)      (None, 15, 15, 64)   0           conv2d_28[0][0]                  \n",
            "__________________________________________________________________________________________________\n",
            "conv2d_29 (Conv2D)              (None, 15, 15, 64)   16448       leaky_re_lu_22[0][0]             \n",
            "__________________________________________________________________________________________________\n",
            "conv2d_27 (Conv2D)              (None, 15, 15, 64)   2112        leaky_re_lu_21[0][0]             \n",
            "__________________________________________________________________________________________________\n",
            "leaky_re_lu_23 (LeakyReLU)      (None, 15, 15, 64)   0           conv2d_29[0][0]                  \n",
            "__________________________________________________________________________________________________\n",
            "merge_9 (Merge)                 (None, 15, 15, 64)   0           conv2d_27[0][0]                  \n",
            "                                                                 leaky_re_lu_23[0][0]             \n",
            "__________________________________________________________________________________________________\n",
            "conv2d_30 (Conv2D)              (None, 15, 15, 64)   36928       merge_9[0][0]                    \n",
            "__________________________________________________________________________________________________\n",
            "leaky_re_lu_24 (LeakyReLU)      (None, 15, 15, 64)   0           conv2d_30[0][0]                  \n",
            "__________________________________________________________________________________________________\n",
            "conv2d_31 (Conv2D)              (None, 15, 15, 64)   16448       leaky_re_lu_24[0][0]             \n",
            "__________________________________________________________________________________________________\n",
            "leaky_re_lu_25 (LeakyReLU)      (None, 15, 15, 64)   0           conv2d_31[0][0]                  \n",
            "__________________________________________________________________________________________________\n",
            "merge_10 (Merge)                (None, 15, 15, 64)   0           merge_9[0][0]                    \n",
            "                                                                 leaky_re_lu_25[0][0]             \n",
            "__________________________________________________________________________________________________\n",
            "conv2d_33 (Conv2D)              (None, 15, 15, 128)  73856       merge_10[0][0]                   \n",
            "__________________________________________________________________________________________________\n",
            "leaky_re_lu_26 (LeakyReLU)      (None, 15, 15, 128)  0           conv2d_33[0][0]                  \n",
            "__________________________________________________________________________________________________\n",
            "conv2d_34 (Conv2D)              (None, 15, 15, 128)  65664       leaky_re_lu_26[0][0]             \n",
            "__________________________________________________________________________________________________\n",
            "conv2d_32 (Conv2D)              (None, 15, 15, 128)  8320        merge_10[0][0]                   \n",
            "__________________________________________________________________________________________________\n",
            "leaky_re_lu_27 (LeakyReLU)      (None, 15, 15, 128)  0           conv2d_34[0][0]                  \n",
            "__________________________________________________________________________________________________\n",
            "merge_11 (Merge)                (None, 15, 15, 128)  0           conv2d_32[0][0]                  \n",
            "                                                                 leaky_re_lu_27[0][0]             \n",
            "__________________________________________________________________________________________________\n",
            "conv2d_36 (Conv2D)              (None, 15, 15, 256)  295168      merge_11[0][0]                   \n",
            "__________________________________________________________________________________________________\n",
            "leaky_re_lu_28 (LeakyReLU)      (None, 15, 15, 256)  0           conv2d_36[0][0]                  \n",
            "__________________________________________________________________________________________________\n",
            "conv2d_37 (Conv2D)              (None, 15, 15, 256)  262400      leaky_re_lu_28[0][0]             \n",
            "__________________________________________________________________________________________________\n",
            "conv2d_35 (Conv2D)              (None, 15, 15, 256)  33024       merge_11[0][0]                   \n",
            "__________________________________________________________________________________________________\n",
            "leaky_re_lu_29 (LeakyReLU)      (None, 15, 15, 256)  0           conv2d_37[0][0]                  \n",
            "__________________________________________________________________________________________________\n",
            "merge_12 (Merge)                (None, 15, 15, 256)  0           conv2d_35[0][0]                  \n",
            "                                                                 leaky_re_lu_29[0][0]             \n",
            "__________________________________________________________________________________________________\n",
            "conv2d_38 (Conv2D)              (None, 15, 15, 1)    257         merge_12[0][0]                   \n",
            "__________________________________________________________________________________________________\n",
            "leaky_re_lu_30 (LeakyReLU)      (None, 15, 15, 1)    0           conv2d_38[0][0]                  \n",
            "__________________________________________________________________________________________________\n",
            "flatten_3 (Flatten)             (None, 225)          0           leaky_re_lu_30[0][0]             \n",
            "__________________________________________________________________________________________________\n",
            "activation_3 (Activation)       (None, 225)          0           flatten_3[0][0]                  \n",
            "==================================================================================================\n",
            "Total params: 829,441\n",
            "Trainable params: 829,441\n",
            "Non-trainable params: 0\n",
            "__________________________________________________________________________________________________\n"
          ],
          "name": "stdout"
        }
      ]
    },
    {
      "metadata": {
        "id": "G7j-5An2srSu",
        "colab_type": "text"
      },
      "cell_type": "markdown",
      "source": [
        "# Value Network:"
      ]
    },
    {
      "metadata": {
        "id": "cbHRZT3DZlfp",
        "colab_type": "code",
        "colab": {}
      },
      "cell_type": "code",
      "source": [
        "model = Sequential()\n",
        "model.add(ZeroPadding2D(padding=(2, 2), input_shape=(15, 15, 1)))\n",
        "model.add(Conv2D(16, (5, 5),\n",
        "                        padding='valid'))\n",
        "model.add(Activation('relu'))\n",
        "model.add(Dropout(0.1))\n",
        "model.add(Conv2D(16, (5, 5),\n",
        "                        padding='valid')) # same\n",
        "model.add(Activation('relu'))\n",
        "model.add(Dropout(0.1))\n",
        "model.add(Flatten())\n",
        "model.add(Dense(512))  # 1024\n",
        "model.add(Activation('relu'))\n",
        "model.add(Dropout(0.1))\n",
        "\n",
        "model.add(Dense(1))\n",
        "model.add(Activation('tanh'))\n",
        "\n",
        "model.compile(loss='mse',\n",
        "              optimizer=\"adadelta\", metrics = ['accuracy'])"
      ],
      "execution_count": 0,
      "outputs": []
    },
    {
      "metadata": {
        "id": "adoc3kbntpsF",
        "colab_type": "text"
      },
      "cell_type": "markdown",
      "source": [
        "# Fitting value:"
      ]
    },
    {
      "metadata": {
        "id": "YTZ9QQyq7_EU",
        "colab_type": "code",
        "colab": {
          "base_uri": "https://localhost:8080/",
          "height": 241
        },
        "outputId": "3c100a14-d7df-42a7-9976-86a61c585a3a"
      },
      "cell_type": "code",
      "source": [
        "epochs = 4\n",
        "for _ in range(epochs):\n",
        "  model.fit_generator(generator_value(data), steps_per_epoch = 50000, epochs = 1)\n",
        "  model.save('value_black.h5')\n",
        "  saver('value_black')"
      ],
      "execution_count": 19,
      "outputs": [
        {
          "output_type": "stream",
          "text": [
            "Epoch 1/1\n",
            " 5379/50000 [==>...........................] - ETA: 15:48 - loss: 0.9851 - acc: 0.0045"
          ],
          "name": "stdout"
        },
        {
          "output_type": "stream",
          "text": [
            "10446/50000 [=====>........................] - ETA: 13:49 - loss: 0.9685 - acc: 0.0166"
          ],
          "name": "stdout"
        },
        {
          "output_type": "stream",
          "text": [
            "15046/50000 [========>.....................] - ETA: 12:09 - loss: 0.9587 - acc: 0.0277"
          ],
          "name": "stdout"
        },
        {
          "output_type": "stream",
          "text": [
            "19929/50000 [==========>...................] - ETA: 10:27 - loss: 0.9523 - acc: 0.0351"
          ],
          "name": "stdout"
        },
        {
          "output_type": "stream",
          "text": [
            "24849/50000 [=============>................] - ETA: 8:44 - loss: 0.9476 - acc: 0.0412"
          ],
          "name": "stdout"
        },
        {
          "output_type": "stream",
          "text": [
            "28463/50000 [================>.............] - ETA: 7:28 - loss: 0.9449 - acc: 0.0449"
          ],
          "name": "stdout"
        },
        {
          "output_type": "stream",
          "text": [
            "31886/50000 [==================>...........] - ETA: 6:17 - loss: 0.9424 - acc: 0.0482"
          ],
          "name": "stdout"
        },
        {
          "output_type": "stream",
          "text": [
            "35688/50000 [====================>.........] - ETA: 4:58 - loss: 0.9404 - acc: 0.0511"
          ],
          "name": "stdout"
        },
        {
          "output_type": "stream",
          "text": [
            "39580/50000 [======================>.......] - ETA: 3:37 - loss: 0.9385 - acc: 0.0539"
          ],
          "name": "stdout"
        },
        {
          "output_type": "stream",
          "text": [
            "43062/50000 [========================>.....] - ETA: 2:24 - loss: 0.9371 - acc: 0.0560"
          ],
          "name": "stdout"
        },
        {
          "output_type": "stream",
          "text": [
            "46873/50000 [===========================>..] - ETA: 1:05 - loss: 0.9356 - acc: 0.0583"
          ],
          "name": "stdout"
        },
        {
          "output_type": "stream",
          "text": [
            "50000/50000 [==============================] - 1040s 21ms/step - loss: 0.9346 - acc: 0.0598\n",
            "File ID: 1g7BsA6MIOXdiqIsW4nb2WI1FNMx1Fm7b\n",
            "Epoch 1/1\n",
            "   76/50000 [..............................] - ETA: 42:16 - loss: 0.9181 - acc: 0.0913"
          ],
          "name": "stdout"
        },
        {
          "output_type": "stream",
          "text": [
            " 5312/50000 [==>...........................] - ETA: 15:46 - loss: 0.9138 - acc: 0.0927"
          ],
          "name": "stdout"
        },
        {
          "output_type": "stream",
          "text": [
            " 9744/50000 [====>.........................] - ETA: 14:03 - loss: 0.9145 - acc: 0.0918"
          ],
          "name": "stdout"
        },
        {
          "output_type": "stream",
          "text": [
            "13263/50000 [======>.......................] - ETA: 12:47 - loss: 0.9152 - acc: 0.0908"
          ],
          "name": "stdout"
        },
        {
          "output_type": "stream",
          "text": [
            "17244/50000 [=========>....................] - ETA: 11:24 - loss: 0.9155 - acc: 0.0906"
          ],
          "name": "stdout"
        },
        {
          "output_type": "stream",
          "text": [
            "22659/50000 [============>.................] - ETA: 9:30 - loss: 0.9155 - acc: 0.0911"
          ],
          "name": "stdout"
        },
        {
          "output_type": "stream",
          "text": [
            "26701/50000 [===============>..............] - ETA: 8:05 - loss: 0.9150 - acc: 0.0921"
          ],
          "name": "stdout"
        },
        {
          "output_type": "stream",
          "text": [
            "30009/50000 [=================>............] - ETA: 6:56 - loss: 0.9144 - acc: 0.0930"
          ],
          "name": "stdout"
        },
        {
          "output_type": "stream",
          "text": [
            "35380/50000 [====================>.........] - ETA: 5:04 - loss: 0.9142 - acc: 0.0934"
          ],
          "name": "stdout"
        },
        {
          "output_type": "stream",
          "text": [
            "39235/50000 [======================>.......] - ETA: 3:43 - loss: 0.9136 - acc: 0.0945"
          ],
          "name": "stdout"
        },
        {
          "output_type": "stream",
          "text": [
            "43519/50000 [=========================>....] - ETA: 2:14 - loss: 0.9134 - acc: 0.0950"
          ],
          "name": "stdout"
        },
        {
          "output_type": "stream",
          "text": [
            "47768/50000 [===========================>..] - ETA: 46s - loss: 0.9133 - acc: 0.0953"
          ],
          "name": "stdout"
        },
        {
          "output_type": "stream",
          "text": [
            "50000/50000 [==============================] - 1040s 21ms/step - loss: 0.9133 - acc: 0.0953\n",
            "File ID: 18YWLn9L6pOAyvYFmlU73rsbmccKrMImj\n",
            "Epoch 1/1\n",
            "  403/50000 [..............................] - ETA: 21:36 - loss: 0.9013 - acc: 0.1139"
          ],
          "name": "stdout"
        },
        {
          "output_type": "stream",
          "text": [
            " 4002/50000 [=>............................] - ETA: 16:14 - loss: 0.9076 - acc: 0.1075"
          ],
          "name": "stdout"
        },
        {
          "output_type": "stream",
          "text": [
            " 9386/50000 [====>.........................] - ETA: 14:09 - loss: 0.9094 - acc: 0.1033"
          ],
          "name": "stdout"
        },
        {
          "output_type": "stream",
          "text": [
            "13648/50000 [=======>......................] - ETA: 12:39 - loss: 0.9095 - acc: 0.1038"
          ],
          "name": "stdout"
        },
        {
          "output_type": "stream",
          "text": [
            "17363/50000 [=========>....................] - ETA: 11:20 - loss: 0.9095 - acc: 0.1035"
          ],
          "name": "stdout"
        },
        {
          "output_type": "stream",
          "text": [
            "21237/50000 [===========>..................] - ETA: 9:58 - loss: 0.9095 - acc: 0.1033"
          ],
          "name": "stdout"
        },
        {
          "output_type": "stream",
          "text": [
            "24956/50000 [=============>................] - ETA: 8:40 - loss: 0.9091 - acc: 0.1040"
          ],
          "name": "stdout"
        },
        {
          "output_type": "stream",
          "text": [
            "28670/50000 [================>.............] - ETA: 7:23 - loss: 0.9088 - acc: 0.1045"
          ],
          "name": "stdout"
        },
        {
          "output_type": "stream",
          "text": [
            "33290/50000 [==================>...........] - ETA: 5:46 - loss: 0.9088 - acc: 0.1042"
          ],
          "name": "stdout"
        },
        {
          "output_type": "stream",
          "text": [
            "36771/50000 [=====================>........] - ETA: 4:34 - loss: 0.9090 - acc: 0.1039"
          ],
          "name": "stdout"
        },
        {
          "output_type": "stream",
          "text": [
            "40130/50000 [=======================>......] - ETA: 3:24 - loss: 0.9088 - acc: 0.1042"
          ],
          "name": "stdout"
        },
        {
          "output_type": "stream",
          "text": [
            "43860/50000 [=========================>....] - ETA: 2:07 - loss: 0.9087 - acc: 0.1045"
          ],
          "name": "stdout"
        },
        {
          "output_type": "stream",
          "text": [
            "47266/50000 [===========================>..] - ETA: 56s - loss: 0.9085 - acc: 0.1048"
          ],
          "name": "stdout"
        },
        {
          "output_type": "stream",
          "text": [
            "50000/50000 [==============================] - 1037s 21ms/step - loss: 0.9083 - acc: 0.1052\n",
            "File ID: 1fNenL4UvUA2Q3qnRtnkt5QzFnb-f6myU\n",
            "Epoch 1/1\n",
            "  225/50000 [..............................] - ETA: 25:26 - loss: 0.9016 - acc: 0.1207"
          ],
          "name": "stdout"
        },
        {
          "output_type": "stream",
          "text": [
            " 3973/50000 [=>............................] - ETA: 16:01 - loss: 0.9063 - acc: 0.1084"
          ],
          "name": "stdout"
        },
        {
          "output_type": "stream",
          "text": [
            " 8080/50000 [===>..........................] - ETA: 14:26 - loss: 0.9069 - acc: 0.1066"
          ],
          "name": "stdout"
        },
        {
          "output_type": "stream",
          "text": [
            "11908/50000 [======>.......................] - ETA: 13:08 - loss: 0.9069 - acc: 0.1074"
          ],
          "name": "stdout"
        },
        {
          "output_type": "stream",
          "text": [
            "15707/50000 [========>.....................] - ETA: 11:48 - loss: 0.9065 - acc: 0.1083"
          ],
          "name": "stdout"
        },
        {
          "output_type": "stream",
          "text": [
            "21547/50000 [===========>..................] - ETA: 9:47 - loss: 0.9065 - acc: 0.1085"
          ],
          "name": "stdout"
        },
        {
          "output_type": "stream",
          "text": [
            "30395/50000 [=================>............] - ETA: 6:44 - loss: 0.9057 - acc: 0.1096"
          ],
          "name": "stdout"
        },
        {
          "output_type": "stream",
          "text": [
            "34435/50000 [===================>..........] - ETA: 5:21 - loss: 0.9060 - acc: 0.1091"
          ],
          "name": "stdout"
        },
        {
          "output_type": "stream",
          "text": [
            "40432/50000 [=======================>......] - ETA: 3:17 - loss: 0.9060 - acc: 0.1093"
          ],
          "name": "stdout"
        },
        {
          "output_type": "stream",
          "text": [
            "44532/50000 [=========================>....] - ETA: 1:52 - loss: 0.9057 - acc: 0.1096"
          ],
          "name": "stdout"
        },
        {
          "output_type": "stream",
          "text": [
            "48183/50000 [===========================>..] - ETA: 37s - loss: 0.9057 - acc: 0.1098"
          ],
          "name": "stdout"
        },
        {
          "output_type": "stream",
          "text": [
            "50000/50000 [==============================] - 1031s 21ms/step - loss: 0.9056 - acc: 0.1100\n",
            "File ID: 1D-nIJdBLSLGB5l2rgzpPRpABAiW91M4d\n"
          ],
          "name": "stdout"
        }
      ]
    },
    {
      "metadata": {
        "id": "fmOpwl4DyICw",
        "colab_type": "code",
        "colab": {
          "base_uri": "https://localhost:8080/",
          "height": 34
        },
        "outputId": "27e9fe1e-0c9c-4ec9-dd22-2a2d51a7ee2c"
      },
      "cell_type": "code",
      "source": [
        "model.save('value_black256.h5')\n",
        "saver('value_black256')"
      ],
      "execution_count": 25,
      "outputs": [
        {
          "output_type": "stream",
          "text": [
            "File ID: 16BIhkk780AbDTuG9Qlhgs1D8yBvBEfGT\n"
          ],
          "name": "stdout"
        }
      ]
    },
    {
      "metadata": {
        "id": "ttSf0maSrsDc",
        "colab_type": "code",
        "colab": {
          "base_uri": "https://localhost:8080/",
          "height": 1373
        },
        "outputId": "7db35755-5b78-4256-8634-f33f2f4b8eb5"
      },
      "cell_type": "code",
      "source": [
        "epochs = 4\n",
        "for _ in range(epochs):\n",
        "  model.fit_generator(generator_value(data, 256), steps_per_epoch = 50000, epochs = 1)\n",
        "  model.save('value_black256.h5')\n",
        "  saver('value_black256')"
      ],
      "execution_count": 14,
      "outputs": [
        {
          "output_type": "stream",
          "text": [
            "Epoch 1/1\n",
            " 1399/50000 [..............................] - ETA: 40:17 - loss: 0.8873 - acc: 0.1293"
          ],
          "name": "stdout"
        },
        {
          "output_type": "stream",
          "text": [
            " 2928/50000 [>.............................] - ETA: 38:03 - loss: 0.8876 - acc: 0.1285"
          ],
          "name": "stdout"
        },
        {
          "output_type": "stream",
          "text": [
            " 4429/50000 [=>............................] - ETA: 36:36 - loss: 0.8880 - acc: 0.1279"
          ],
          "name": "stdout"
        },
        {
          "output_type": "stream",
          "text": [
            " 5924/50000 [==>...........................] - ETA: 35:28 - loss: 0.8873 - acc: 0.1292"
          ],
          "name": "stdout"
        },
        {
          "output_type": "stream",
          "text": [
            " 7341/50000 [===>..........................] - ETA: 34:23 - loss: 0.8873 - acc: 0.1292"
          ],
          "name": "stdout"
        },
        {
          "output_type": "stream",
          "text": [
            " 8740/50000 [====>.........................] - ETA: 33:19 - loss: 0.8874 - acc: 0.1289"
          ],
          "name": "stdout"
        },
        {
          "output_type": "stream",
          "text": [
            "10159/50000 [=====>........................] - ETA: 32:13 - loss: 0.8873 - acc: 0.1289"
          ],
          "name": "stdout"
        },
        {
          "output_type": "stream",
          "text": [
            "11657/50000 [=====>........................] - ETA: 30:59 - loss: 0.8875 - acc: 0.1285"
          ],
          "name": "stdout"
        },
        {
          "output_type": "stream",
          "text": [
            "13175/50000 [======>.......................] - ETA: 29:46 - loss: 0.8874 - acc: 0.1287"
          ],
          "name": "stdout"
        },
        {
          "output_type": "stream",
          "text": [
            "14625/50000 [=======>......................] - ETA: 28:35 - loss: 0.8873 - acc: 0.1287"
          ],
          "name": "stdout"
        },
        {
          "output_type": "stream",
          "text": [
            "16097/50000 [========>.....................] - ETA: 27:25 - loss: 0.8872 - acc: 0.1287"
          ],
          "name": "stdout"
        },
        {
          "output_type": "stream",
          "text": [
            "17508/50000 [=========>....................] - ETA: 26:19 - loss: 0.8871 - acc: 0.1289"
          ],
          "name": "stdout"
        },
        {
          "output_type": "stream",
          "text": [
            "18976/50000 [==========>...................] - ETA: 25:09 - loss: 0.8868 - acc: 0.1294"
          ],
          "name": "stdout"
        },
        {
          "output_type": "stream",
          "text": [
            "20351/50000 [===========>..................] - ETA: 24:03 - loss: 0.8868 - acc: 0.1294"
          ],
          "name": "stdout"
        },
        {
          "output_type": "stream",
          "text": [
            "21719/50000 [============>.................] - ETA: 22:58 - loss: 0.8866 - acc: 0.1298"
          ],
          "name": "stdout"
        },
        {
          "output_type": "stream",
          "text": [
            "23103/50000 [============>.................] - ETA: 21:51 - loss: 0.8866 - acc: 0.1299"
          ],
          "name": "stdout"
        },
        {
          "output_type": "stream",
          "text": [
            "24526/50000 [=============>................] - ETA: 20:42 - loss: 0.8867 - acc: 0.1296"
          ],
          "name": "stdout"
        },
        {
          "output_type": "stream",
          "text": [
            "25901/50000 [==============>...............] - ETA: 19:36 - loss: 0.8867 - acc: 0.1296"
          ],
          "name": "stdout"
        },
        {
          "output_type": "stream",
          "text": [
            "27301/50000 [===============>..............] - ETA: 18:27 - loss: 0.8866 - acc: 0.1298"
          ],
          "name": "stdout"
        },
        {
          "output_type": "stream",
          "text": [
            "28744/50000 [================>.............] - ETA: 17:17 - loss: 0.8867 - acc: 0.1297"
          ],
          "name": "stdout"
        },
        {
          "output_type": "stream",
          "text": [
            "30209/50000 [=================>............] - ETA: 16:05 - loss: 0.8866 - acc: 0.1298"
          ],
          "name": "stdout"
        },
        {
          "output_type": "stream",
          "text": [
            "30484/50000 [=================>............] - ETA: 15:52 - loss: 0.8866 - acc: 0.1298"
          ],
          "name": "stdout"
        },
        {
          "output_type": "error",
          "ename": "KeyboardInterrupt",
          "evalue": "ignored",
          "traceback": [
            "\u001b[0;31m---------------------------------------------------------------------------\u001b[0m",
            "\u001b[0;31mKeyboardInterrupt\u001b[0m                         Traceback (most recent call last)",
            "\u001b[0;32m/usr/local/lib/python3.6/dist-packages/keras/engine/training.py\u001b[0m in \u001b[0;36mfit_generator\u001b[0;34m(self, generator, steps_per_epoch, epochs, verbose, callbacks, validation_data, validation_steps, class_weight, max_queue_size, workers, use_multiprocessing, shuffle, initial_epoch)\u001b[0m\n\u001b[1;32m   2193\u001b[0m                 \u001b[0;32mwhile\u001b[0m \u001b[0msteps_done\u001b[0m \u001b[0;34m<\u001b[0m \u001b[0msteps_per_epoch\u001b[0m\u001b[0;34m:\u001b[0m\u001b[0;34m\u001b[0m\u001b[0m\n\u001b[0;32m-> 2194\u001b[0;31m                     \u001b[0mgenerator_output\u001b[0m \u001b[0;34m=\u001b[0m \u001b[0mnext\u001b[0m\u001b[0;34m(\u001b[0m\u001b[0moutput_generator\u001b[0m\u001b[0;34m)\u001b[0m\u001b[0;34m\u001b[0m\u001b[0m\n\u001b[0m\u001b[1;32m   2195\u001b[0m \u001b[0;34m\u001b[0m\u001b[0m\n",
            "\u001b[0;32m/usr/local/lib/python3.6/dist-packages/keras/utils/data_utils.py\u001b[0m in \u001b[0;36mget\u001b[0;34m(self)\u001b[0m\n\u001b[1;32m    786\u001b[0m                 \u001b[0;32melse\u001b[0m\u001b[0;34m:\u001b[0m\u001b[0;34m\u001b[0m\u001b[0m\n\u001b[0;32m--> 787\u001b[0;31m                     \u001b[0mtime\u001b[0m\u001b[0;34m.\u001b[0m\u001b[0msleep\u001b[0m\u001b[0;34m(\u001b[0m\u001b[0mself\u001b[0m\u001b[0;34m.\u001b[0m\u001b[0mwait_time\u001b[0m\u001b[0;34m)\u001b[0m\u001b[0;34m\u001b[0m\u001b[0m\n\u001b[0m\u001b[1;32m    788\u001b[0m \u001b[0;34m\u001b[0m\u001b[0m\n",
            "\u001b[0;31mKeyboardInterrupt\u001b[0m: ",
            "\nDuring handling of the above exception, another exception occurred:\n",
            "\u001b[0;31mKeyboardInterrupt\u001b[0m                         Traceback (most recent call last)",
            "\u001b[0;32m<ipython-input-14-dca18b36e4ed>\u001b[0m in \u001b[0;36m<module>\u001b[0;34m()\u001b[0m\n\u001b[1;32m      1\u001b[0m \u001b[0mepochs\u001b[0m \u001b[0;34m=\u001b[0m \u001b[0;36m4\u001b[0m\u001b[0;34m\u001b[0m\u001b[0m\n\u001b[1;32m      2\u001b[0m \u001b[0;32mfor\u001b[0m \u001b[0m_\u001b[0m \u001b[0;32min\u001b[0m \u001b[0mrange\u001b[0m\u001b[0;34m(\u001b[0m\u001b[0mepochs\u001b[0m\u001b[0;34m)\u001b[0m\u001b[0;34m:\u001b[0m\u001b[0;34m\u001b[0m\u001b[0m\n\u001b[0;32m----> 3\u001b[0;31m   \u001b[0mmodel\u001b[0m\u001b[0;34m.\u001b[0m\u001b[0mfit_generator\u001b[0m\u001b[0;34m(\u001b[0m\u001b[0mgenerator_value\u001b[0m\u001b[0;34m(\u001b[0m\u001b[0mdata\u001b[0m\u001b[0;34m,\u001b[0m \u001b[0;36m256\u001b[0m\u001b[0;34m)\u001b[0m\u001b[0;34m,\u001b[0m \u001b[0msteps_per_epoch\u001b[0m \u001b[0;34m=\u001b[0m \u001b[0;36m50000\u001b[0m\u001b[0;34m,\u001b[0m \u001b[0mepochs\u001b[0m \u001b[0;34m=\u001b[0m \u001b[0;36m1\u001b[0m\u001b[0;34m)\u001b[0m\u001b[0;34m\u001b[0m\u001b[0m\n\u001b[0m\u001b[1;32m      4\u001b[0m   \u001b[0mmodel\u001b[0m\u001b[0;34m.\u001b[0m\u001b[0msave\u001b[0m\u001b[0;34m(\u001b[0m\u001b[0;34m'value_black256.h5'\u001b[0m\u001b[0;34m)\u001b[0m\u001b[0;34m\u001b[0m\u001b[0m\n\u001b[1;32m      5\u001b[0m   \u001b[0msaver\u001b[0m\u001b[0;34m(\u001b[0m\u001b[0;34m'value_black256'\u001b[0m\u001b[0;34m)\u001b[0m\u001b[0;34m\u001b[0m\u001b[0m\n",
            "\u001b[0;32m/usr/local/lib/python3.6/dist-packages/keras/legacy/interfaces.py\u001b[0m in \u001b[0;36mwrapper\u001b[0;34m(*args, **kwargs)\u001b[0m\n\u001b[1;32m     89\u001b[0m                 warnings.warn('Update your `' + object_name +\n\u001b[1;32m     90\u001b[0m                               '` call to the Keras 2 API: ' + signature, stacklevel=2)\n\u001b[0;32m---> 91\u001b[0;31m             \u001b[0;32mreturn\u001b[0m \u001b[0mfunc\u001b[0m\u001b[0;34m(\u001b[0m\u001b[0;34m*\u001b[0m\u001b[0margs\u001b[0m\u001b[0;34m,\u001b[0m \u001b[0;34m**\u001b[0m\u001b[0mkwargs\u001b[0m\u001b[0;34m)\u001b[0m\u001b[0;34m\u001b[0m\u001b[0m\n\u001b[0m\u001b[1;32m     92\u001b[0m         \u001b[0mwrapper\u001b[0m\u001b[0;34m.\u001b[0m\u001b[0m_original_function\u001b[0m \u001b[0;34m=\u001b[0m \u001b[0mfunc\u001b[0m\u001b[0;34m\u001b[0m\u001b[0m\n\u001b[1;32m     93\u001b[0m         \u001b[0;32mreturn\u001b[0m \u001b[0mwrapper\u001b[0m\u001b[0;34m\u001b[0m\u001b[0m\n",
            "\u001b[0;32m/usr/local/lib/python3.6/dist-packages/keras/models.py\u001b[0m in \u001b[0;36mfit_generator\u001b[0;34m(self, generator, steps_per_epoch, epochs, verbose, callbacks, validation_data, validation_steps, class_weight, max_queue_size, workers, use_multiprocessing, shuffle, initial_epoch)\u001b[0m\n\u001b[1;32m   1313\u001b[0m                                         \u001b[0muse_multiprocessing\u001b[0m\u001b[0;34m=\u001b[0m\u001b[0muse_multiprocessing\u001b[0m\u001b[0;34m,\u001b[0m\u001b[0;34m\u001b[0m\u001b[0m\n\u001b[1;32m   1314\u001b[0m                                         \u001b[0mshuffle\u001b[0m\u001b[0;34m=\u001b[0m\u001b[0mshuffle\u001b[0m\u001b[0;34m,\u001b[0m\u001b[0;34m\u001b[0m\u001b[0m\n\u001b[0;32m-> 1315\u001b[0;31m                                         initial_epoch=initial_epoch)\n\u001b[0m\u001b[1;32m   1316\u001b[0m \u001b[0;34m\u001b[0m\u001b[0m\n\u001b[1;32m   1317\u001b[0m     \u001b[0;34m@\u001b[0m\u001b[0minterfaces\u001b[0m\u001b[0;34m.\u001b[0m\u001b[0mlegacy_generator_methods_support\u001b[0m\u001b[0;34m\u001b[0m\u001b[0m\n",
            "\u001b[0;32m/usr/local/lib/python3.6/dist-packages/keras/legacy/interfaces.py\u001b[0m in \u001b[0;36mwrapper\u001b[0;34m(*args, **kwargs)\u001b[0m\n\u001b[1;32m     89\u001b[0m                 warnings.warn('Update your `' + object_name +\n\u001b[1;32m     90\u001b[0m                               '` call to the Keras 2 API: ' + signature, stacklevel=2)\n\u001b[0;32m---> 91\u001b[0;31m             \u001b[0;32mreturn\u001b[0m \u001b[0mfunc\u001b[0m\u001b[0;34m(\u001b[0m\u001b[0;34m*\u001b[0m\u001b[0margs\u001b[0m\u001b[0;34m,\u001b[0m \u001b[0;34m**\u001b[0m\u001b[0mkwargs\u001b[0m\u001b[0;34m)\u001b[0m\u001b[0;34m\u001b[0m\u001b[0m\n\u001b[0m\u001b[1;32m     92\u001b[0m         \u001b[0mwrapper\u001b[0m\u001b[0;34m.\u001b[0m\u001b[0m_original_function\u001b[0m \u001b[0;34m=\u001b[0m \u001b[0mfunc\u001b[0m\u001b[0;34m\u001b[0m\u001b[0m\n\u001b[1;32m     93\u001b[0m         \u001b[0;32mreturn\u001b[0m \u001b[0mwrapper\u001b[0m\u001b[0;34m\u001b[0m\u001b[0m\n",
            "\u001b[0;32m/usr/local/lib/python3.6/dist-packages/keras/engine/training.py\u001b[0m in \u001b[0;36mfit_generator\u001b[0;34m(self, generator, steps_per_epoch, epochs, verbose, callbacks, validation_data, validation_steps, class_weight, max_queue_size, workers, use_multiprocessing, shuffle, initial_epoch)\u001b[0m\n\u001b[1;32m   2274\u001b[0m             \u001b[0;32mtry\u001b[0m\u001b[0;34m:\u001b[0m\u001b[0;34m\u001b[0m\u001b[0m\n\u001b[1;32m   2275\u001b[0m                 \u001b[0;32mif\u001b[0m \u001b[0menqueuer\u001b[0m \u001b[0;32mis\u001b[0m \u001b[0;32mnot\u001b[0m \u001b[0;32mNone\u001b[0m\u001b[0;34m:\u001b[0m\u001b[0;34m\u001b[0m\u001b[0m\n\u001b[0;32m-> 2276\u001b[0;31m                     \u001b[0menqueuer\u001b[0m\u001b[0;34m.\u001b[0m\u001b[0mstop\u001b[0m\u001b[0;34m(\u001b[0m\u001b[0;34m)\u001b[0m\u001b[0;34m\u001b[0m\u001b[0m\n\u001b[0m\u001b[1;32m   2277\u001b[0m             \u001b[0;32mfinally\u001b[0m\u001b[0;34m:\u001b[0m\u001b[0;34m\u001b[0m\u001b[0m\n\u001b[1;32m   2278\u001b[0m                 \u001b[0;32mif\u001b[0m \u001b[0mval_enqueuer\u001b[0m \u001b[0;32mis\u001b[0m \u001b[0;32mnot\u001b[0m \u001b[0;32mNone\u001b[0m\u001b[0;34m:\u001b[0m\u001b[0;34m\u001b[0m\u001b[0m\n",
            "\u001b[0;32m/usr/local/lib/python3.6/dist-packages/keras/utils/data_utils.py\u001b[0m in \u001b[0;36mstop\u001b[0;34m(self, timeout)\u001b[0m\n\u001b[1;32m    752\u001b[0m                 \u001b[0;31m# join, rendering this test meaningless -> Call thread.join()\u001b[0m\u001b[0;34m\u001b[0m\u001b[0;34m\u001b[0m\u001b[0m\n\u001b[1;32m    753\u001b[0m                 \u001b[0;31m# always, which is ok no matter what the status of the thread.\u001b[0m\u001b[0;34m\u001b[0m\u001b[0;34m\u001b[0m\u001b[0m\n\u001b[0;32m--> 754\u001b[0;31m                 \u001b[0mthread\u001b[0m\u001b[0;34m.\u001b[0m\u001b[0mjoin\u001b[0m\u001b[0;34m(\u001b[0m\u001b[0mtimeout\u001b[0m\u001b[0;34m)\u001b[0m\u001b[0;34m\u001b[0m\u001b[0m\n\u001b[0m\u001b[1;32m    755\u001b[0m \u001b[0;34m\u001b[0m\u001b[0m\n\u001b[1;32m    756\u001b[0m         \u001b[0;32mif\u001b[0m \u001b[0mself\u001b[0m\u001b[0;34m.\u001b[0m\u001b[0m_manager\u001b[0m\u001b[0;34m:\u001b[0m\u001b[0;34m\u001b[0m\u001b[0m\n",
            "\u001b[0;32m/usr/lib/python3.6/threading.py\u001b[0m in \u001b[0;36mjoin\u001b[0;34m(self, timeout)\u001b[0m\n\u001b[1;32m   1054\u001b[0m \u001b[0;34m\u001b[0m\u001b[0m\n\u001b[1;32m   1055\u001b[0m         \u001b[0;32mif\u001b[0m \u001b[0mtimeout\u001b[0m \u001b[0;32mis\u001b[0m \u001b[0;32mNone\u001b[0m\u001b[0;34m:\u001b[0m\u001b[0;34m\u001b[0m\u001b[0m\n\u001b[0;32m-> 1056\u001b[0;31m             \u001b[0mself\u001b[0m\u001b[0;34m.\u001b[0m\u001b[0m_wait_for_tstate_lock\u001b[0m\u001b[0;34m(\u001b[0m\u001b[0;34m)\u001b[0m\u001b[0;34m\u001b[0m\u001b[0m\n\u001b[0m\u001b[1;32m   1057\u001b[0m         \u001b[0;32melse\u001b[0m\u001b[0;34m:\u001b[0m\u001b[0;34m\u001b[0m\u001b[0m\n\u001b[1;32m   1058\u001b[0m             \u001b[0;31m# the behavior of a negative timeout isn't documented, but\u001b[0m\u001b[0;34m\u001b[0m\u001b[0;34m\u001b[0m\u001b[0m\n",
            "\u001b[0;32m/usr/lib/python3.6/threading.py\u001b[0m in \u001b[0;36m_wait_for_tstate_lock\u001b[0;34m(self, block, timeout)\u001b[0m\n\u001b[1;32m   1070\u001b[0m         \u001b[0;32mif\u001b[0m \u001b[0mlock\u001b[0m \u001b[0;32mis\u001b[0m \u001b[0;32mNone\u001b[0m\u001b[0;34m:\u001b[0m  \u001b[0;31m# already determined that the C code is done\u001b[0m\u001b[0;34m\u001b[0m\u001b[0m\n\u001b[1;32m   1071\u001b[0m             \u001b[0;32massert\u001b[0m \u001b[0mself\u001b[0m\u001b[0;34m.\u001b[0m\u001b[0m_is_stopped\u001b[0m\u001b[0;34m\u001b[0m\u001b[0m\n\u001b[0;32m-> 1072\u001b[0;31m         \u001b[0;32melif\u001b[0m \u001b[0mlock\u001b[0m\u001b[0;34m.\u001b[0m\u001b[0macquire\u001b[0m\u001b[0;34m(\u001b[0m\u001b[0mblock\u001b[0m\u001b[0;34m,\u001b[0m \u001b[0mtimeout\u001b[0m\u001b[0;34m)\u001b[0m\u001b[0;34m:\u001b[0m\u001b[0;34m\u001b[0m\u001b[0m\n\u001b[0m\u001b[1;32m   1073\u001b[0m             \u001b[0mlock\u001b[0m\u001b[0;34m.\u001b[0m\u001b[0mrelease\u001b[0m\u001b[0;34m(\u001b[0m\u001b[0;34m)\u001b[0m\u001b[0;34m\u001b[0m\u001b[0m\n\u001b[1;32m   1074\u001b[0m             \u001b[0mself\u001b[0m\u001b[0;34m.\u001b[0m\u001b[0m_stop\u001b[0m\u001b[0;34m(\u001b[0m\u001b[0;34m)\u001b[0m\u001b[0;34m\u001b[0m\u001b[0m\n",
            "\u001b[0;31mKeyboardInterrupt\u001b[0m: "
          ]
        }
      ]
    },
    {
      "metadata": {
        "id": "usH25YY5xoX-",
        "colab_type": "code",
        "colab": {}
      },
      "cell_type": "code",
      "source": [
        "epochs = 4\n",
        "for _ in range(epochs):\n",
        "  model.fit_generator(generator_value(data, 1024), steps_per_epoch = 50000, epochs = 1)\n",
        "  model.save('value_black1024.h5')\n",
        "  saver('value_black1024')"
      ],
      "execution_count": 0,
      "outputs": []
    },
    {
      "metadata": {
        "id": "1kiVZOmByydm",
        "colab_type": "code",
        "colab": {}
      },
      "cell_type": "code",
      "source": [
        "epochs = 5\n",
        "for _ in range(epochs):\n",
        "  model.fit_generator(generator_value(data, 4096), steps_per_epoch = 50000, epochs = 1)\n",
        "  model.save('value_black4096.h5')\n",
        "  saver('value_black4096')"
      ],
      "execution_count": 0,
      "outputs": []
    },
    {
      "metadata": {
        "id": "4dV57z0vtynl",
        "colab_type": "text"
      },
      "cell_type": "markdown",
      "source": [
        "# Fitting policy network"
      ]
    },
    {
      "metadata": {
        "id": "L-GyckJFOvl6",
        "colab_type": "code",
        "colab": {
          "base_uri": "https://localhost:8080/",
          "height": 88
        },
        "outputId": "ef96b987-e2c9-4d02-e994-45df407d5f7d"
      },
      "cell_type": "code",
      "source": [
        "from keras.models import load_model\n",
        "drive.CreateFile({'id': '191FOnjZpHzWkgqU2c1eOxuUuC-qqzM6Z'}).GetContentFile('white1024.h5')\n",
        "model = load_model('white1024.h5')"
      ],
      "execution_count": 12,
      "outputs": [
        {
          "output_type": "stream",
          "text": [
            "Using TensorFlow backend.\n",
            "/usr/local/lib/python3.6/dist-packages/keras/engine/topology.py:1271: UserWarning: The `Merge` layer is deprecated and will be removed after 08/2017. Use instead layers from `keras.layers.merge`, e.g. `add`, `concatenate`, etc.\n",
            "  return cls(**config)\n"
          ],
          "name": "stderr"
        }
      ]
    },
    {
      "metadata": {
        "id": "Vo8TgFU-Pm0Z",
        "colab_type": "code",
        "colab": {
          "base_uri": "https://localhost:8080/",
          "height": 180
        },
        "outputId": "1dbf12d4-64f6-4207-a599-b7102eb507d0"
      },
      "cell_type": "code",
      "source": [
        "model.save('black.h5')\n",
        "saver('black')"
      ],
      "execution_count": 1,
      "outputs": [
        {
          "output_type": "error",
          "ename": "NameError",
          "evalue": "ignored",
          "traceback": [
            "\u001b[0;31m---------------------------------------------------------------------------\u001b[0m",
            "\u001b[0;31mNameError\u001b[0m                                 Traceback (most recent call last)",
            "\u001b[0;32m<ipython-input-1-e1652868c9cf>\u001b[0m in \u001b[0;36m<module>\u001b[0;34m()\u001b[0m\n\u001b[0;32m----> 1\u001b[0;31m \u001b[0mmodel\u001b[0m\u001b[0;34m.\u001b[0m\u001b[0msave\u001b[0m\u001b[0;34m(\u001b[0m\u001b[0;34m'black.h5'\u001b[0m\u001b[0;34m)\u001b[0m\u001b[0;34m\u001b[0m\u001b[0m\n\u001b[0m\u001b[1;32m      2\u001b[0m \u001b[0msaver\u001b[0m\u001b[0;34m(\u001b[0m\u001b[0;34m'black'\u001b[0m\u001b[0;34m)\u001b[0m\u001b[0;34m\u001b[0m\u001b[0m\n",
            "\u001b[0;31mNameError\u001b[0m: name 'model' is not defined"
          ]
        }
      ]
    },
    {
      "metadata": {
        "id": "LkCqo5yfuy2W",
        "colab_type": "code",
        "colab": {
          "base_uri": "https://localhost:8080/",
          "height": 1526
        },
        "outputId": "8403aeb0-428c-43cd-bd71-3b745caf8f0a"
      },
      "cell_type": "code",
      "source": [
        "model.fit_generator(generator_small(black, batch_size = 64), steps_per_epoch = num_states(black) / 128, epochs = 1)\n",
        "model.save('black.h5')\n",
        "saver('black')\n",
        "model.fit_generator(generator_small(black, batch_size = 64), steps_per_epoch = num_states(black) / 128, epochs = 1)\n",
        "model.save('black.h5')\n",
        "saver('black')"
      ],
      "execution_count": 21,
      "outputs": [
        {
          "output_type": "stream",
          "text": [
            "Epoch 1/1\n",
            "138677/138677 [============================>.] - ETA: 0s - loss: 2.3617 - acc: 0.3807"
          ],
          "name": "stdout"
        },
        {
          "output_type": "stream",
          "text": [
            "\b\b\b\b\b\b\b\b\b\b\b\b\b\b\b\b\b\b\b\b\b\b\b\b\b\b\b\b\b\b\b\b\b\b\b\b\b\b\b\b\b\b\b\b\b\b\b\b\b\b\b\b\b\b\b\b\b\b\b\b\b\b\b\b\b\b\b\b\b\b\b\b\b\b\b\b\b\b\b\b\b\b\b\b\b\r138678/138677 [==============================] - 11015s 79ms/step - loss: 2.3617 - acc: 0.3807\n",
            "File ID: 1OPGdU-XcDPRcVDL4CpDQkEVVF_dXxL2C\n",
            "Epoch 1/1\n",
            "   306/138677 [..............................] - ETA: 4:00:49 - loss: 2.2990 - acc: 0.3958"
          ],
          "name": "stdout"
        },
        {
          "output_type": "stream",
          "text": [
            "  2996/138677 [..............................] - ETA: 3:05:22 - loss: 2.2801 - acc: 0.3973"
          ],
          "name": "stdout"
        },
        {
          "output_type": "error",
          "ename": "KeyboardInterrupt",
          "evalue": "ignored",
          "traceback": [
            "\u001b[0;31m---------------------------------------------------------------------------\u001b[0m",
            "\u001b[0;31mKeyboardInterrupt\u001b[0m                         Traceback (most recent call last)",
            "\u001b[0;32m<ipython-input-21-fe81bf1023c5>\u001b[0m in \u001b[0;36m<module>\u001b[0;34m()\u001b[0m\n\u001b[1;32m      2\u001b[0m \u001b[0mmodel\u001b[0m\u001b[0;34m.\u001b[0m\u001b[0msave\u001b[0m\u001b[0;34m(\u001b[0m\u001b[0;34m'black.h5'\u001b[0m\u001b[0;34m)\u001b[0m\u001b[0;34m\u001b[0m\u001b[0m\n\u001b[1;32m      3\u001b[0m \u001b[0msaver\u001b[0m\u001b[0;34m(\u001b[0m\u001b[0;34m'black'\u001b[0m\u001b[0;34m)\u001b[0m\u001b[0;34m\u001b[0m\u001b[0m\n\u001b[0;32m----> 4\u001b[0;31m \u001b[0mmodel\u001b[0m\u001b[0;34m.\u001b[0m\u001b[0mfit_generator\u001b[0m\u001b[0;34m(\u001b[0m\u001b[0mgenerator_small\u001b[0m\u001b[0;34m(\u001b[0m\u001b[0mblack\u001b[0m\u001b[0;34m,\u001b[0m \u001b[0mbatch_size\u001b[0m \u001b[0;34m=\u001b[0m \u001b[0;36m64\u001b[0m\u001b[0;34m)\u001b[0m\u001b[0;34m,\u001b[0m \u001b[0msteps_per_epoch\u001b[0m \u001b[0;34m=\u001b[0m \u001b[0mnum_states\u001b[0m\u001b[0;34m(\u001b[0m\u001b[0mblack\u001b[0m\u001b[0;34m)\u001b[0m \u001b[0;34m/\u001b[0m \u001b[0;36m128\u001b[0m\u001b[0;34m,\u001b[0m \u001b[0mepochs\u001b[0m \u001b[0;34m=\u001b[0m \u001b[0;36m1\u001b[0m\u001b[0;34m)\u001b[0m\u001b[0;34m\u001b[0m\u001b[0m\n\u001b[0m\u001b[1;32m      5\u001b[0m \u001b[0mmodel\u001b[0m\u001b[0;34m.\u001b[0m\u001b[0msave\u001b[0m\u001b[0;34m(\u001b[0m\u001b[0;34m'black.h5'\u001b[0m\u001b[0;34m)\u001b[0m\u001b[0;34m\u001b[0m\u001b[0m\n\u001b[1;32m      6\u001b[0m \u001b[0msaver\u001b[0m\u001b[0;34m(\u001b[0m\u001b[0;34m'black'\u001b[0m\u001b[0;34m)\u001b[0m\u001b[0;34m\u001b[0m\u001b[0m\n",
            "\u001b[0;32m/usr/local/lib/python3.6/dist-packages/keras/legacy/interfaces.py\u001b[0m in \u001b[0;36mwrapper\u001b[0;34m(*args, **kwargs)\u001b[0m\n\u001b[1;32m     89\u001b[0m                 warnings.warn('Update your `' + object_name +\n\u001b[1;32m     90\u001b[0m                               '` call to the Keras 2 API: ' + signature, stacklevel=2)\n\u001b[0;32m---> 91\u001b[0;31m             \u001b[0;32mreturn\u001b[0m \u001b[0mfunc\u001b[0m\u001b[0;34m(\u001b[0m\u001b[0;34m*\u001b[0m\u001b[0margs\u001b[0m\u001b[0;34m,\u001b[0m \u001b[0;34m**\u001b[0m\u001b[0mkwargs\u001b[0m\u001b[0;34m)\u001b[0m\u001b[0;34m\u001b[0m\u001b[0m\n\u001b[0m\u001b[1;32m     92\u001b[0m         \u001b[0mwrapper\u001b[0m\u001b[0;34m.\u001b[0m\u001b[0m_original_function\u001b[0m \u001b[0;34m=\u001b[0m \u001b[0mfunc\u001b[0m\u001b[0;34m\u001b[0m\u001b[0m\n\u001b[1;32m     93\u001b[0m         \u001b[0;32mreturn\u001b[0m \u001b[0mwrapper\u001b[0m\u001b[0;34m\u001b[0m\u001b[0m\n",
            "\u001b[0;32m/usr/local/lib/python3.6/dist-packages/keras/engine/training.py\u001b[0m in \u001b[0;36mfit_generator\u001b[0;34m(self, generator, steps_per_epoch, epochs, verbose, callbacks, validation_data, validation_steps, class_weight, max_queue_size, workers, use_multiprocessing, shuffle, initial_epoch)\u001b[0m\n\u001b[1;32m   2228\u001b[0m                     outs = self.train_on_batch(x, y,\n\u001b[1;32m   2229\u001b[0m                                                \u001b[0msample_weight\u001b[0m\u001b[0;34m=\u001b[0m\u001b[0msample_weight\u001b[0m\u001b[0;34m,\u001b[0m\u001b[0;34m\u001b[0m\u001b[0m\n\u001b[0;32m-> 2230\u001b[0;31m                                                class_weight=class_weight)\n\u001b[0m\u001b[1;32m   2231\u001b[0m \u001b[0;34m\u001b[0m\u001b[0m\n\u001b[1;32m   2232\u001b[0m                     \u001b[0;32mif\u001b[0m \u001b[0;32mnot\u001b[0m \u001b[0misinstance\u001b[0m\u001b[0;34m(\u001b[0m\u001b[0mouts\u001b[0m\u001b[0;34m,\u001b[0m \u001b[0mlist\u001b[0m\u001b[0;34m)\u001b[0m\u001b[0;34m:\u001b[0m\u001b[0;34m\u001b[0m\u001b[0m\n",
            "\u001b[0;32m/usr/local/lib/python3.6/dist-packages/keras/engine/training.py\u001b[0m in \u001b[0;36mtrain_on_batch\u001b[0;34m(self, x, y, sample_weight, class_weight)\u001b[0m\n\u001b[1;32m   1881\u001b[0m             \u001b[0mins\u001b[0m \u001b[0;34m=\u001b[0m \u001b[0mx\u001b[0m \u001b[0;34m+\u001b[0m \u001b[0my\u001b[0m \u001b[0;34m+\u001b[0m \u001b[0msample_weights\u001b[0m\u001b[0;34m\u001b[0m\u001b[0m\n\u001b[1;32m   1882\u001b[0m         \u001b[0mself\u001b[0m\u001b[0;34m.\u001b[0m\u001b[0m_make_train_function\u001b[0m\u001b[0;34m(\u001b[0m\u001b[0;34m)\u001b[0m\u001b[0;34m\u001b[0m\u001b[0m\n\u001b[0;32m-> 1883\u001b[0;31m         \u001b[0moutputs\u001b[0m \u001b[0;34m=\u001b[0m \u001b[0mself\u001b[0m\u001b[0;34m.\u001b[0m\u001b[0mtrain_function\u001b[0m\u001b[0;34m(\u001b[0m\u001b[0mins\u001b[0m\u001b[0;34m)\u001b[0m\u001b[0;34m\u001b[0m\u001b[0m\n\u001b[0m\u001b[1;32m   1884\u001b[0m         \u001b[0;32mif\u001b[0m \u001b[0mlen\u001b[0m\u001b[0;34m(\u001b[0m\u001b[0moutputs\u001b[0m\u001b[0;34m)\u001b[0m \u001b[0;34m==\u001b[0m \u001b[0;36m1\u001b[0m\u001b[0;34m:\u001b[0m\u001b[0;34m\u001b[0m\u001b[0m\n\u001b[1;32m   1885\u001b[0m             \u001b[0;32mreturn\u001b[0m \u001b[0moutputs\u001b[0m\u001b[0;34m[\u001b[0m\u001b[0;36m0\u001b[0m\u001b[0;34m]\u001b[0m\u001b[0;34m\u001b[0m\u001b[0m\n",
            "\u001b[0;32m/usr/local/lib/python3.6/dist-packages/keras/backend/tensorflow_backend.py\u001b[0m in \u001b[0;36m__call__\u001b[0;34m(self, inputs)\u001b[0m\n\u001b[1;32m   2480\u001b[0m         \u001b[0msession\u001b[0m \u001b[0;34m=\u001b[0m \u001b[0mget_session\u001b[0m\u001b[0;34m(\u001b[0m\u001b[0;34m)\u001b[0m\u001b[0;34m\u001b[0m\u001b[0m\n\u001b[1;32m   2481\u001b[0m         updated = session.run(fetches=fetches, feed_dict=feed_dict,\n\u001b[0;32m-> 2482\u001b[0;31m                               **self.session_kwargs)\n\u001b[0m\u001b[1;32m   2483\u001b[0m         \u001b[0;32mreturn\u001b[0m \u001b[0mupdated\u001b[0m\u001b[0;34m[\u001b[0m\u001b[0;34m:\u001b[0m\u001b[0mlen\u001b[0m\u001b[0;34m(\u001b[0m\u001b[0mself\u001b[0m\u001b[0;34m.\u001b[0m\u001b[0moutputs\u001b[0m\u001b[0;34m)\u001b[0m\u001b[0;34m]\u001b[0m\u001b[0;34m\u001b[0m\u001b[0m\n\u001b[1;32m   2484\u001b[0m \u001b[0;34m\u001b[0m\u001b[0m\n",
            "\u001b[0;32m/usr/local/lib/python3.6/dist-packages/tensorflow/python/client/session.py\u001b[0m in \u001b[0;36mrun\u001b[0;34m(self, fetches, feed_dict, options, run_metadata)\u001b[0m\n\u001b[1;32m    898\u001b[0m     \u001b[0;32mtry\u001b[0m\u001b[0;34m:\u001b[0m\u001b[0;34m\u001b[0m\u001b[0m\n\u001b[1;32m    899\u001b[0m       result = self._run(None, fetches, feed_dict, options_ptr,\n\u001b[0;32m--> 900\u001b[0;31m                          run_metadata_ptr)\n\u001b[0m\u001b[1;32m    901\u001b[0m       \u001b[0;32mif\u001b[0m \u001b[0mrun_metadata\u001b[0m\u001b[0;34m:\u001b[0m\u001b[0;34m\u001b[0m\u001b[0m\n\u001b[1;32m    902\u001b[0m         \u001b[0mproto_data\u001b[0m \u001b[0;34m=\u001b[0m \u001b[0mtf_session\u001b[0m\u001b[0;34m.\u001b[0m\u001b[0mTF_GetBuffer\u001b[0m\u001b[0;34m(\u001b[0m\u001b[0mrun_metadata_ptr\u001b[0m\u001b[0;34m)\u001b[0m\u001b[0;34m\u001b[0m\u001b[0m\n",
            "\u001b[0;32m/usr/local/lib/python3.6/dist-packages/tensorflow/python/client/session.py\u001b[0m in \u001b[0;36m_run\u001b[0;34m(self, handle, fetches, feed_dict, options, run_metadata)\u001b[0m\n\u001b[1;32m   1133\u001b[0m     \u001b[0;32mif\u001b[0m \u001b[0mfinal_fetches\u001b[0m \u001b[0;32mor\u001b[0m \u001b[0mfinal_targets\u001b[0m \u001b[0;32mor\u001b[0m \u001b[0;34m(\u001b[0m\u001b[0mhandle\u001b[0m \u001b[0;32mand\u001b[0m \u001b[0mfeed_dict_tensor\u001b[0m\u001b[0;34m)\u001b[0m\u001b[0;34m:\u001b[0m\u001b[0;34m\u001b[0m\u001b[0m\n\u001b[1;32m   1134\u001b[0m       results = self._do_run(handle, final_targets, final_fetches,\n\u001b[0;32m-> 1135\u001b[0;31m                              feed_dict_tensor, options, run_metadata)\n\u001b[0m\u001b[1;32m   1136\u001b[0m     \u001b[0;32melse\u001b[0m\u001b[0;34m:\u001b[0m\u001b[0;34m\u001b[0m\u001b[0m\n\u001b[1;32m   1137\u001b[0m       \u001b[0mresults\u001b[0m \u001b[0;34m=\u001b[0m \u001b[0;34m[\u001b[0m\u001b[0;34m]\u001b[0m\u001b[0;34m\u001b[0m\u001b[0m\n",
            "\u001b[0;32m/usr/local/lib/python3.6/dist-packages/tensorflow/python/client/session.py\u001b[0m in \u001b[0;36m_do_run\u001b[0;34m(self, handle, target_list, fetch_list, feed_dict, options, run_metadata)\u001b[0m\n\u001b[1;32m   1314\u001b[0m     \u001b[0;32mif\u001b[0m \u001b[0mhandle\u001b[0m \u001b[0;32mis\u001b[0m \u001b[0;32mNone\u001b[0m\u001b[0;34m:\u001b[0m\u001b[0;34m\u001b[0m\u001b[0m\n\u001b[1;32m   1315\u001b[0m       return self._do_call(_run_fn, feeds, fetches, targets, options,\n\u001b[0;32m-> 1316\u001b[0;31m                            run_metadata)\n\u001b[0m\u001b[1;32m   1317\u001b[0m     \u001b[0;32melse\u001b[0m\u001b[0;34m:\u001b[0m\u001b[0;34m\u001b[0m\u001b[0m\n\u001b[1;32m   1318\u001b[0m       \u001b[0;32mreturn\u001b[0m \u001b[0mself\u001b[0m\u001b[0;34m.\u001b[0m\u001b[0m_do_call\u001b[0m\u001b[0;34m(\u001b[0m\u001b[0m_prun_fn\u001b[0m\u001b[0;34m,\u001b[0m \u001b[0mhandle\u001b[0m\u001b[0;34m,\u001b[0m \u001b[0mfeeds\u001b[0m\u001b[0;34m,\u001b[0m \u001b[0mfetches\u001b[0m\u001b[0;34m)\u001b[0m\u001b[0;34m\u001b[0m\u001b[0m\n",
            "\u001b[0;32m/usr/local/lib/python3.6/dist-packages/tensorflow/python/client/session.py\u001b[0m in \u001b[0;36m_do_call\u001b[0;34m(self, fn, *args)\u001b[0m\n\u001b[1;32m   1320\u001b[0m   \u001b[0;32mdef\u001b[0m \u001b[0m_do_call\u001b[0m\u001b[0;34m(\u001b[0m\u001b[0mself\u001b[0m\u001b[0;34m,\u001b[0m \u001b[0mfn\u001b[0m\u001b[0;34m,\u001b[0m \u001b[0;34m*\u001b[0m\u001b[0margs\u001b[0m\u001b[0;34m)\u001b[0m\u001b[0;34m:\u001b[0m\u001b[0;34m\u001b[0m\u001b[0m\n\u001b[1;32m   1321\u001b[0m     \u001b[0;32mtry\u001b[0m\u001b[0;34m:\u001b[0m\u001b[0;34m\u001b[0m\u001b[0m\n\u001b[0;32m-> 1322\u001b[0;31m       \u001b[0;32mreturn\u001b[0m \u001b[0mfn\u001b[0m\u001b[0;34m(\u001b[0m\u001b[0;34m*\u001b[0m\u001b[0margs\u001b[0m\u001b[0;34m)\u001b[0m\u001b[0;34m\u001b[0m\u001b[0m\n\u001b[0m\u001b[1;32m   1323\u001b[0m     \u001b[0;32mexcept\u001b[0m \u001b[0merrors\u001b[0m\u001b[0;34m.\u001b[0m\u001b[0mOpError\u001b[0m \u001b[0;32mas\u001b[0m \u001b[0me\u001b[0m\u001b[0;34m:\u001b[0m\u001b[0;34m\u001b[0m\u001b[0m\n\u001b[1;32m   1324\u001b[0m       \u001b[0mmessage\u001b[0m \u001b[0;34m=\u001b[0m \u001b[0mcompat\u001b[0m\u001b[0;34m.\u001b[0m\u001b[0mas_text\u001b[0m\u001b[0;34m(\u001b[0m\u001b[0me\u001b[0m\u001b[0;34m.\u001b[0m\u001b[0mmessage\u001b[0m\u001b[0;34m)\u001b[0m\u001b[0;34m\u001b[0m\u001b[0m\n",
            "\u001b[0;32m/usr/local/lib/python3.6/dist-packages/tensorflow/python/client/session.py\u001b[0m in \u001b[0;36m_run_fn\u001b[0;34m(feed_dict, fetch_list, target_list, options, run_metadata)\u001b[0m\n\u001b[1;32m   1305\u001b[0m       \u001b[0mself\u001b[0m\u001b[0;34m.\u001b[0m\u001b[0m_extend_graph\u001b[0m\u001b[0;34m(\u001b[0m\u001b[0;34m)\u001b[0m\u001b[0;34m\u001b[0m\u001b[0m\n\u001b[1;32m   1306\u001b[0m       return self._call_tf_sessionrun(\n\u001b[0;32m-> 1307\u001b[0;31m           options, feed_dict, fetch_list, target_list, run_metadata)\n\u001b[0m\u001b[1;32m   1308\u001b[0m \u001b[0;34m\u001b[0m\u001b[0m\n\u001b[1;32m   1309\u001b[0m     \u001b[0;32mdef\u001b[0m \u001b[0m_prun_fn\u001b[0m\u001b[0;34m(\u001b[0m\u001b[0mhandle\u001b[0m\u001b[0;34m,\u001b[0m \u001b[0mfeed_dict\u001b[0m\u001b[0;34m,\u001b[0m \u001b[0mfetch_list\u001b[0m\u001b[0;34m)\u001b[0m\u001b[0;34m:\u001b[0m\u001b[0;34m\u001b[0m\u001b[0m\n",
            "\u001b[0;32m/usr/local/lib/python3.6/dist-packages/tensorflow/python/client/session.py\u001b[0m in \u001b[0;36m_call_tf_sessionrun\u001b[0;34m(self, options, feed_dict, fetch_list, target_list, run_metadata)\u001b[0m\n\u001b[1;32m   1407\u001b[0m       return tf_session.TF_SessionRun_wrapper(\n\u001b[1;32m   1408\u001b[0m           \u001b[0mself\u001b[0m\u001b[0;34m.\u001b[0m\u001b[0m_session\u001b[0m\u001b[0;34m,\u001b[0m \u001b[0moptions\u001b[0m\u001b[0;34m,\u001b[0m \u001b[0mfeed_dict\u001b[0m\u001b[0;34m,\u001b[0m \u001b[0mfetch_list\u001b[0m\u001b[0;34m,\u001b[0m \u001b[0mtarget_list\u001b[0m\u001b[0;34m,\u001b[0m\u001b[0;34m\u001b[0m\u001b[0m\n\u001b[0;32m-> 1409\u001b[0;31m           run_metadata)\n\u001b[0m\u001b[1;32m   1410\u001b[0m     \u001b[0;32melse\u001b[0m\u001b[0;34m:\u001b[0m\u001b[0;34m\u001b[0m\u001b[0m\n\u001b[1;32m   1411\u001b[0m       \u001b[0;32mwith\u001b[0m \u001b[0merrors\u001b[0m\u001b[0;34m.\u001b[0m\u001b[0mraise_exception_on_not_ok_status\u001b[0m\u001b[0;34m(\u001b[0m\u001b[0;34m)\u001b[0m \u001b[0;32mas\u001b[0m \u001b[0mstatus\u001b[0m\u001b[0;34m:\u001b[0m\u001b[0;34m\u001b[0m\u001b[0m\n",
            "\u001b[0;31mKeyboardInterrupt\u001b[0m: "
          ]
        }
      ]
    },
    {
      "metadata": {
        "id": "7027f-j7nEeF",
        "colab_type": "code",
        "colab": {
          "base_uri": "https://localhost:8080/",
          "height": 88
        },
        "outputId": "868f8532-e548-41f2-d389-72a2b454dce5"
      },
      "cell_type": "code",
      "source": [
        "model.fit_generator(generator_small(black, batch_size = 128), steps_per_epoch = num_states(black) / 256, epochs = 1)\n",
        "model.save('black.h5')\n",
        "saver('black')\n",
        "#model.fit_generator(generator_small(black, batch_size = 128), steps_per_epoch = num_states(black) / 256, epochs = 1)\n",
        "#model.save('black.h5')\n",
        "#saver('black')"
      ],
      "execution_count": 14,
      "outputs": [
        {
          "output_type": "stream",
          "text": [
            "Epoch 1/1\n",
            " 1083/69338 [..............................] - ETA: 1:53:38 - loss: 2.2454 - acc: 0.4020"
          ],
          "name": "stdout"
        },
        {
          "output_type": "stream",
          "text": [
            " 2154/69338 [..............................] - ETA: 1:50:59 - loss: 2.2346 - acc: 0.4045"
          ],
          "name": "stdout"
        },
        {
          "output_type": "stream",
          "text": [
            " 3355/69338 [>.............................] - ETA: 1:48:44 - loss: 2.2304 - acc: 0.4065"
          ],
          "name": "stdout"
        },
        {
          "output_type": "stream",
          "text": [
            " 4449/69338 [>.............................] - ETA: 1:46:50 - loss: 2.2303 - acc: 0.4064"
          ],
          "name": "stdout"
        },
        {
          "output_type": "stream",
          "text": [
            " 5519/69338 [=>............................] - ETA: 1:45:00 - loss: 2.2454 - acc: 0.4035"
          ],
          "name": "stdout"
        },
        {
          "output_type": "stream",
          "text": [
            " 6751/69338 [=>............................] - ETA: 1:42:56 - loss: 2.2079 - acc: 0.4151"
          ],
          "name": "stdout"
        },
        {
          "output_type": "stream",
          "text": [
            " 7855/69338 [==>...........................] - ETA: 1:41:02 - loss: 2.1801 - acc: 0.4241"
          ],
          "name": "stdout"
        },
        {
          "output_type": "stream",
          "text": [
            " 9007/69338 [==>...........................] - ETA: 1:39:07 - loss: 2.1570 - acc: 0.4312"
          ],
          "name": "stdout"
        },
        {
          "output_type": "stream",
          "text": [
            "10108/69338 [===>..........................] - ETA: 1:37:17 - loss: 2.1458 - acc: 0.4344"
          ],
          "name": "stdout"
        },
        {
          "output_type": "stream",
          "text": [
            "11189/69338 [===>..........................] - ETA: 1:35:29 - loss: 2.1389 - acc: 0.4365"
          ],
          "name": "stdout"
        },
        {
          "output_type": "stream",
          "text": [
            "12287/69338 [====>.........................] - ETA: 1:33:40 - loss: 2.1347 - acc: 0.4381"
          ],
          "name": "stdout"
        },
        {
          "output_type": "stream",
          "text": [
            "13407/69338 [====>.........................] - ETA: 1:31:50 - loss: 2.1368 - acc: 0.4373"
          ],
          "name": "stdout"
        },
        {
          "output_type": "stream",
          "text": [
            "14532/69338 [=====>........................] - ETA: 1:29:59 - loss: 2.1365 - acc: 0.4373"
          ],
          "name": "stdout"
        },
        {
          "output_type": "stream",
          "text": [
            "15616/69338 [=====>........................] - ETA: 1:28:11 - loss: 2.1382 - acc: 0.4366"
          ],
          "name": "stdout"
        },
        {
          "output_type": "stream",
          "text": [
            "16731/69338 [======>.......................] - ETA: 1:26:21 - loss: 2.1388 - acc: 0.4363"
          ],
          "name": "stdout"
        },
        {
          "output_type": "stream",
          "text": [
            "17898/69338 [======>.......................] - ETA: 1:24:25 - loss: 2.1382 - acc: 0.4368"
          ],
          "name": "stdout"
        },
        {
          "output_type": "stream",
          "text": [
            "19040/69338 [=======>......................] - ETA: 1:22:32 - loss: 2.1355 - acc: 0.4378"
          ],
          "name": "stdout"
        },
        {
          "output_type": "stream",
          "text": [
            "20164/69338 [=======>......................] - ETA: 1:20:41 - loss: 2.1319 - acc: 0.4386"
          ],
          "name": "stdout"
        },
        {
          "output_type": "stream",
          "text": [
            "21261/69338 [========>.....................] - ETA: 1:18:54 - loss: 2.1269 - acc: 0.4400"
          ],
          "name": "stdout"
        },
        {
          "output_type": "stream",
          "text": [
            "22406/69338 [========>.....................] - ETA: 1:17:01 - loss: 2.1292 - acc: 0.4393"
          ],
          "name": "stdout"
        },
        {
          "output_type": "stream",
          "text": [
            "23472/69338 [=========>....................] - ETA: 1:15:16 - loss: 2.1303 - acc: 0.4389"
          ],
          "name": "stdout"
        },
        {
          "output_type": "stream",
          "text": [
            "24570/69338 [=========>....................] - ETA: 1:13:28 - loss: 2.1272 - acc: 0.4396"
          ],
          "name": "stdout"
        },
        {
          "output_type": "stream",
          "text": [
            "25666/69338 [==========>...................] - ETA: 1:11:40 - loss: 2.1283 - acc: 0.4392"
          ],
          "name": "stdout"
        },
        {
          "output_type": "stream",
          "text": [
            "26804/69338 [==========>...................] - ETA: 1:09:48 - loss: 2.1302 - acc: 0.4386"
          ],
          "name": "stdout"
        },
        {
          "output_type": "stream",
          "text": [
            "27954/69338 [===========>..................] - ETA: 1:07:56 - loss: 2.1311 - acc: 0.4385"
          ],
          "name": "stdout"
        },
        {
          "output_type": "stream",
          "text": [
            "29045/69338 [===========>..................] - ETA: 1:06:09 - loss: 2.1266 - acc: 0.4399"
          ],
          "name": "stdout"
        },
        {
          "output_type": "stream",
          "text": [
            "30204/69338 [============>.................] - ETA: 1:04:15 - loss: 2.1202 - acc: 0.4422"
          ],
          "name": "stdout"
        },
        {
          "output_type": "stream",
          "text": [
            "31290/69338 [============>.................] - ETA: 1:02:28 - loss: 2.1147 - acc: 0.4443"
          ],
          "name": "stdout"
        },
        {
          "output_type": "stream",
          "text": [
            "32419/69338 [=============>................] - ETA: 1:00:36 - loss: 2.1113 - acc: 0.4456"
          ],
          "name": "stdout"
        },
        {
          "output_type": "stream",
          "text": [
            "33508/69338 [=============>................] - ETA: 58:49 - loss: 2.1066 - acc: 0.4472"
          ],
          "name": "stdout"
        },
        {
          "output_type": "stream",
          "text": [
            "34664/69338 [=============>................] - ETA: 56:56 - loss: 2.1028 - acc: 0.4485"
          ],
          "name": "stdout"
        },
        {
          "output_type": "stream",
          "text": [
            "35796/69338 [==============>...............] - ETA: 55:04 - loss: 2.0998 - acc: 0.4498"
          ],
          "name": "stdout"
        },
        {
          "output_type": "stream",
          "text": [
            "36890/69338 [==============>...............] - ETA: 53:17 - loss: 2.0972 - acc: 0.4506"
          ],
          "name": "stdout"
        },
        {
          "output_type": "stream",
          "text": [
            "38028/69338 [===============>..............] - ETA: 51:25 - loss: 2.0931 - acc: 0.4521"
          ],
          "name": "stdout"
        },
        {
          "output_type": "stream",
          "text": [
            "39112/69338 [===============>..............] - ETA: 49:38 - loss: 2.0907 - acc: 0.4530"
          ],
          "name": "stdout"
        },
        {
          "output_type": "stream",
          "text": [
            "40264/69338 [================>.............] - ETA: 47:45 - loss: 2.0885 - acc: 0.4538"
          ],
          "name": "stdout"
        },
        {
          "output_type": "stream",
          "text": [
            "41400/69338 [================>.............] - ETA: 45:53 - loss: 2.0854 - acc: 0.4549"
          ],
          "name": "stdout"
        },
        {
          "output_type": "stream",
          "text": [
            "42524/69338 [=================>............] - ETA: 44:02 - loss: 2.0831 - acc: 0.4557"
          ],
          "name": "stdout"
        },
        {
          "output_type": "stream",
          "text": [
            "43631/69338 [=================>............] - ETA: 42:13 - loss: 2.0803 - acc: 0.4568"
          ],
          "name": "stdout"
        },
        {
          "output_type": "stream",
          "text": [
            "44799/69338 [==================>...........] - ETA: 40:18 - loss: 2.0785 - acc: 0.4574"
          ],
          "name": "stdout"
        },
        {
          "output_type": "stream",
          "text": [
            "45908/69338 [==================>...........] - ETA: 38:29 - loss: 2.0786 - acc: 0.4573"
          ],
          "name": "stdout"
        },
        {
          "output_type": "stream",
          "text": [
            "47009/69338 [===================>..........] - ETA: 36:40 - loss: 2.0799 - acc: 0.4567"
          ],
          "name": "stdout"
        },
        {
          "output_type": "stream",
          "text": [
            "48212/69338 [===================>..........] - ETA: 34:42 - loss: 2.0819 - acc: 0.4559"
          ],
          "name": "stdout"
        },
        {
          "output_type": "stream",
          "text": [
            "49382/69338 [====================>.........] - ETA: 32:46 - loss: 2.0812 - acc: 0.4562"
          ],
          "name": "stdout"
        },
        {
          "output_type": "stream",
          "text": [
            "50661/69338 [====================>.........] - ETA: 30:40 - loss: 2.0828 - acc: 0.4559"
          ],
          "name": "stdout"
        },
        {
          "output_type": "stream",
          "text": [
            "51807/69338 [=====================>........] - ETA: 28:47 - loss: 2.0838 - acc: 0.4554"
          ],
          "name": "stdout"
        },
        {
          "output_type": "stream",
          "text": [
            "52942/69338 [=====================>........] - ETA: 26:55 - loss: 2.0838 - acc: 0.4553"
          ],
          "name": "stdout"
        },
        {
          "output_type": "stream",
          "text": [
            "54065/69338 [======================>.......] - ETA: 25:05 - loss: 2.0813 - acc: 0.4561"
          ],
          "name": "stdout"
        },
        {
          "output_type": "stream",
          "text": [
            "55170/69338 [======================>.......] - ETA: 23:16 - loss: 2.0789 - acc: 0.4568"
          ],
          "name": "stdout"
        },
        {
          "output_type": "stream",
          "text": [
            "56277/69338 [=======================>......] - ETA: 21:27 - loss: 2.0758 - acc: 0.4578"
          ],
          "name": "stdout"
        },
        {
          "output_type": "stream",
          "text": [
            "57365/69338 [=======================>......] - ETA: 19:40 - loss: 2.0731 - acc: 0.4585"
          ],
          "name": "stdout"
        },
        {
          "output_type": "stream",
          "text": [
            "58468/69338 [========================>.....] - ETA: 17:51 - loss: 2.0676 - acc: 0.4602"
          ],
          "name": "stdout"
        },
        {
          "output_type": "stream",
          "text": [
            "59593/69338 [========================>.....] - ETA: 16:00 - loss: 2.0626 - acc: 0.4617"
          ],
          "name": "stdout"
        },
        {
          "output_type": "stream",
          "text": [
            "60716/69338 [=========================>....] - ETA: 14:09 - loss: 2.0567 - acc: 0.4635"
          ],
          "name": "stdout"
        },
        {
          "output_type": "stream",
          "text": [
            "61816/69338 [=========================>....] - ETA: 12:21 - loss: 2.0538 - acc: 0.4644"
          ],
          "name": "stdout"
        },
        {
          "output_type": "stream",
          "text": [
            "62933/69338 [==========================>...] - ETA: 10:31 - loss: 2.0499 - acc: 0.4655"
          ],
          "name": "stdout"
        },
        {
          "output_type": "stream",
          "text": [
            "64048/69338 [==========================>...] - ETA: 8:41 - loss: 2.0455 - acc: 0.4669"
          ],
          "name": "stdout"
        },
        {
          "output_type": "stream",
          "text": [
            "65186/69338 [===========================>..] - ETA: 6:49 - loss: 2.0422 - acc: 0.4679"
          ],
          "name": "stdout"
        },
        {
          "output_type": "stream",
          "text": [
            "66307/69338 [===========================>..] - ETA: 4:58 - loss: 2.0385 - acc: 0.4690"
          ],
          "name": "stdout"
        },
        {
          "output_type": "stream",
          "text": [
            "67508/69338 [============================>.] - ETA: 3:00 - loss: 2.0349 - acc: 0.4701"
          ],
          "name": "stdout"
        },
        {
          "output_type": "stream",
          "text": [
            "68689/69338 [============================>.] - ETA: 1:04 - loss: 2.0348 - acc: 0.4701"
          ],
          "name": "stdout"
        },
        {
          "output_type": "stream",
          "text": [
            "69339/69338 [==============================] - 6836s 99ms/step - loss: 2.0352 - acc: 0.4700\n",
            "File ID: 1_AMGZhdETlhlj-7bdrcAixFw3cWtWYf5\n"
          ],
          "name": "stdout"
        }
      ]
    },
    {
      "metadata": {
        "id": "N0vY9P37Wt1A",
        "colab_type": "code",
        "colab": {
          "base_uri": "https://localhost:8080/",
          "height": 68
        },
        "outputId": "ca0379e4-a02b-4e7c-d691-39bb45a545ce"
      },
      "cell_type": "code",
      "source": [
        "model.fit_generator(generator_small(black, batch_size = 256), steps_per_epoch = num_states(black) / 256, epochs = 1)\n",
        "model.save('black256.h5')\n",
        "saver('black256')"
      ],
      "execution_count": 15,
      "outputs": [
        {
          "output_type": "stream",
          "text": [
            "Epoch 1/1\n",
            "69338/69338 [============================>.] - ETA: 0s - loss: 2.0496 - acc: 0.4618"
          ],
          "name": "stdout"
        },
        {
          "output_type": "stream",
          "text": [
            "\b\b\b\b\b\b\b\b\b\b\b\b\b\b\b\b\b\b\b\b\b\b\b\b\b\b\b\b\b\b\b\b\b\b\b\b\b\b\b\b\b\b\b\b\b\b\b\b\b\b\b\b\b\b\b\b\b\b\b\b\b\b\b\b\b\b\b\b\b\b\b\b\b\b\b\b\b\b\b\b\b\b\b\r69339/69338 [==============================] - 11497s 166ms/step - loss: 2.0496 - acc: 0.4618\n",
            "File ID: 1l9_pwPWox3nW_OuJASYtxHp-sD0q5CCw\n"
          ],
          "name": "stdout"
        }
      ]
    },
    {
      "metadata": {
        "id": "kcfHL48-W8Mg",
        "colab_type": "code",
        "colab": {
          "base_uri": "https://localhost:8080/",
          "height": 68
        },
        "outputId": "0a4c7f7e-2469-4ae8-df9b-3cb45f040f75"
      },
      "cell_type": "code",
      "source": [
        "model.fit_generator(generator_small(black, batch_size = 1024), steps_per_epoch = num_states(black) / 1024, epochs = 1)\n",
        "model.save('black1024.h5')\n",
        "saver('black1024')"
      ],
      "execution_count": 16,
      "outputs": [
        {
          "output_type": "stream",
          "text": [
            "Epoch 1/1\n",
            "17334/17334 [============================>.] - ETA: 0s - loss: 2.0357 - acc: 0.4619"
          ],
          "name": "stdout"
        },
        {
          "output_type": "stream",
          "text": [
            "\b\b\b\b\b\b\b\b\b\b\b\b\b\b\b\b\b\b\b\b\b\b\b\b\b\b\b\b\b\b\b\b\b\b\b\b\b\b\b\b\b\b\b\b\b\b\b\b\b\b\b\b\b\b\b\b\b\b\b\b\b\b\b\b\b\b\b\b\b\b\b\b\b\b\b\b\b\b\b\b\b\b\b\r17335/17334 [==============================] - 9710s 560ms/step - loss: 2.0357 - acc: 0.4619\n",
            "File ID: 14yZad6_8-TGsHDPAqYaqNKGyiEMZlXJm\n"
          ],
          "name": "stdout"
        }
      ]
    },
    {
      "metadata": {
        "id": "iPGlB7x6r5vY",
        "colab_type": "code",
        "colab": {
          "base_uri": "https://localhost:8080/",
          "height": 2930
        },
        "outputId": "2cc8e43c-6eba-403b-d825-04b1a93e2f0a"
      },
      "cell_type": "code",
      "source": [
        "model.fit_generator(generator_small(black, batch_size = 4096), steps_per_epoch = num_states(black) / 4096, epochs = 1)\n",
        "model.save('black4096.h5')\n",
        "saver('black4096')"
      ],
      "execution_count": 14,
      "outputs": [
        {
          "output_type": "stream",
          "text": [
            "Epoch 1/1\n"
          ],
          "name": "stdout"
        },
        {
          "output_type": "stream",
          "text": [
            "ERROR:root:Internal Python error in the inspect module.\n",
            "Below is the traceback from this internal error.\n",
            "\n"
          ],
          "name": "stderr"
        },
        {
          "output_type": "stream",
          "text": [
            "Traceback (most recent call last):\n",
            "  File \"/usr/local/lib/python3.6/dist-packages/keras/engine/training.py\", line 2194, in fit_generator\n",
            "    generator_output = next(output_generator)\n",
            "  File \"/usr/local/lib/python3.6/dist-packages/keras/utils/data_utils.py\", line 787, in get\n",
            "    time.sleep(self.wait_time)\n",
            "KeyboardInterrupt\n",
            "\n",
            "During handling of the above exception, another exception occurred:\n",
            "\n",
            "Traceback (most recent call last):\n",
            "  File \"/usr/local/lib/python3.6/dist-packages/IPython/core/interactiveshell.py\", line 2882, in run_code\n",
            "    exec(code_obj, self.user_global_ns, self.user_ns)\n",
            "  File \"<ipython-input-14-7cf19b8108a8>\", line 1, in <module>\n",
            "    model.fit_generator(generator_small(black, batch_size = 4096), steps_per_epoch = num_states(black) / 4096, epochs = 1)\n",
            "  File \"/usr/local/lib/python3.6/dist-packages/keras/legacy/interfaces.py\", line 91, in wrapper\n",
            "    return func(*args, **kwargs)\n",
            "  File \"/usr/local/lib/python3.6/dist-packages/keras/engine/training.py\", line 2276, in fit_generator\n",
            "    enqueuer.stop()\n",
            "  File \"/usr/local/lib/python3.6/dist-packages/keras/utils/data_utils.py\", line 754, in stop\n",
            "    thread.join(timeout)\n",
            "  File \"/usr/lib/python3.6/threading.py\", line 1056, in join\n",
            "    self._wait_for_tstate_lock()\n",
            "  File \"/usr/lib/python3.6/threading.py\", line 1072, in _wait_for_tstate_lock\n",
            "    elif lock.acquire(block, timeout):\n",
            "KeyboardInterrupt\n",
            "\n",
            "During handling of the above exception, another exception occurred:\n",
            "\n",
            "Traceback (most recent call last):\n",
            "  File \"/usr/local/lib/python3.6/dist-packages/IPython/core/interactiveshell.py\", line 1823, in showtraceback\n",
            "    stb = value._render_traceback_()\n",
            "AttributeError: 'KeyboardInterrupt' object has no attribute '_render_traceback_'\n",
            "\n",
            "During handling of the above exception, another exception occurred:\n",
            "\n",
            "Traceback (most recent call last):\n",
            "  File \"/usr/local/lib/python3.6/dist-packages/IPython/core/ultratb.py\", line 1132, in get_records\n",
            "    return _fixed_getinnerframes(etb, number_of_lines_of_context, tb_offset)\n",
            "  File \"/usr/local/lib/python3.6/dist-packages/IPython/core/ultratb.py\", line 313, in wrapped\n",
            "    return f(*args, **kwargs)\n",
            "  File \"/usr/local/lib/python3.6/dist-packages/IPython/core/ultratb.py\", line 358, in _fixed_getinnerframes\n",
            "    records = fix_frame_records_filenames(inspect.getinnerframes(etb, context))\n",
            "  File \"/usr/lib/python3.6/inspect.py\", line 1480, in getinnerframes\n",
            "    frameinfo = (tb.tb_frame,) + getframeinfo(tb, context)\n",
            "  File \"/usr/lib/python3.6/inspect.py\", line 1438, in getframeinfo\n",
            "    filename = getsourcefile(frame) or getfile(frame)\n",
            "  File \"/usr/lib/python3.6/inspect.py\", line 693, in getsourcefile\n",
            "    if getattr(getmodule(object, filename), '__loader__', None) is not None:\n",
            "  File \"/usr/lib/python3.6/inspect.py\", line 736, in getmodule\n",
            "    f = getabsfile(module)\n",
            "  File \"/usr/lib/python3.6/inspect.py\", line 705, in getabsfile\n",
            "    _filename = getsourcefile(object) or getfile(object)\n",
            "  File \"/usr/lib/python3.6/inspect.py\", line 690, in getsourcefile\n",
            "    if os.path.exists(filename):\n",
            "  File \"/usr/lib/python3.6/genericpath.py\", line 19, in exists\n",
            "    os.stat(path)\n",
            "KeyboardInterrupt\n"
          ],
          "name": "stdout"
        },
        {
          "output_type": "error",
          "ename": "TypeError",
          "evalue": "ignored",
          "traceback": [
            "\u001b[0;31m---------------------------------------------------------------------------\u001b[0m",
            "\u001b[0;31mKeyboardInterrupt\u001b[0m                         Traceback (most recent call last)",
            "\u001b[0;32m/usr/local/lib/python3.6/dist-packages/keras/engine/training.py\u001b[0m in \u001b[0;36mfit_generator\u001b[0;34m(self, generator, steps_per_epoch, epochs, verbose, callbacks, validation_data, validation_steps, class_weight, max_queue_size, workers, use_multiprocessing, shuffle, initial_epoch)\u001b[0m\n\u001b[1;32m   2193\u001b[0m                 \u001b[0;32mwhile\u001b[0m \u001b[0msteps_done\u001b[0m \u001b[0;34m<\u001b[0m \u001b[0msteps_per_epoch\u001b[0m\u001b[0;34m:\u001b[0m\u001b[0;34m\u001b[0m\u001b[0m\n\u001b[0;32m-> 2194\u001b[0;31m                     \u001b[0mgenerator_output\u001b[0m \u001b[0;34m=\u001b[0m \u001b[0mnext\u001b[0m\u001b[0;34m(\u001b[0m\u001b[0moutput_generator\u001b[0m\u001b[0;34m)\u001b[0m\u001b[0;34m\u001b[0m\u001b[0m\n\u001b[0m\u001b[1;32m   2195\u001b[0m \u001b[0;34m\u001b[0m\u001b[0m\n",
            "\u001b[0;32m/usr/local/lib/python3.6/dist-packages/keras/utils/data_utils.py\u001b[0m in \u001b[0;36mget\u001b[0;34m(self)\u001b[0m\n\u001b[1;32m    786\u001b[0m                 \u001b[0;32melse\u001b[0m\u001b[0;34m:\u001b[0m\u001b[0;34m\u001b[0m\u001b[0m\n\u001b[0;32m--> 787\u001b[0;31m                     \u001b[0mtime\u001b[0m\u001b[0;34m.\u001b[0m\u001b[0msleep\u001b[0m\u001b[0;34m(\u001b[0m\u001b[0mself\u001b[0m\u001b[0;34m.\u001b[0m\u001b[0mwait_time\u001b[0m\u001b[0;34m)\u001b[0m\u001b[0;34m\u001b[0m\u001b[0m\n\u001b[0m\u001b[1;32m    788\u001b[0m \u001b[0;34m\u001b[0m\u001b[0m\n",
            "\u001b[0;31mKeyboardInterrupt\u001b[0m: ",
            "\nDuring handling of the above exception, another exception occurred:\n",
            "\u001b[0;31mKeyboardInterrupt\u001b[0m                         Traceback (most recent call last)",
            "\u001b[0;32m/usr/local/lib/python3.6/dist-packages/IPython/core/interactiveshell.py\u001b[0m in \u001b[0;36mrun_code\u001b[0;34m(self, code_obj, result)\u001b[0m\n\u001b[1;32m   2881\u001b[0m                 \u001b[0;31m#rprint('Running code', repr(code_obj)) # dbg\u001b[0m\u001b[0;34m\u001b[0m\u001b[0;34m\u001b[0m\u001b[0m\n\u001b[0;32m-> 2882\u001b[0;31m                 \u001b[0mexec\u001b[0m\u001b[0;34m(\u001b[0m\u001b[0mcode_obj\u001b[0m\u001b[0;34m,\u001b[0m \u001b[0mself\u001b[0m\u001b[0;34m.\u001b[0m\u001b[0muser_global_ns\u001b[0m\u001b[0;34m,\u001b[0m \u001b[0mself\u001b[0m\u001b[0;34m.\u001b[0m\u001b[0muser_ns\u001b[0m\u001b[0;34m)\u001b[0m\u001b[0;34m\u001b[0m\u001b[0m\n\u001b[0m\u001b[1;32m   2883\u001b[0m             \u001b[0;32mfinally\u001b[0m\u001b[0;34m:\u001b[0m\u001b[0;34m\u001b[0m\u001b[0m\n",
            "\u001b[0;32m<ipython-input-14-7cf19b8108a8>\u001b[0m in \u001b[0;36m<module>\u001b[0;34m()\u001b[0m\n\u001b[0;32m----> 1\u001b[0;31m \u001b[0mmodel\u001b[0m\u001b[0;34m.\u001b[0m\u001b[0mfit_generator\u001b[0m\u001b[0;34m(\u001b[0m\u001b[0mgenerator_small\u001b[0m\u001b[0;34m(\u001b[0m\u001b[0mblack\u001b[0m\u001b[0;34m,\u001b[0m \u001b[0mbatch_size\u001b[0m \u001b[0;34m=\u001b[0m \u001b[0;36m4096\u001b[0m\u001b[0;34m)\u001b[0m\u001b[0;34m,\u001b[0m \u001b[0msteps_per_epoch\u001b[0m \u001b[0;34m=\u001b[0m \u001b[0mnum_states\u001b[0m\u001b[0;34m(\u001b[0m\u001b[0mblack\u001b[0m\u001b[0;34m)\u001b[0m \u001b[0;34m/\u001b[0m \u001b[0;36m4096\u001b[0m\u001b[0;34m,\u001b[0m \u001b[0mepochs\u001b[0m \u001b[0;34m=\u001b[0m \u001b[0;36m1\u001b[0m\u001b[0;34m)\u001b[0m\u001b[0;34m\u001b[0m\u001b[0m\n\u001b[0m\u001b[1;32m      2\u001b[0m \u001b[0mmodel\u001b[0m\u001b[0;34m.\u001b[0m\u001b[0msave\u001b[0m\u001b[0;34m(\u001b[0m\u001b[0;34m'black4096.h5'\u001b[0m\u001b[0;34m)\u001b[0m\u001b[0;34m\u001b[0m\u001b[0m\n\u001b[1;32m      3\u001b[0m \u001b[0msaver\u001b[0m\u001b[0;34m(\u001b[0m\u001b[0;34m'black4096'\u001b[0m\u001b[0;34m)\u001b[0m\u001b[0;34m\u001b[0m\u001b[0m\n",
            "\u001b[0;32m/usr/local/lib/python3.6/dist-packages/keras/legacy/interfaces.py\u001b[0m in \u001b[0;36mwrapper\u001b[0;34m(*args, **kwargs)\u001b[0m\n\u001b[1;32m     90\u001b[0m                               '` call to the Keras 2 API: ' + signature, stacklevel=2)\n\u001b[0;32m---> 91\u001b[0;31m             \u001b[0;32mreturn\u001b[0m \u001b[0mfunc\u001b[0m\u001b[0;34m(\u001b[0m\u001b[0;34m*\u001b[0m\u001b[0margs\u001b[0m\u001b[0;34m,\u001b[0m \u001b[0;34m**\u001b[0m\u001b[0mkwargs\u001b[0m\u001b[0;34m)\u001b[0m\u001b[0;34m\u001b[0m\u001b[0m\n\u001b[0m\u001b[1;32m     92\u001b[0m         \u001b[0mwrapper\u001b[0m\u001b[0;34m.\u001b[0m\u001b[0m_original_function\u001b[0m \u001b[0;34m=\u001b[0m \u001b[0mfunc\u001b[0m\u001b[0;34m\u001b[0m\u001b[0m\n",
            "\u001b[0;32m/usr/local/lib/python3.6/dist-packages/keras/engine/training.py\u001b[0m in \u001b[0;36mfit_generator\u001b[0;34m(self, generator, steps_per_epoch, epochs, verbose, callbacks, validation_data, validation_steps, class_weight, max_queue_size, workers, use_multiprocessing, shuffle, initial_epoch)\u001b[0m\n\u001b[1;32m   2275\u001b[0m                 \u001b[0;32mif\u001b[0m \u001b[0menqueuer\u001b[0m \u001b[0;32mis\u001b[0m \u001b[0;32mnot\u001b[0m \u001b[0;32mNone\u001b[0m\u001b[0;34m:\u001b[0m\u001b[0;34m\u001b[0m\u001b[0m\n\u001b[0;32m-> 2276\u001b[0;31m                     \u001b[0menqueuer\u001b[0m\u001b[0;34m.\u001b[0m\u001b[0mstop\u001b[0m\u001b[0;34m(\u001b[0m\u001b[0;34m)\u001b[0m\u001b[0;34m\u001b[0m\u001b[0m\n\u001b[0m\u001b[1;32m   2277\u001b[0m             \u001b[0;32mfinally\u001b[0m\u001b[0;34m:\u001b[0m\u001b[0;34m\u001b[0m\u001b[0m\n",
            "\u001b[0;32m/usr/local/lib/python3.6/dist-packages/keras/utils/data_utils.py\u001b[0m in \u001b[0;36mstop\u001b[0;34m(self, timeout)\u001b[0m\n\u001b[1;32m    753\u001b[0m                 \u001b[0;31m# always, which is ok no matter what the status of the thread.\u001b[0m\u001b[0;34m\u001b[0m\u001b[0;34m\u001b[0m\u001b[0m\n\u001b[0;32m--> 754\u001b[0;31m                 \u001b[0mthread\u001b[0m\u001b[0;34m.\u001b[0m\u001b[0mjoin\u001b[0m\u001b[0;34m(\u001b[0m\u001b[0mtimeout\u001b[0m\u001b[0;34m)\u001b[0m\u001b[0;34m\u001b[0m\u001b[0m\n\u001b[0m\u001b[1;32m    755\u001b[0m \u001b[0;34m\u001b[0m\u001b[0m\n",
            "\u001b[0;32m/usr/lib/python3.6/threading.py\u001b[0m in \u001b[0;36mjoin\u001b[0;34m(self, timeout)\u001b[0m\n\u001b[1;32m   1055\u001b[0m         \u001b[0;32mif\u001b[0m \u001b[0mtimeout\u001b[0m \u001b[0;32mis\u001b[0m \u001b[0;32mNone\u001b[0m\u001b[0;34m:\u001b[0m\u001b[0;34m\u001b[0m\u001b[0m\n\u001b[0;32m-> 1056\u001b[0;31m             \u001b[0mself\u001b[0m\u001b[0;34m.\u001b[0m\u001b[0m_wait_for_tstate_lock\u001b[0m\u001b[0;34m(\u001b[0m\u001b[0;34m)\u001b[0m\u001b[0;34m\u001b[0m\u001b[0m\n\u001b[0m\u001b[1;32m   1057\u001b[0m         \u001b[0;32melse\u001b[0m\u001b[0;34m:\u001b[0m\u001b[0;34m\u001b[0m\u001b[0m\n",
            "\u001b[0;32m/usr/lib/python3.6/threading.py\u001b[0m in \u001b[0;36m_wait_for_tstate_lock\u001b[0;34m(self, block, timeout)\u001b[0m\n\u001b[1;32m   1071\u001b[0m             \u001b[0;32massert\u001b[0m \u001b[0mself\u001b[0m\u001b[0;34m.\u001b[0m\u001b[0m_is_stopped\u001b[0m\u001b[0;34m\u001b[0m\u001b[0m\n\u001b[0;32m-> 1072\u001b[0;31m         \u001b[0;32melif\u001b[0m \u001b[0mlock\u001b[0m\u001b[0;34m.\u001b[0m\u001b[0macquire\u001b[0m\u001b[0;34m(\u001b[0m\u001b[0mblock\u001b[0m\u001b[0;34m,\u001b[0m \u001b[0mtimeout\u001b[0m\u001b[0;34m)\u001b[0m\u001b[0;34m:\u001b[0m\u001b[0;34m\u001b[0m\u001b[0m\n\u001b[0m\u001b[1;32m   1073\u001b[0m             \u001b[0mlock\u001b[0m\u001b[0;34m.\u001b[0m\u001b[0mrelease\u001b[0m\u001b[0;34m(\u001b[0m\u001b[0;34m)\u001b[0m\u001b[0;34m\u001b[0m\u001b[0m\n",
            "\u001b[0;31mKeyboardInterrupt\u001b[0m: ",
            "\nDuring handling of the above exception, another exception occurred:\n",
            "\u001b[0;31mAttributeError\u001b[0m                            Traceback (most recent call last)",
            "\u001b[0;32m/usr/local/lib/python3.6/dist-packages/IPython/core/interactiveshell.py\u001b[0m in \u001b[0;36mshowtraceback\u001b[0;34m(self, exc_tuple, filename, tb_offset, exception_only)\u001b[0m\n\u001b[1;32m   1822\u001b[0m                         \u001b[0;31m# in the engines. This should return a list of strings.\u001b[0m\u001b[0;34m\u001b[0m\u001b[0;34m\u001b[0m\u001b[0m\n\u001b[0;32m-> 1823\u001b[0;31m                         \u001b[0mstb\u001b[0m \u001b[0;34m=\u001b[0m \u001b[0mvalue\u001b[0m\u001b[0;34m.\u001b[0m\u001b[0m_render_traceback_\u001b[0m\u001b[0;34m(\u001b[0m\u001b[0;34m)\u001b[0m\u001b[0;34m\u001b[0m\u001b[0m\n\u001b[0m\u001b[1;32m   1824\u001b[0m                     \u001b[0;32mexcept\u001b[0m \u001b[0mException\u001b[0m\u001b[0;34m:\u001b[0m\u001b[0;34m\u001b[0m\u001b[0m\n",
            "\u001b[0;31mAttributeError\u001b[0m: 'KeyboardInterrupt' object has no attribute '_render_traceback_'",
            "\nDuring handling of the above exception, another exception occurred:\n",
            "\u001b[0;31mTypeError\u001b[0m                                 Traceback (most recent call last)",
            "\u001b[0;32m/usr/local/lib/python3.6/dist-packages/IPython/core/interactiveshell.py\u001b[0m in \u001b[0;36mrun_code\u001b[0;34m(self, code_obj, result)\u001b[0m\n\u001b[1;32m   2897\u001b[0m             \u001b[0;32mif\u001b[0m \u001b[0mresult\u001b[0m \u001b[0;32mis\u001b[0m \u001b[0;32mnot\u001b[0m \u001b[0;32mNone\u001b[0m\u001b[0;34m:\u001b[0m\u001b[0;34m\u001b[0m\u001b[0m\n\u001b[1;32m   2898\u001b[0m                 \u001b[0mresult\u001b[0m\u001b[0;34m.\u001b[0m\u001b[0merror_in_exec\u001b[0m \u001b[0;34m=\u001b[0m \u001b[0msys\u001b[0m\u001b[0;34m.\u001b[0m\u001b[0mexc_info\u001b[0m\u001b[0;34m(\u001b[0m\u001b[0;34m)\u001b[0m\u001b[0;34m[\u001b[0m\u001b[0;36m1\u001b[0m\u001b[0;34m]\u001b[0m\u001b[0;34m\u001b[0m\u001b[0m\n\u001b[0;32m-> 2899\u001b[0;31m             \u001b[0mself\u001b[0m\u001b[0;34m.\u001b[0m\u001b[0mshowtraceback\u001b[0m\u001b[0;34m(\u001b[0m\u001b[0;34m)\u001b[0m\u001b[0;34m\u001b[0m\u001b[0m\n\u001b[0m\u001b[1;32m   2900\u001b[0m         \u001b[0;32melse\u001b[0m\u001b[0;34m:\u001b[0m\u001b[0;34m\u001b[0m\u001b[0m\n\u001b[1;32m   2901\u001b[0m             \u001b[0moutflag\u001b[0m \u001b[0;34m=\u001b[0m \u001b[0;36m0\u001b[0m\u001b[0;34m\u001b[0m\u001b[0m\n",
            "\u001b[0;32m/usr/local/lib/python3.6/dist-packages/IPython/core/interactiveshell.py\u001b[0m in \u001b[0;36mshowtraceback\u001b[0;34m(self, exc_tuple, filename, tb_offset, exception_only)\u001b[0m\n\u001b[1;32m   1824\u001b[0m                     \u001b[0;32mexcept\u001b[0m \u001b[0mException\u001b[0m\u001b[0;34m:\u001b[0m\u001b[0;34m\u001b[0m\u001b[0m\n\u001b[1;32m   1825\u001b[0m                         stb = self.InteractiveTB.structured_traceback(etype,\n\u001b[0;32m-> 1826\u001b[0;31m                                             value, tb, tb_offset=tb_offset)\n\u001b[0m\u001b[1;32m   1827\u001b[0m \u001b[0;34m\u001b[0m\u001b[0m\n\u001b[1;32m   1828\u001b[0m                     \u001b[0mself\u001b[0m\u001b[0;34m.\u001b[0m\u001b[0m_showtraceback\u001b[0m\u001b[0;34m(\u001b[0m\u001b[0metype\u001b[0m\u001b[0;34m,\u001b[0m \u001b[0mvalue\u001b[0m\u001b[0;34m,\u001b[0m \u001b[0mstb\u001b[0m\u001b[0;34m)\u001b[0m\u001b[0;34m\u001b[0m\u001b[0m\n",
            "\u001b[0;32m/usr/local/lib/python3.6/dist-packages/IPython/core/ultratb.py\u001b[0m in \u001b[0;36mstructured_traceback\u001b[0;34m(self, etype, value, tb, tb_offset, number_of_lines_of_context)\u001b[0m\n\u001b[1;32m   1409\u001b[0m         \u001b[0mself\u001b[0m\u001b[0;34m.\u001b[0m\u001b[0mtb\u001b[0m \u001b[0;34m=\u001b[0m \u001b[0mtb\u001b[0m\u001b[0;34m\u001b[0m\u001b[0m\n\u001b[1;32m   1410\u001b[0m         return FormattedTB.structured_traceback(\n\u001b[0;32m-> 1411\u001b[0;31m             self, etype, value, tb, tb_offset, number_of_lines_of_context)\n\u001b[0m\u001b[1;32m   1412\u001b[0m \u001b[0;34m\u001b[0m\u001b[0m\n\u001b[1;32m   1413\u001b[0m \u001b[0;34m\u001b[0m\u001b[0m\n",
            "\u001b[0;32m/usr/local/lib/python3.6/dist-packages/IPython/core/ultratb.py\u001b[0m in \u001b[0;36mstructured_traceback\u001b[0;34m(self, etype, value, tb, tb_offset, number_of_lines_of_context)\u001b[0m\n\u001b[1;32m   1317\u001b[0m             \u001b[0;31m# Verbose modes need a full traceback\u001b[0m\u001b[0;34m\u001b[0m\u001b[0;34m\u001b[0m\u001b[0m\n\u001b[1;32m   1318\u001b[0m             return VerboseTB.structured_traceback(\n\u001b[0;32m-> 1319\u001b[0;31m                 \u001b[0mself\u001b[0m\u001b[0;34m,\u001b[0m \u001b[0metype\u001b[0m\u001b[0;34m,\u001b[0m \u001b[0mvalue\u001b[0m\u001b[0;34m,\u001b[0m \u001b[0mtb\u001b[0m\u001b[0;34m,\u001b[0m \u001b[0mtb_offset\u001b[0m\u001b[0;34m,\u001b[0m \u001b[0mnumber_of_lines_of_context\u001b[0m\u001b[0;34m\u001b[0m\u001b[0m\n\u001b[0m\u001b[1;32m   1320\u001b[0m             )\n\u001b[1;32m   1321\u001b[0m         \u001b[0;32melse\u001b[0m\u001b[0;34m:\u001b[0m\u001b[0;34m\u001b[0m\u001b[0m\n",
            "\u001b[0;32m/usr/local/lib/python3.6/dist-packages/IPython/core/ultratb.py\u001b[0m in \u001b[0;36mstructured_traceback\u001b[0;34m(self, etype, evalue, etb, tb_offset, number_of_lines_of_context)\u001b[0m\n\u001b[1;32m   1180\u001b[0m             \u001b[0mexception\u001b[0m \u001b[0;34m=\u001b[0m \u001b[0mself\u001b[0m\u001b[0;34m.\u001b[0m\u001b[0mget_parts_of_chained_exception\u001b[0m\u001b[0;34m(\u001b[0m\u001b[0mevalue\u001b[0m\u001b[0;34m)\u001b[0m\u001b[0;34m\u001b[0m\u001b[0m\n\u001b[1;32m   1181\u001b[0m             \u001b[0;32mif\u001b[0m \u001b[0mexception\u001b[0m\u001b[0;34m:\u001b[0m\u001b[0;34m\u001b[0m\u001b[0m\n\u001b[0;32m-> 1182\u001b[0;31m                 \u001b[0mformatted_exceptions\u001b[0m \u001b[0;34m+=\u001b[0m \u001b[0mself\u001b[0m\u001b[0;34m.\u001b[0m\u001b[0mprepare_chained_exception_message\u001b[0m\u001b[0;34m(\u001b[0m\u001b[0mevalue\u001b[0m\u001b[0;34m.\u001b[0m\u001b[0m__cause__\u001b[0m\u001b[0;34m)\u001b[0m\u001b[0;34m\u001b[0m\u001b[0m\n\u001b[0m\u001b[1;32m   1183\u001b[0m                 \u001b[0metype\u001b[0m\u001b[0;34m,\u001b[0m \u001b[0mevalue\u001b[0m\u001b[0;34m,\u001b[0m \u001b[0metb\u001b[0m \u001b[0;34m=\u001b[0m \u001b[0mexception\u001b[0m\u001b[0;34m\u001b[0m\u001b[0m\n\u001b[1;32m   1184\u001b[0m             \u001b[0;32melse\u001b[0m\u001b[0;34m:\u001b[0m\u001b[0;34m\u001b[0m\u001b[0m\n",
            "\u001b[0;31mTypeError\u001b[0m: must be str, not list"
          ]
        }
      ]
    },
    {
      "metadata": {
        "id": "brtNyd6Bvzto",
        "colab_type": "code",
        "colab": {
          "base_uri": "https://localhost:8080/",
          "height": 88
        },
        "outputId": "d1e540e7-8113-422d-fefa-d575c6c7fb6f"
      },
      "cell_type": "code",
      "source": [
        "model.fit_generator(generator_small(white[::-1], batch_size = 64), steps_per_epoch = num_states(white) / 128, epochs = 1)\n",
        "model.save('white.h5')\n",
        "saver('white')"
      ],
      "execution_count": 19,
      "outputs": [
        {
          "output_type": "stream",
          "text": [
            "Epoch 1/1\n",
            "  1147/133663 [..............................] - ETA: 2:20:54 - loss: 1.9553 - acc: 0.4705"
          ],
          "name": "stdout"
        },
        {
          "output_type": "stream",
          "text": [
            "  2451/133663 [..............................] - ETA: 2:19:12 - loss: 1.9943 - acc: 0.4552"
          ],
          "name": "stdout"
        },
        {
          "output_type": "stream",
          "text": [
            "  3705/133663 [..............................] - ETA: 2:17:31 - loss: 1.9920 - acc: 0.4581"
          ],
          "name": "stdout"
        },
        {
          "output_type": "stream",
          "text": [
            "  4928/133663 [>.............................] - ETA: 2:16:11 - loss: 1.9913 - acc: 0.4567"
          ],
          "name": "stdout"
        },
        {
          "output_type": "stream",
          "text": [
            "  6078/133663 [>.............................] - ETA: 2:15:00 - loss: 1.9893 - acc: 0.4581"
          ],
          "name": "stdout"
        },
        {
          "output_type": "stream",
          "text": [
            "  7312/133663 [>.............................] - ETA: 2:13:41 - loss: 1.9923 - acc: 0.4561"
          ],
          "name": "stdout"
        },
        {
          "output_type": "stream",
          "text": [
            "  8612/133663 [>.............................] - ETA: 2:12:11 - loss: 2.0012 - acc: 0.4536"
          ],
          "name": "stdout"
        },
        {
          "output_type": "stream",
          "text": [
            "  9883/133663 [=>............................] - ETA: 2:10:41 - loss: 1.9962 - acc: 0.4556"
          ],
          "name": "stdout"
        },
        {
          "output_type": "stream",
          "text": [
            " 11061/133663 [=>............................] - ETA: 2:09:19 - loss: 1.9956 - acc: 0.4555"
          ],
          "name": "stdout"
        },
        {
          "output_type": "stream",
          "text": [
            " 12614/133663 [=>............................] - ETA: 2:07:34 - loss: 1.9914 - acc: 0.4564"
          ],
          "name": "stdout"
        },
        {
          "output_type": "stream",
          "text": [
            " 13856/133663 [==>...........................] - ETA: 2:06:11 - loss: 1.9896 - acc: 0.4571"
          ],
          "name": "stdout"
        },
        {
          "output_type": "stream",
          "text": [
            " 14971/133663 [==>...........................] - ETA: 2:05:00 - loss: 1.9906 - acc: 0.4566"
          ],
          "name": "stdout"
        },
        {
          "output_type": "stream",
          "text": [
            " 16569/133663 [==>...........................] - ETA: 2:03:20 - loss: 1.9898 - acc: 0.4569"
          ],
          "name": "stdout"
        },
        {
          "output_type": "stream",
          "text": [
            " 17801/133663 [==>...........................] - ETA: 2:02:00 - loss: 1.9858 - acc: 0.4579"
          ],
          "name": "stdout"
        },
        {
          "output_type": "stream",
          "text": [
            " 18946/133663 [===>..........................] - ETA: 2:00:44 - loss: 1.9839 - acc: 0.4580"
          ],
          "name": "stdout"
        },
        {
          "output_type": "stream",
          "text": [
            " 20108/133663 [===>..........................] - ETA: 1:59:29 - loss: 1.9840 - acc: 0.4580"
          ],
          "name": "stdout"
        },
        {
          "output_type": "stream",
          "text": [
            " 21255/133663 [===>..........................] - ETA: 1:58:17 - loss: 1.9821 - acc: 0.4585"
          ],
          "name": "stdout"
        },
        {
          "output_type": "stream",
          "text": [
            " 22455/133663 [====>.........................] - ETA: 1:57:00 - loss: 1.9824 - acc: 0.4583"
          ],
          "name": "stdout"
        },
        {
          "output_type": "stream",
          "text": [
            " 23575/133663 [====>.........................] - ETA: 1:55:50 - loss: 1.9841 - acc: 0.4575"
          ],
          "name": "stdout"
        },
        {
          "output_type": "stream",
          "text": [
            " 25105/133663 [====>.........................] - ETA: 1:54:13 - loss: 1.9813 - acc: 0.4585"
          ],
          "name": "stdout"
        },
        {
          "output_type": "stream",
          "text": [
            " 26680/133663 [====>.........................] - ETA: 1:52:34 - loss: 1.9779 - acc: 0.4592"
          ],
          "name": "stdout"
        },
        {
          "output_type": "stream",
          "text": [
            " 29505/133663 [=====>........................] - ETA: 1:49:33 - loss: 1.9782 - acc: 0.4589"
          ],
          "name": "stdout"
        },
        {
          "output_type": "stream",
          "text": [
            " 30719/133663 [=====>........................] - ETA: 1:48:15 - loss: 1.9790 - acc: 0.4587"
          ],
          "name": "stdout"
        },
        {
          "output_type": "stream",
          "text": [
            " 31898/133663 [======>.......................] - ETA: 1:47:01 - loss: 1.9782 - acc: 0.4589"
          ],
          "name": "stdout"
        },
        {
          "output_type": "stream",
          "text": [
            " 33062/133663 [======>.......................] - ETA: 1:45:49 - loss: 1.9769 - acc: 0.4593"
          ],
          "name": "stdout"
        },
        {
          "output_type": "stream",
          "text": [
            " 34205/133663 [======>.......................] - ETA: 1:44:38 - loss: 1.9773 - acc: 0.4591"
          ],
          "name": "stdout"
        },
        {
          "output_type": "stream",
          "text": [
            " 35372/133663 [======>.......................] - ETA: 1:43:26 - loss: 1.9757 - acc: 0.4595"
          ],
          "name": "stdout"
        },
        {
          "output_type": "stream",
          "text": [
            " 36530/133663 [=======>......................] - ETA: 1:42:14 - loss: 1.9742 - acc: 0.4597"
          ],
          "name": "stdout"
        },
        {
          "output_type": "stream",
          "text": [
            " 37790/133663 [=======>......................] - ETA: 1:40:55 - loss: 1.9732 - acc: 0.4599"
          ],
          "name": "stdout"
        },
        {
          "output_type": "stream",
          "text": [
            " 38897/133663 [=======>......................] - ETA: 1:39:45 - loss: 1.9713 - acc: 0.4605"
          ],
          "name": "stdout"
        },
        {
          "output_type": "stream",
          "text": [
            " 40099/133663 [========>.....................] - ETA: 1:38:30 - loss: 1.9714 - acc: 0.4604"
          ],
          "name": "stdout"
        },
        {
          "output_type": "stream",
          "text": [
            " 41278/133663 [========>.....................] - ETA: 1:37:16 - loss: 1.9700 - acc: 0.4608"
          ],
          "name": "stdout"
        },
        {
          "output_type": "stream",
          "text": [
            " 42429/133663 [========>.....................] - ETA: 1:36:04 - loss: 1.9689 - acc: 0.4609"
          ],
          "name": "stdout"
        },
        {
          "output_type": "stream",
          "text": [
            " 43525/133663 [========>.....................] - ETA: 1:34:56 - loss: 1.9676 - acc: 0.4612"
          ],
          "name": "stdout"
        },
        {
          "output_type": "stream",
          "text": [
            " 44682/133663 [=========>....................] - ETA: 1:33:44 - loss: 1.9674 - acc: 0.4610"
          ],
          "name": "stdout"
        },
        {
          "output_type": "stream",
          "text": [
            " 45789/133663 [=========>....................] - ETA: 1:32:35 - loss: 1.9655 - acc: 0.4615"
          ],
          "name": "stdout"
        },
        {
          "output_type": "stream",
          "text": [
            " 46881/133663 [=========>....................] - ETA: 1:31:26 - loss: 1.9649 - acc: 0.4616"
          ],
          "name": "stdout"
        },
        {
          "output_type": "stream",
          "text": [
            " 48128/133663 [=========>....................] - ETA: 1:30:08 - loss: 1.9645 - acc: 0.4617"
          ],
          "name": "stdout"
        },
        {
          "output_type": "stream",
          "text": [
            " 49238/133663 [==========>...................] - ETA: 1:28:58 - loss: 1.9634 - acc: 0.4620"
          ],
          "name": "stdout"
        },
        {
          "output_type": "stream",
          "text": [
            " 50455/133663 [==========>...................] - ETA: 1:27:43 - loss: 1.9628 - acc: 0.4621"
          ],
          "name": "stdout"
        },
        {
          "output_type": "stream",
          "text": [
            " 51715/133663 [==========>...................] - ETA: 1:26:25 - loss: 1.9625 - acc: 0.4622"
          ],
          "name": "stdout"
        },
        {
          "output_type": "stream",
          "text": [
            " 52940/133663 [==========>...................] - ETA: 1:25:08 - loss: 1.9621 - acc: 0.4622"
          ],
          "name": "stdout"
        },
        {
          "output_type": "stream",
          "text": [
            " 54133/133663 [===========>..................] - ETA: 1:23:53 - loss: 1.9612 - acc: 0.4625"
          ],
          "name": "stdout"
        },
        {
          "output_type": "stream",
          "text": [
            " 55244/133663 [===========>..................] - ETA: 1:22:43 - loss: 1.9612 - acc: 0.4626"
          ],
          "name": "stdout"
        },
        {
          "output_type": "stream",
          "text": [
            " 56441/133663 [===========>..................] - ETA: 1:21:28 - loss: 1.9613 - acc: 0.4627"
          ],
          "name": "stdout"
        },
        {
          "output_type": "stream",
          "text": [
            " 57526/133663 [===========>..................] - ETA: 1:20:20 - loss: 1.9607 - acc: 0.4628"
          ],
          "name": "stdout"
        },
        {
          "output_type": "stream",
          "text": [
            " 58676/133663 [============>.................] - ETA: 1:19:08 - loss: 1.9611 - acc: 0.4625"
          ],
          "name": "stdout"
        },
        {
          "output_type": "stream",
          "text": [
            " 60047/133663 [============>.................] - ETA: 1:17:42 - loss: 1.9602 - acc: 0.4628"
          ],
          "name": "stdout"
        },
        {
          "output_type": "stream",
          "text": [
            " 61391/133663 [============>.................] - ETA: 1:16:17 - loss: 1.9595 - acc: 0.4630"
          ],
          "name": "stdout"
        },
        {
          "output_type": "stream",
          "text": [
            " 62475/133663 [=============>................] - ETA: 1:15:09 - loss: 1.9581 - acc: 0.4633"
          ],
          "name": "stdout"
        },
        {
          "output_type": "stream",
          "text": [
            " 63743/133663 [=============>................] - ETA: 1:13:49 - loss: 1.9575 - acc: 0.4635"
          ],
          "name": "stdout"
        },
        {
          "output_type": "stream",
          "text": [
            " 64991/133663 [=============>................] - ETA: 1:12:30 - loss: 1.9566 - acc: 0.4637"
          ],
          "name": "stdout"
        },
        {
          "output_type": "stream",
          "text": [
            " 66144/133663 [=============>................] - ETA: 1:11:18 - loss: 1.9562 - acc: 0.4638"
          ],
          "name": "stdout"
        },
        {
          "output_type": "stream",
          "text": [
            " 67389/133663 [==============>...............] - ETA: 1:09:59 - loss: 1.9562 - acc: 0.4638"
          ],
          "name": "stdout"
        },
        {
          "output_type": "stream",
          "text": [
            " 68648/133663 [==============>...............] - ETA: 1:08:39 - loss: 1.9561 - acc: 0.4638"
          ],
          "name": "stdout"
        },
        {
          "output_type": "stream",
          "text": [
            " 70344/133663 [==============>...............] - ETA: 1:06:51 - loss: 1.9558 - acc: 0.4640"
          ],
          "name": "stdout"
        },
        {
          "output_type": "stream",
          "text": [
            " 71618/133663 [===============>..............] - ETA: 1:05:31 - loss: 1.9555 - acc: 0.4641"
          ],
          "name": "stdout"
        },
        {
          "output_type": "stream",
          "text": [
            " 72848/133663 [===============>..............] - ETA: 1:04:13 - loss: 1.9554 - acc: 0.4642"
          ],
          "name": "stdout"
        },
        {
          "output_type": "stream",
          "text": [
            " 74231/133663 [===============>..............] - ETA: 1:02:46 - loss: 1.9537 - acc: 0.4647"
          ],
          "name": "stdout"
        },
        {
          "output_type": "stream",
          "text": [
            " 75329/133663 [===============>..............] - ETA: 1:01:37 - loss: 1.9538 - acc: 0.4646"
          ],
          "name": "stdout"
        },
        {
          "output_type": "stream",
          "text": [
            " 76434/133663 [================>.............] - ETA: 1:00:27 - loss: 1.9538 - acc: 0.4646"
          ],
          "name": "stdout"
        },
        {
          "output_type": "stream",
          "text": [
            " 77722/133663 [================>.............] - ETA: 59:05 - loss: 1.9526 - acc: 0.4649"
          ],
          "name": "stdout"
        },
        {
          "output_type": "stream",
          "text": [
            " 79455/133663 [================>.............] - ETA: 57:15 - loss: 1.9521 - acc: 0.4650"
          ],
          "name": "stdout"
        },
        {
          "output_type": "stream",
          "text": [
            " 80700/133663 [=================>............] - ETA: 55:56 - loss: 1.9513 - acc: 0.4652"
          ],
          "name": "stdout"
        },
        {
          "output_type": "stream",
          "text": [
            " 81908/133663 [=================>............] - ETA: 54:39 - loss: 1.9514 - acc: 0.4652"
          ],
          "name": "stdout"
        },
        {
          "output_type": "stream",
          "text": [
            " 83129/133663 [=================>............] - ETA: 53:22 - loss: 1.9514 - acc: 0.4652"
          ],
          "name": "stdout"
        },
        {
          "output_type": "stream",
          "text": [
            " 84381/133663 [=================>............] - ETA: 52:02 - loss: 1.9512 - acc: 0.4652"
          ],
          "name": "stdout"
        },
        {
          "output_type": "stream",
          "text": [
            " 85566/133663 [==================>...........] - ETA: 50:47 - loss: 1.9504 - acc: 0.4654"
          ],
          "name": "stdout"
        },
        {
          "output_type": "stream",
          "text": [
            " 86776/133663 [==================>...........] - ETA: 49:30 - loss: 1.9502 - acc: 0.4655"
          ],
          "name": "stdout"
        },
        {
          "output_type": "stream",
          "text": [
            " 87946/133663 [==================>...........] - ETA: 48:16 - loss: 1.9498 - acc: 0.4655"
          ],
          "name": "stdout"
        },
        {
          "output_type": "stream",
          "text": [
            " 89200/133663 [===================>..........] - ETA: 46:56 - loss: 1.9494 - acc: 0.4656"
          ],
          "name": "stdout"
        },
        {
          "output_type": "stream",
          "text": [
            " 91389/133663 [===================>..........] - ETA: 44:38 - loss: 1.9488 - acc: 0.4658"
          ],
          "name": "stdout"
        },
        {
          "output_type": "stream",
          "text": [
            " 92733/133663 [===================>..........] - ETA: 43:13 - loss: 1.9484 - acc: 0.4659"
          ],
          "name": "stdout"
        },
        {
          "output_type": "stream",
          "text": [
            " 93927/133663 [====================>.........] - ETA: 41:57 - loss: 1.9479 - acc: 0.4659"
          ],
          "name": "stdout"
        },
        {
          "output_type": "stream",
          "text": [
            " 95552/133663 [====================>.........] - ETA: 40:14 - loss: 1.9478 - acc: 0.4660"
          ],
          "name": "stdout"
        },
        {
          "output_type": "stream",
          "text": [
            " 96737/133663 [====================>.........] - ETA: 38:59 - loss: 1.9478 - acc: 0.4661"
          ],
          "name": "stdout"
        },
        {
          "output_type": "stream",
          "text": [
            " 98023/133663 [=====================>........] - ETA: 37:37 - loss: 1.9485 - acc: 0.4660"
          ],
          "name": "stdout"
        },
        {
          "output_type": "stream",
          "text": [
            " 99151/133663 [=====================>........] - ETA: 36:26 - loss: 1.9478 - acc: 0.4661"
          ],
          "name": "stdout"
        },
        {
          "output_type": "stream",
          "text": [
            "100673/133663 [=====================>........] - ETA: 34:49 - loss: 1.9470 - acc: 0.4663"
          ],
          "name": "stdout"
        },
        {
          "output_type": "stream",
          "text": [
            "101845/133663 [=====================>........] - ETA: 33:35 - loss: 1.9469 - acc: 0.4662"
          ],
          "name": "stdout"
        },
        {
          "output_type": "stream",
          "text": [
            "103110/133663 [======================>.......] - ETA: 32:15 - loss: 1.9463 - acc: 0.4663"
          ],
          "name": "stdout"
        },
        {
          "output_type": "stream",
          "text": [
            "104268/133663 [======================>.......] - ETA: 31:01 - loss: 1.9460 - acc: 0.4664"
          ],
          "name": "stdout"
        },
        {
          "output_type": "stream",
          "text": [
            "105793/133663 [======================>.......] - ETA: 29:25 - loss: 1.9454 - acc: 0.4665"
          ],
          "name": "stdout"
        },
        {
          "output_type": "stream",
          "text": [
            "107329/133663 [=======================>......] - ETA: 27:47 - loss: 1.9452 - acc: 0.4666"
          ],
          "name": "stdout"
        },
        {
          "output_type": "stream",
          "text": [
            "108734/133663 [=======================>......] - ETA: 26:18 - loss: 1.9452 - acc: 0.4666"
          ],
          "name": "stdout"
        },
        {
          "output_type": "stream",
          "text": [
            "109921/133663 [=======================>......] - ETA: 25:03 - loss: 1.9450 - acc: 0.4666"
          ],
          "name": "stdout"
        },
        {
          "output_type": "stream",
          "text": [
            "111594/133663 [========================>.....] - ETA: 23:17 - loss: 1.9448 - acc: 0.4667"
          ],
          "name": "stdout"
        },
        {
          "output_type": "stream",
          "text": [
            "112986/133663 [========================>.....] - ETA: 21:49 - loss: 1.9448 - acc: 0.4668"
          ],
          "name": "stdout"
        },
        {
          "output_type": "stream",
          "text": [
            "114197/133663 [========================>.....] - ETA: 20:32 - loss: 1.9444 - acc: 0.4669"
          ],
          "name": "stdout"
        },
        {
          "output_type": "stream",
          "text": [
            "115396/133663 [========================>.....] - ETA: 19:16 - loss: 1.9451 - acc: 0.4667"
          ],
          "name": "stdout"
        },
        {
          "output_type": "stream",
          "text": [
            "116960/133663 [=========================>....] - ETA: 17:37 - loss: 1.9447 - acc: 0.4667"
          ],
          "name": "stdout"
        },
        {
          "output_type": "stream",
          "text": [
            "118312/133663 [=========================>....] - ETA: 16:11 - loss: 1.9442 - acc: 0.4668"
          ],
          "name": "stdout"
        },
        {
          "output_type": "stream",
          "text": [
            "119637/133663 [=========================>....] - ETA: 14:48 - loss: 1.9440 - acc: 0.4668"
          ],
          "name": "stdout"
        },
        {
          "output_type": "stream",
          "text": [
            "120838/133663 [==========================>...] - ETA: 13:31 - loss: 1.9434 - acc: 0.4670"
          ],
          "name": "stdout"
        },
        {
          "output_type": "stream",
          "text": [
            "121976/133663 [==========================>...] - ETA: 12:19 - loss: 1.9430 - acc: 0.4671"
          ],
          "name": "stdout"
        },
        {
          "output_type": "stream",
          "text": [
            "123167/133663 [==========================>...] - ETA: 11:04 - loss: 1.9432 - acc: 0.4670"
          ],
          "name": "stdout"
        },
        {
          "output_type": "stream",
          "text": [
            "124401/133663 [==========================>...] - ETA: 9:46 - loss: 1.9424 - acc: 0.4672"
          ],
          "name": "stdout"
        },
        {
          "output_type": "stream",
          "text": [
            "125696/133663 [===========================>..] - ETA: 8:24 - loss: 1.9424 - acc: 0.4671"
          ],
          "name": "stdout"
        },
        {
          "output_type": "stream",
          "text": [
            "126868/133663 [===========================>..] - ETA: 7:10 - loss: 1.9417 - acc: 0.4673"
          ],
          "name": "stdout"
        },
        {
          "output_type": "stream",
          "text": [
            "128497/133663 [===========================>..] - ETA: 5:27 - loss: 1.9417 - acc: 0.4672"
          ],
          "name": "stdout"
        },
        {
          "output_type": "stream",
          "text": [
            "129860/133663 [============================>.] - ETA: 4:00 - loss: 1.9416 - acc: 0.4672"
          ],
          "name": "stdout"
        },
        {
          "output_type": "stream",
          "text": [
            "131081/133663 [============================>.] - ETA: 2:43 - loss: 1.9411 - acc: 0.4672"
          ],
          "name": "stdout"
        },
        {
          "output_type": "stream",
          "text": [
            "132611/133663 [============================>.] - ETA: 1:06 - loss: 1.9393 - acc: 0.4677"
          ],
          "name": "stdout"
        },
        {
          "output_type": "stream",
          "text": [
            "133664/133663 [==============================] - 8460s 63ms/step - loss: 1.9380 - acc: 0.4680\n",
            "File ID: 1dNqWppl7EK6QmlxhTPlUqcKR_iYjRfCX\n"
          ],
          "name": "stdout"
        }
      ]
    },
    {
      "metadata": {
        "id": "roV0jNcPyn24",
        "colab_type": "code",
        "colab": {
          "base_uri": "https://localhost:8080/",
          "height": 88
        },
        "outputId": "806e504f-d0e9-49a6-bbe7-1d1b5e0ae76f"
      },
      "cell_type": "code",
      "source": [
        "model.fit_generator(generator_small(white, batch_size = 128), steps_per_epoch = num_states(white) / 128, epochs = 1)\n",
        "model.save('white.h5')\n",
        "saver('white')"
      ],
      "execution_count": 20,
      "outputs": [
        {
          "output_type": "stream",
          "text": [
            "Epoch 1/1\n",
            "   941/133663 [..............................] - ETA: 3:39:56 - loss: 1.9457 - acc: 0.4527"
          ],
          "name": "stdout"
        },
        {
          "output_type": "stream",
          "text": [
            "  2009/133663 [..............................] - ETA: 3:37:14 - loss: 1.9135 - acc: 0.4591"
          ],
          "name": "stdout"
        },
        {
          "output_type": "stream",
          "text": [
            "  3118/133663 [..............................] - ETA: 3:35:06 - loss: 1.9106 - acc: 0.4601"
          ],
          "name": "stdout"
        },
        {
          "output_type": "stream",
          "text": [
            "  4153/133663 [..............................] - ETA: 3:33:30 - loss: 1.9052 - acc: 0.4621"
          ],
          "name": "stdout"
        },
        {
          "output_type": "stream",
          "text": [
            "  5249/133663 [>.............................] - ETA: 3:31:42 - loss: 1.9251 - acc: 0.4585"
          ],
          "name": "stdout"
        },
        {
          "output_type": "stream",
          "text": [
            "  6278/133663 [>.............................] - ETA: 3:30:03 - loss: 1.9089 - acc: 0.4643"
          ],
          "name": "stdout"
        },
        {
          "output_type": "stream",
          "text": [
            "  7327/133663 [>.............................] - ETA: 3:28:19 - loss: 1.8947 - acc: 0.4699"
          ],
          "name": "stdout"
        },
        {
          "output_type": "stream",
          "text": [
            "  8382/133663 [>.............................] - ETA: 3:26:34 - loss: 1.8909 - acc: 0.4716"
          ],
          "name": "stdout"
        },
        {
          "output_type": "stream",
          "text": [
            "  9446/133663 [=>............................] - ETA: 3:24:48 - loss: 1.8911 - acc: 0.4701"
          ],
          "name": "stdout"
        },
        {
          "output_type": "stream",
          "text": [
            " 10487/133663 [=>............................] - ETA: 3:23:05 - loss: 1.8875 - acc: 0.4722"
          ],
          "name": "stdout"
        },
        {
          "output_type": "stream",
          "text": [
            " 11566/133663 [=>............................] - ETA: 3:21:18 - loss: 1.8916 - acc: 0.4711"
          ],
          "name": "stdout"
        },
        {
          "output_type": "stream",
          "text": [
            " 12613/133663 [=>............................] - ETA: 3:19:34 - loss: 1.8955 - acc: 0.4696"
          ],
          "name": "stdout"
        },
        {
          "output_type": "stream",
          "text": [
            " 13668/133663 [==>...........................] - ETA: 3:17:50 - loss: 1.8966 - acc: 0.4692"
          ],
          "name": "stdout"
        },
        {
          "output_type": "stream",
          "text": [
            " 14791/133663 [==>...........................] - ETA: 3:15:55 - loss: 1.8961 - acc: 0.4688"
          ],
          "name": "stdout"
        },
        {
          "output_type": "stream",
          "text": [
            " 15870/133663 [==>...........................] - ETA: 3:14:06 - loss: 1.8995 - acc: 0.4675"
          ],
          "name": "stdout"
        },
        {
          "output_type": "stream",
          "text": [
            " 16935/133663 [==>...........................] - ETA: 3:12:20 - loss: 1.8990 - acc: 0.4670"
          ],
          "name": "stdout"
        },
        {
          "output_type": "stream",
          "text": [
            " 17989/133663 [===>..........................] - ETA: 3:10:35 - loss: 1.9001 - acc: 0.4663"
          ],
          "name": "stdout"
        },
        {
          "output_type": "stream",
          "text": [
            " 19012/133663 [===>..........................] - ETA: 3:08:52 - loss: 1.9011 - acc: 0.4661"
          ],
          "name": "stdout"
        },
        {
          "output_type": "stream",
          "text": [
            " 20131/133663 [===>..........................] - ETA: 3:07:00 - loss: 1.9024 - acc: 0.4658"
          ],
          "name": "stdout"
        },
        {
          "output_type": "stream",
          "text": [
            " 21169/133663 [===>..........................] - ETA: 3:05:18 - loss: 1.9010 - acc: 0.4666"
          ],
          "name": "stdout"
        },
        {
          "output_type": "stream",
          "text": [
            " 22218/133663 [===>..........................] - ETA: 3:03:34 - loss: 1.8999 - acc: 0.4667"
          ],
          "name": "stdout"
        },
        {
          "output_type": "stream",
          "text": [
            " 23322/133663 [====>.........................] - ETA: 3:01:46 - loss: 1.8977 - acc: 0.4673"
          ],
          "name": "stdout"
        },
        {
          "output_type": "stream",
          "text": [
            " 24438/133663 [====>.........................] - ETA: 2:59:56 - loss: 1.8947 - acc: 0.4686"
          ],
          "name": "stdout"
        },
        {
          "output_type": "stream",
          "text": [
            " 25476/133663 [====>.........................] - ETA: 2:58:14 - loss: 1.8910 - acc: 0.4699"
          ],
          "name": "stdout"
        },
        {
          "output_type": "stream",
          "text": [
            " 26533/133663 [====>.........................] - ETA: 2:56:30 - loss: 1.8866 - acc: 0.4717"
          ],
          "name": "stdout"
        },
        {
          "output_type": "stream",
          "text": [
            " 27584/133663 [=====>........................] - ETA: 2:54:47 - loss: 1.8812 - acc: 0.4737"
          ],
          "name": "stdout"
        },
        {
          "output_type": "stream",
          "text": [
            " 28653/133663 [=====>........................] - ETA: 2:53:02 - loss: 1.8778 - acc: 0.4750"
          ],
          "name": "stdout"
        },
        {
          "output_type": "stream",
          "text": [
            " 29691/133663 [=====>........................] - ETA: 2:51:20 - loss: 1.8740 - acc: 0.4765"
          ],
          "name": "stdout"
        },
        {
          "output_type": "stream",
          "text": [
            " 30896/133663 [=====>........................] - ETA: 2:49:22 - loss: 1.8690 - acc: 0.4782"
          ],
          "name": "stdout"
        },
        {
          "output_type": "stream",
          "text": [
            " 31943/133663 [======>.......................] - ETA: 2:47:39 - loss: 1.8674 - acc: 0.4790"
          ],
          "name": "stdout"
        },
        {
          "output_type": "stream",
          "text": [
            " 33024/133663 [======>.......................] - ETA: 2:45:53 - loss: 1.8647 - acc: 0.4801"
          ],
          "name": "stdout"
        },
        {
          "output_type": "stream",
          "text": [
            " 34072/133663 [======>.......................] - ETA: 2:44:10 - loss: 1.8615 - acc: 0.4812"
          ],
          "name": "stdout"
        },
        {
          "output_type": "stream",
          "text": [
            " 35140/133663 [======>.......................] - ETA: 2:42:24 - loss: 1.8588 - acc: 0.4823"
          ],
          "name": "stdout"
        },
        {
          "output_type": "stream",
          "text": [
            " 36209/133663 [=======>......................] - ETA: 2:40:38 - loss: 1.8563 - acc: 0.4832"
          ],
          "name": "stdout"
        },
        {
          "output_type": "stream",
          "text": [
            " 37258/133663 [=======>......................] - ETA: 2:38:54 - loss: 1.8546 - acc: 0.4839"
          ],
          "name": "stdout"
        },
        {
          "output_type": "stream",
          "text": [
            " 38335/133663 [=======>......................] - ETA: 2:37:08 - loss: 1.8517 - acc: 0.4849"
          ],
          "name": "stdout"
        },
        {
          "output_type": "stream",
          "text": [
            " 39383/133663 [=======>......................] - ETA: 2:35:25 - loss: 1.8510 - acc: 0.4853"
          ],
          "name": "stdout"
        },
        {
          "output_type": "stream",
          "text": [
            " 40405/133663 [========>.....................] - ETA: 2:33:43 - loss: 1.8479 - acc: 0.4863"
          ],
          "name": "stdout"
        },
        {
          "output_type": "stream",
          "text": [
            " 41479/133663 [========>.....................] - ETA: 2:31:57 - loss: 1.8470 - acc: 0.4867"
          ],
          "name": "stdout"
        },
        {
          "output_type": "stream",
          "text": [
            " 42625/133663 [========>.....................] - ETA: 2:30:04 - loss: 1.8469 - acc: 0.4866"
          ],
          "name": "stdout"
        },
        {
          "output_type": "stream",
          "text": [
            " 43655/133663 [========>.....................] - ETA: 2:28:22 - loss: 1.8490 - acc: 0.4859"
          ],
          "name": "stdout"
        },
        {
          "output_type": "stream",
          "text": [
            " 44697/133663 [=========>....................] - ETA: 2:26:39 - loss: 1.8507 - acc: 0.4853"
          ],
          "name": "stdout"
        },
        {
          "output_type": "stream",
          "text": [
            " 45731/133663 [=========>....................] - ETA: 2:24:56 - loss: 1.8518 - acc: 0.4848"
          ],
          "name": "stdout"
        },
        {
          "output_type": "stream",
          "text": [
            " 46778/133663 [=========>....................] - ETA: 2:23:12 - loss: 1.8539 - acc: 0.4841"
          ],
          "name": "stdout"
        },
        {
          "output_type": "stream",
          "text": [
            " 47799/133663 [=========>....................] - ETA: 2:21:31 - loss: 1.8560 - acc: 0.4835"
          ],
          "name": "stdout"
        },
        {
          "output_type": "stream",
          "text": [
            " 48854/133663 [=========>....................] - ETA: 2:19:47 - loss: 1.8551 - acc: 0.4839"
          ],
          "name": "stdout"
        },
        {
          "output_type": "stream",
          "text": [
            " 49926/133663 [==========>...................] - ETA: 2:18:01 - loss: 1.8544 - acc: 0.4842"
          ],
          "name": "stdout"
        },
        {
          "output_type": "stream",
          "text": [
            " 51067/133663 [==========>...................] - ETA: 2:16:09 - loss: 1.8532 - acc: 0.4847"
          ],
          "name": "stdout"
        },
        {
          "output_type": "stream",
          "text": [
            " 52120/133663 [==========>...................] - ETA: 2:14:25 - loss: 1.8491 - acc: 0.4859"
          ],
          "name": "stdout"
        },
        {
          "output_type": "stream",
          "text": [
            " 53243/133663 [==========>...................] - ETA: 2:12:34 - loss: 1.8450 - acc: 0.4874"
          ],
          "name": "stdout"
        },
        {
          "output_type": "stream",
          "text": [
            " 54292/133663 [===========>..................] - ETA: 2:10:50 - loss: 1.8414 - acc: 0.4886"
          ],
          "name": "stdout"
        },
        {
          "output_type": "stream",
          "text": [
            " 55327/133663 [===========>..................] - ETA: 2:09:08 - loss: 1.8388 - acc: 0.4894"
          ],
          "name": "stdout"
        },
        {
          "output_type": "stream",
          "text": [
            " 56368/133663 [===========>..................] - ETA: 2:07:25 - loss: 1.8356 - acc: 0.4904"
          ],
          "name": "stdout"
        },
        {
          "output_type": "stream",
          "text": [
            " 57393/133663 [===========>..................] - ETA: 2:05:43 - loss: 1.8328 - acc: 0.4913"
          ],
          "name": "stdout"
        },
        {
          "output_type": "stream",
          "text": [
            " 58434/133663 [============>.................] - ETA: 2:04:00 - loss: 1.8304 - acc: 0.4921"
          ],
          "name": "stdout"
        },
        {
          "output_type": "stream",
          "text": [
            " 59505/133663 [============>.................] - ETA: 2:02:14 - loss: 1.8276 - acc: 0.4931"
          ],
          "name": "stdout"
        },
        {
          "output_type": "stream",
          "text": [
            " 60539/133663 [============>.................] - ETA: 2:00:32 - loss: 1.8265 - acc: 0.4935"
          ],
          "name": "stdout"
        },
        {
          "output_type": "stream",
          "text": [
            " 61579/133663 [============>.................] - ETA: 1:58:50 - loss: 1.8274 - acc: 0.4933"
          ],
          "name": "stdout"
        },
        {
          "output_type": "stream",
          "text": [
            " 62655/133663 [=============>................] - ETA: 1:57:04 - loss: 1.8258 - acc: 0.4937"
          ],
          "name": "stdout"
        },
        {
          "output_type": "stream",
          "text": [
            " 63714/133663 [=============>................] - ETA: 1:55:19 - loss: 1.8241 - acc: 0.4942"
          ],
          "name": "stdout"
        },
        {
          "output_type": "stream",
          "text": [
            " 64769/133663 [=============>................] - ETA: 1:53:35 - loss: 1.8232 - acc: 0.4944"
          ],
          "name": "stdout"
        },
        {
          "output_type": "stream",
          "text": [
            " 65807/133663 [=============>................] - ETA: 1:51:52 - loss: 1.8217 - acc: 0.4949"
          ],
          "name": "stdout"
        },
        {
          "output_type": "stream",
          "text": [
            " 66844/133663 [==============>...............] - ETA: 1:50:10 - loss: 1.8206 - acc: 0.4951"
          ],
          "name": "stdout"
        },
        {
          "output_type": "stream",
          "text": [
            " 67868/133663 [==============>...............] - ETA: 1:48:28 - loss: 1.8212 - acc: 0.4949"
          ],
          "name": "stdout"
        },
        {
          "output_type": "stream",
          "text": [
            " 68978/133663 [==============>...............] - ETA: 1:46:39 - loss: 1.8225 - acc: 0.4944"
          ],
          "name": "stdout"
        },
        {
          "output_type": "stream",
          "text": [
            " 70001/133663 [==============>...............] - ETA: 1:44:58 - loss: 1.8234 - acc: 0.4942"
          ],
          "name": "stdout"
        },
        {
          "output_type": "stream",
          "text": [
            " 71033/133663 [==============>...............] - ETA: 1:43:16 - loss: 1.8239 - acc: 0.4940"
          ],
          "name": "stdout"
        },
        {
          "output_type": "stream",
          "text": [
            " 72068/133663 [===============>..............] - ETA: 1:41:33 - loss: 1.8251 - acc: 0.4937"
          ],
          "name": "stdout"
        },
        {
          "output_type": "stream",
          "text": [
            " 73125/133663 [===============>..............] - ETA: 1:39:49 - loss: 1.8260 - acc: 0.4934"
          ],
          "name": "stdout"
        },
        {
          "output_type": "stream",
          "text": [
            " 74172/133663 [===============>..............] - ETA: 1:38:06 - loss: 1.8263 - acc: 0.4933"
          ],
          "name": "stdout"
        },
        {
          "output_type": "stream",
          "text": [
            " 75192/133663 [===============>..............] - ETA: 1:36:25 - loss: 1.8273 - acc: 0.4930"
          ],
          "name": "stdout"
        },
        {
          "output_type": "stream",
          "text": [
            " 76253/133663 [================>.............] - ETA: 1:34:40 - loss: 1.8284 - acc: 0.4927"
          ],
          "name": "stdout"
        },
        {
          "output_type": "stream",
          "text": [
            " 77310/133663 [================>.............] - ETA: 1:32:55 - loss: 1.8298 - acc: 0.4924"
          ],
          "name": "stdout"
        },
        {
          "output_type": "stream",
          "text": [
            " 78350/133663 [================>.............] - ETA: 1:31:12 - loss: 1.8299 - acc: 0.4924"
          ],
          "name": "stdout"
        },
        {
          "output_type": "stream",
          "text": [
            " 79378/133663 [================>.............] - ETA: 1:29:30 - loss: 1.8308 - acc: 0.4922"
          ],
          "name": "stdout"
        },
        {
          "output_type": "stream",
          "text": [
            " 80410/133663 [=================>............] - ETA: 1:27:48 - loss: 1.8313 - acc: 0.4921"
          ],
          "name": "stdout"
        },
        {
          "output_type": "stream",
          "text": [
            " 81508/133663 [=================>............] - ETA: 1:26:00 - loss: 1.8317 - acc: 0.4920"
          ],
          "name": "stdout"
        },
        {
          "output_type": "stream",
          "text": [
            " 82591/133663 [=================>............] - ETA: 1:24:13 - loss: 1.8323 - acc: 0.4918"
          ],
          "name": "stdout"
        },
        {
          "output_type": "stream",
          "text": [
            " 83648/133663 [=================>............] - ETA: 1:22:28 - loss: 1.8328 - acc: 0.4916"
          ],
          "name": "stdout"
        },
        {
          "output_type": "stream",
          "text": [
            " 84640/133663 [=================>............] - ETA: 1:20:50 - loss: 1.8336 - acc: 0.4915"
          ],
          "name": "stdout"
        },
        {
          "output_type": "stream",
          "text": [
            " 85663/133663 [==================>...........] - ETA: 1:19:09 - loss: 1.8344 - acc: 0.4913"
          ],
          "name": "stdout"
        },
        {
          "output_type": "stream",
          "text": [
            " 86701/133663 [==================>...........] - ETA: 1:17:26 - loss: 1.8350 - acc: 0.4912"
          ],
          "name": "stdout"
        },
        {
          "output_type": "stream",
          "text": [
            " 87739/133663 [==================>...........] - ETA: 1:15:43 - loss: 1.8353 - acc: 0.4911"
          ],
          "name": "stdout"
        },
        {
          "output_type": "stream",
          "text": [
            " 88759/133663 [==================>...........] - ETA: 1:14:02 - loss: 1.8356 - acc: 0.4909"
          ],
          "name": "stdout"
        },
        {
          "output_type": "stream",
          "text": [
            " 89782/133663 [===================>..........] - ETA: 1:12:21 - loss: 1.8359 - acc: 0.4909"
          ],
          "name": "stdout"
        },
        {
          "output_type": "stream",
          "text": [
            " 90816/133663 [===================>..........] - ETA: 1:10:39 - loss: 1.8359 - acc: 0.4908"
          ],
          "name": "stdout"
        },
        {
          "output_type": "stream",
          "text": [
            " 92052/133663 [===================>..........] - ETA: 1:08:37 - loss: 1.8365 - acc: 0.4907"
          ],
          "name": "stdout"
        },
        {
          "output_type": "stream",
          "text": [
            " 93082/133663 [===================>..........] - ETA: 1:06:55 - loss: 1.8369 - acc: 0.4906"
          ],
          "name": "stdout"
        },
        {
          "output_type": "stream",
          "text": [
            " 94137/133663 [====================>.........] - ETA: 1:05:10 - loss: 1.8372 - acc: 0.4905"
          ],
          "name": "stdout"
        },
        {
          "output_type": "stream",
          "text": [
            " 95163/133663 [====================>.........] - ETA: 1:03:29 - loss: 1.8372 - acc: 0.4905"
          ],
          "name": "stdout"
        },
        {
          "output_type": "stream",
          "text": [
            " 96242/133663 [====================>.........] - ETA: 1:01:42 - loss: 1.8373 - acc: 0.4905"
          ],
          "name": "stdout"
        },
        {
          "output_type": "stream",
          "text": [
            " 97256/133663 [====================>.........] - ETA: 1:00:02 - loss: 1.8380 - acc: 0.4903"
          ],
          "name": "stdout"
        },
        {
          "output_type": "stream",
          "text": [
            " 98342/133663 [=====================>........] - ETA: 58:14 - loss: 1.8383 - acc: 0.4902"
          ],
          "name": "stdout"
        },
        {
          "output_type": "stream",
          "text": [
            " 99462/133663 [=====================>........] - ETA: 56:23 - loss: 1.8387 - acc: 0.4901"
          ],
          "name": "stdout"
        },
        {
          "output_type": "stream",
          "text": [
            "100534/133663 [=====================>........] - ETA: 54:37 - loss: 1.8389 - acc: 0.4900"
          ],
          "name": "stdout"
        },
        {
          "output_type": "stream",
          "text": [
            "101680/133663 [=====================>........] - ETA: 52:43 - loss: 1.8388 - acc: 0.4901"
          ],
          "name": "stdout"
        },
        {
          "output_type": "stream",
          "text": [
            "102769/133663 [======================>.......] - ETA: 50:56 - loss: 1.8387 - acc: 0.4901"
          ],
          "name": "stdout"
        },
        {
          "output_type": "stream",
          "text": [
            "103878/133663 [======================>.......] - ETA: 49:06 - loss: 1.8393 - acc: 0.4899"
          ],
          "name": "stdout"
        },
        {
          "output_type": "stream",
          "text": [
            "104929/133663 [======================>.......] - ETA: 47:22 - loss: 1.8395 - acc: 0.4899"
          ],
          "name": "stdout"
        },
        {
          "output_type": "stream",
          "text": [
            "106030/133663 [======================>.......] - ETA: 45:33 - loss: 1.8397 - acc: 0.4898"
          ],
          "name": "stdout"
        },
        {
          "output_type": "stream",
          "text": [
            "107191/133663 [=======================>......] - ETA: 43:38 - loss: 1.8399 - acc: 0.4898"
          ],
          "name": "stdout"
        },
        {
          "output_type": "stream",
          "text": [
            "108326/133663 [=======================>......] - ETA: 41:45 - loss: 1.8401 - acc: 0.4897"
          ],
          "name": "stdout"
        },
        {
          "output_type": "stream",
          "text": [
            "109392/133663 [=======================>......] - ETA: 40:00 - loss: 1.8404 - acc: 0.4896"
          ],
          "name": "stdout"
        },
        {
          "output_type": "stream",
          "text": [
            "110490/133663 [=======================>......] - ETA: 38:11 - loss: 1.8404 - acc: 0.4896"
          ],
          "name": "stdout"
        },
        {
          "output_type": "stream",
          "text": [
            "111607/133663 [========================>.....] - ETA: 36:21 - loss: 1.8403 - acc: 0.4896"
          ],
          "name": "stdout"
        },
        {
          "output_type": "stream",
          "text": [
            "112657/133663 [========================>.....] - ETA: 34:37 - loss: 1.8402 - acc: 0.4896"
          ],
          "name": "stdout"
        },
        {
          "output_type": "stream",
          "text": [
            "113732/133663 [========================>.....] - ETA: 32:51 - loss: 1.8404 - acc: 0.4895"
          ],
          "name": "stdout"
        },
        {
          "output_type": "stream",
          "text": [
            "114806/133663 [========================>.....] - ETA: 31:04 - loss: 1.8406 - acc: 0.4895"
          ],
          "name": "stdout"
        },
        {
          "output_type": "stream",
          "text": [
            "115886/133663 [=========================>....] - ETA: 29:18 - loss: 1.8407 - acc: 0.4894"
          ],
          "name": "stdout"
        },
        {
          "output_type": "stream",
          "text": [
            "116944/133663 [=========================>....] - ETA: 27:33 - loss: 1.8408 - acc: 0.4894"
          ],
          "name": "stdout"
        },
        {
          "output_type": "stream",
          "text": [
            "118024/133663 [=========================>....] - ETA: 25:46 - loss: 1.8413 - acc: 0.4893"
          ],
          "name": "stdout"
        },
        {
          "output_type": "stream",
          "text": [
            "119146/133663 [=========================>....] - ETA: 23:55 - loss: 1.8416 - acc: 0.4892"
          ],
          "name": "stdout"
        },
        {
          "output_type": "stream",
          "text": [
            "120265/133663 [=========================>....] - ETA: 22:05 - loss: 1.8418 - acc: 0.4892"
          ],
          "name": "stdout"
        },
        {
          "output_type": "stream",
          "text": [
            "121322/133663 [==========================>...] - ETA: 20:20 - loss: 1.8420 - acc: 0.4891"
          ],
          "name": "stdout"
        },
        {
          "output_type": "stream",
          "text": [
            "122378/133663 [==========================>...] - ETA: 18:36 - loss: 1.8423 - acc: 0.4890"
          ],
          "name": "stdout"
        },
        {
          "output_type": "stream",
          "text": [
            "123447/133663 [==========================>...] - ETA: 16:50 - loss: 1.8426 - acc: 0.4889"
          ],
          "name": "stdout"
        },
        {
          "output_type": "stream",
          "text": [
            "124512/133663 [==========================>...] - ETA: 15:05 - loss: 1.8425 - acc: 0.4889"
          ],
          "name": "stdout"
        },
        {
          "output_type": "stream",
          "text": [
            "125575/133663 [===========================>..] - ETA: 13:20 - loss: 1.8428 - acc: 0.4888"
          ],
          "name": "stdout"
        },
        {
          "output_type": "stream",
          "text": [
            "126658/133663 [===========================>..] - ETA: 11:32 - loss: 1.8430 - acc: 0.4888"
          ],
          "name": "stdout"
        },
        {
          "output_type": "stream",
          "text": [
            "127763/133663 [===========================>..] - ETA: 9:43 - loss: 1.8432 - acc: 0.4887"
          ],
          "name": "stdout"
        },
        {
          "output_type": "stream",
          "text": [
            "128835/133663 [===========================>..] - ETA: 7:57 - loss: 1.8437 - acc: 0.4886"
          ],
          "name": "stdout"
        },
        {
          "output_type": "stream",
          "text": [
            "129921/133663 [============================>.] - ETA: 6:10 - loss: 1.8438 - acc: 0.4886"
          ],
          "name": "stdout"
        },
        {
          "output_type": "stream",
          "text": [
            "130997/133663 [============================>.] - ETA: 4:23 - loss: 1.8441 - acc: 0.4885"
          ],
          "name": "stdout"
        },
        {
          "output_type": "stream",
          "text": [
            "132076/133663 [============================>.] - ETA: 2:37 - loss: 1.8443 - acc: 0.4885"
          ],
          "name": "stdout"
        },
        {
          "output_type": "stream",
          "text": [
            "133144/133663 [============================>.] - ETA: 51s - loss: 1.8445 - acc: 0.4884"
          ],
          "name": "stdout"
        },
        {
          "output_type": "stream",
          "text": [
            "133664/133663 [==============================] - 13222s 99ms/step - loss: 1.8446 - acc: 0.4883\n",
            "File ID: 1oZQDbXO-L4LZ4eWkZO2DoH-5eOghCx1k\n"
          ],
          "name": "stdout"
        }
      ]
    },
    {
      "metadata": {
        "id": "QbV4oqRgwWaa",
        "colab_type": "code",
        "colab": {
          "base_uri": "https://localhost:8080/",
          "height": 68
        },
        "outputId": "b88d9adf-f045-4e1a-fc6e-12e05567f635"
      },
      "cell_type": "code",
      "source": [
        "model.fit_generator(generator_small(white, batch_size = 256), steps_per_epoch = num_states(white) / 256, epochs = 1)\n",
        "model.save('white256.h5')\n",
        "saver('white256')"
      ],
      "execution_count": 23,
      "outputs": [
        {
          "output_type": "stream",
          "text": [
            "Epoch 1/1\n",
            "66273/66831 [============================>.] - ETA: 1:32 - loss: 1.8198 - acc: 0.4925"
          ],
          "name": "stdout"
        },
        {
          "output_type": "stream",
          "text": [
            "66832/66831 [==============================] - 11055s 165ms/step - loss: 1.8197 - acc: 0.4925\n",
            "File ID: 10RO8KzLkjJeqU6fm3aEfcwJjGOvfgCOp\n"
          ],
          "name": "stdout"
        }
      ]
    },
    {
      "metadata": {
        "id": "FsxdzTkZUG1X",
        "colab_type": "code",
        "colab": {
          "base_uri": "https://localhost:8080/",
          "height": 180
        },
        "outputId": "36206f9d-8e82-4c35-e138-899a12890c9e"
      },
      "cell_type": "code",
      "source": [
        "model.save('white1024.h5')\n",
        "saver('white1024')"
      ],
      "execution_count": 1,
      "outputs": [
        {
          "output_type": "error",
          "ename": "NameError",
          "evalue": "ignored",
          "traceback": [
            "\u001b[0;31m---------------------------------------------------------------------------\u001b[0m",
            "\u001b[0;31mNameError\u001b[0m                                 Traceback (most recent call last)",
            "\u001b[0;32m<ipython-input-1-6fcb383e8801>\u001b[0m in \u001b[0;36m<module>\u001b[0;34m()\u001b[0m\n\u001b[0;32m----> 1\u001b[0;31m \u001b[0mmodel\u001b[0m\u001b[0;34m.\u001b[0m\u001b[0msave\u001b[0m\u001b[0;34m(\u001b[0m\u001b[0;34m'white1024.h5'\u001b[0m\u001b[0;34m)\u001b[0m\u001b[0;34m\u001b[0m\u001b[0m\n\u001b[0m\u001b[1;32m      2\u001b[0m \u001b[0msaver\u001b[0m\u001b[0;34m(\u001b[0m\u001b[0;34m'white1024'\u001b[0m\u001b[0;34m)\u001b[0m\u001b[0;34m\u001b[0m\u001b[0m\n",
            "\u001b[0;31mNameError\u001b[0m: name 'model' is not defined"
          ]
        }
      ]
    },
    {
      "metadata": {
        "id": "hQ02W3SEwilS",
        "colab_type": "code",
        "colab": {
          "base_uri": "https://localhost:8080/",
          "height": 68
        },
        "outputId": "08330419-9d59-45e0-df38-f6ae28df28da"
      },
      "cell_type": "code",
      "source": [
        "model.fit_generator(generator_small(white, batch_size = 1024), steps_per_epoch = num_states(white) / 1024, epochs = 1)\n",
        "model.save('white1024.h5')\n",
        "saver('white1024')"
      ],
      "execution_count": 24,
      "outputs": [
        {
          "output_type": "stream",
          "text": [
            "Epoch 1/1\n",
            "16707/16707 [============================>.] - ETA: 0s - loss: 1.7597 - acc: 0.5058"
          ],
          "name": "stdout"
        },
        {
          "output_type": "stream",
          "text": [
            "\b\b\b\b\b\b\b\b\b\b\b\b\b\b\b\b\b\b\b\b\b\b\b\b\b\b\b\b\b\b\b\b\b\b\b\b\b\b\b\b\b\b\b\b\b\b\b\b\b\b\b\b\b\b\b\b\b\b\b\b\b\b\b\b\b\b\b\b\b\b\b\b\b\b\b\b\b\b\b\b\b\b\b\r16708/16707 [==============================] - 9350s 560ms/step - loss: 1.7597 - acc: 0.5058\n",
            "File ID: 191FOnjZpHzWkgqU2c1eOxuUuC-qqzM6Z\n"
          ],
          "name": "stdout"
        }
      ]
    },
    {
      "metadata": {
        "id": "OwcxdmjHBsXv",
        "colab_type": "code",
        "colab": {
          "base_uri": "https://localhost:8080/",
          "height": 51
        },
        "outputId": "dca38af1-0932-4563-a8cd-9a90a1e1185e"
      },
      "cell_type": "code",
      "source": [
        "model.fit_generator(generator_small(white, batch_size = 4096), steps_per_epoch = num_states(white) / 4096, epochs = 1)\n",
        "model.save('white4096.h5')\n",
        "saver('white4096')"
      ],
      "execution_count": 0,
      "outputs": [
        {
          "output_type": "stream",
          "text": [
            "Epoch 1/1\n",
            "2326/4176 [===============>..............] - ETA: 1:10:56 - loss: 1.7274 - acc: 0.5132"
          ],
          "name": "stdout"
        }
      ]
    },
    {
      "metadata": {
        "id": "TeJ8osmLkX0S",
        "colab_type": "code",
        "colab": {}
      },
      "cell_type": "code",
      "source": [
        "def upload_file_to_drive(file_name, file_data):\n",
        "  uploaded = drive.CreateFile({'title': file_name})\n",
        "  uploaded.SetContentS(file_data)\n",
        "  uploaded.Upload()\n",
        "  print('Uploaded file with ID {}'.format(uploaded.get('id')))\n",
        "  return uploaded.get('id')"
      ],
      "execution_count": 0,
      "outputs": []
    },
    {
      "metadata": {
        "id": "aq6_MBxlkaCu",
        "colab_type": "code",
        "colab": {
          "base_uri": "https://localhost:8080/",
          "height": 69
        },
        "outputId": "680340ba-6f29-476a-f6ca-57a9f7c9fab3"
      },
      "cell_type": "code",
      "source": [
        "upload_file_to_drive('black.renju', \"\\n\".join(black))\n",
        "upload_file_to_drive('white.renju', \"\\n\".join(white))"
      ],
      "execution_count": 0,
      "outputs": [
        {
          "output_type": "stream",
          "text": [
            "Uploaded file with ID 1NvY2_XsQ-AMfoh06J6p95Kd0878_ReSR\n",
            "Uploaded file with ID 1CBAGTSBbBUkSYr6RSJH6kJ3rXNOfKyT6\n"
          ],
          "name": "stdout"
        },
        {
          "output_type": "execute_result",
          "data": {
            "text/plain": [
              "'1CBAGTSBbBUkSYr6RSJH6kJ3rXNOfKyT6'"
            ]
          },
          "metadata": {
            "tags": []
          },
          "execution_count": 7
        }
      ]
    },
    {
      "metadata": {
        "id": "t58oSad1qBoM",
        "colab_type": "code",
        "colab": {}
      },
      "cell_type": "code",
      "source": [
        "black = drive.CreateFile({'id': '1NvY2_XsQ-AMfoh06J6p95Kd0878_ReSR'}).GetContentString().split('\\n')\n",
        "white = drive.CreateFile({'id': '1CBAGTSBbBUkSYr6RSJH6kJ3rXNOfKyT6'}).GetContentString().split('\\n')"
      ],
      "execution_count": 0,
      "outputs": []
    },
    {
      "metadata": {
        "id": "a6XBFSOHslFO",
        "colab_type": "code",
        "colab": {}
      },
      "cell_type": "code",
      "source": [
        "black = np.array(black)\n",
        "np.save('black.npy', black)\n",
        "black = 0\n",
        "white = np.array(white)\n",
        "np.save('white.npy', white)\n",
        "white = 0"
      ],
      "execution_count": 0,
      "outputs": []
    },
    {
      "metadata": {
        "id": "hKAzY81QpYnU",
        "colab_type": "code",
        "colab": {
          "base_uri": "https://localhost:8080/",
          "height": 34
        },
        "outputId": "18f1bbd5-c630-4b01-87a0-51a9baa3d869"
      },
      "cell_type": "code",
      "source": [
        "black[0]"
      ],
      "execution_count": 0,
      "outputs": [
        {
          "output_type": "execute_result",
          "data": {
            "text/plain": [
              "'h8 h9 j10 k10 g11 f10 k9 l8 h11 f11 j8 g10 j9 j7 h10 f12 k8 e12 l7'"
            ]
          },
          "metadata": {
            "tags": []
          },
          "execution_count": 4
        }
      ]
    }
  ]
}