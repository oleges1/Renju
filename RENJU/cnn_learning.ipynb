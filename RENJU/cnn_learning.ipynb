{
  "nbformat": 4,
  "nbformat_minor": 0,
  "metadata": {
    "colab": {
      "name": "cnn_colab2.ipynb",
      "version": "0.3.2",
      "provenance": [],
      "collapsed_sections": [
        "04Ox0yGrt_up",
        "cUcepy2E4xyP",
        "ebsm5-AY4-yu",
        "G7j-5An2srSu",
        "adoc3kbntpsF"
      ]
    },
    "kernelspec": {
      "name": "python3",
      "display_name": "Python 3"
    },
    "accelerator": "GPU"
  },
  "cells": [
    {
      "metadata": {
        "id": "axhRVAC3gcEg",
        "colab_type": "code",
        "colab": {}
      },
      "cell_type": "code",
      "source": [
        "!pip install -U -q PyDrive"
      ],
      "execution_count": 1,
      "outputs": []
    },
    {
      "metadata": {
        "id": "qpisuJSIgF2S",
        "colab_type": "code",
        "colab": {}
      },
      "cell_type": "code",
      "source": [
        "from pydrive.auth import GoogleAuth\n",
        "from pydrive.drive import GoogleDrive\n",
        "from google.colab import auth\n",
        "from oauth2client.client import GoogleCredentials\n",
        "\n",
        "# 1. Authenticate and create the PyDrive client.\n",
        "auth.authenticate_user()\n",
        "gauth = GoogleAuth()\n",
        "gauth.credentials = GoogleCredentials.get_application_default()\n",
        "drive = GoogleDrive(gauth)"
      ],
      "execution_count": 2,
      "outputs": []
    },
    {
      "metadata": {
        "id": "qj_jVNFskhmR",
        "colab_type": "code",
        "colab": {
          "base_uri": "https://localhost:8080/",
          "height": 34
        },
        "outputId": "4ed70a42-139f-4997-cba2-e1e1ce717d41"
      },
      "cell_type": "code",
      "source": [
        "import tensorflow as tf\n",
        "device_name = tf.test.gpu_device_name()\n",
        "if device_name != '/device:GPU:0':\n",
        "  raise SystemError('GPU device not found')\n",
        "print('Found GPU at: {}'.format(device_name))"
      ],
      "execution_count": 3,
      "outputs": [
        {
          "output_type": "stream",
          "text": [
            "Found GPU at: /device:GPU:0\n"
          ],
          "name": "stdout"
        }
      ]
    },
    {
      "metadata": {
        "id": "iRm3SibOgoso",
        "colab_type": "code",
        "colab": {}
      },
      "cell_type": "code",
      "source": [
        "import pandas as pd\n",
        "import numpy as np"
      ],
      "execution_count": 4,
      "outputs": []
    },
    {
      "metadata": {
        "id": "idivPDOI2R_a",
        "colab_type": "code",
        "colab": {}
      },
      "cell_type": "code",
      "source": [
        "black = np.array(drive.CreateFile({'id': '1tcyQFsii3ZSHKUhZqoODeFVt97GJQZIN'}).GetContentString().split('\\n'))\n",
        "white = np.array(drive.CreateFile({'id': '1rZbVHZEf5P4fQJovcQazHZqGMXpl1vsd'}).GetContentString().split('\\n'))"
      ],
      "execution_count": 5,
      "outputs": []
    },
    {
      "metadata": {
        "id": "WZuX9Vj2uPhl",
        "colab_type": "code",
        "colab": {}
      },
      "cell_type": "code",
      "source": [
        "data = drive.CreateFile({'id': '1-NMkNj-PZAAWEGeoYwr6agwM8RkYhdB8'}).GetContentString().split('\\n')"
      ],
      "execution_count": 6,
      "outputs": []
    },
    {
      "metadata": {
        "id": "BnGblWPpIaNw",
        "colab_type": "code",
        "colab": {
          "base_uri": "https://localhost:8080/",
          "height": 68
        },
        "outputId": "12846e3d-79a7-464b-904d-30e9e8e61f04"
      },
      "cell_type": "code",
      "source": [
        "!free -h"
      ],
      "execution_count": 7,
      "outputs": [
        {
          "output_type": "stream",
          "text": [
            "              total        used        free      shared  buff/cache   available\r\n",
            "Mem:            12G        6.8G        505M        249M        5.4G        5.4G\r\n",
            "Swap:            0B          0B          0B\r\n"
          ],
          "name": "stdout"
        }
      ]
    },
    {
      "metadata": {
        "id": "-eaXUzk03gMG",
        "colab_type": "code",
        "colab": {}
      },
      "cell_type": "code",
      "source": [
        "def num_states(data):\n",
        "  res = 0\n",
        "  for game in data:\n",
        "    res += len(game.split()) - 1\n",
        "  return res / 2"
      ],
      "execution_count": 8,
      "outputs": []
    },
    {
      "metadata": {
        "id": "vyGwzOO13xO-",
        "colab_type": "code",
        "colab": {
          "base_uri": "https://localhost:8080/",
          "height": 34
        },
        "outputId": "f2c19baa-c06e-451b-a1d8-d2ea731352c2"
      },
      "cell_type": "code",
      "source": [
        "num_states(black)"
      ],
      "execution_count": 9,
      "outputs": [
        {
          "output_type": "execute_result",
          "data": {
            "text/plain": [
              "17750698.0"
            ]
          },
          "metadata": {
            "tags": []
          },
          "execution_count": 10
        }
      ]
    },
    {
      "metadata": {
        "id": "04Ox0yGrt_up",
        "colab_type": "text"
      },
      "cell_type": "markdown",
      "source": [
        "# Splitting black and white"
      ]
    },
    {
      "metadata": {
        "id": "SrH77RVbgvjA",
        "colab_type": "code",
        "colab": {}
      },
      "cell_type": "code",
      "source": [
        "black = []\n",
        "white = []\n",
        "size = 0\n",
        "for line in raw_data:\n",
        "    game = line.split()\n",
        "    if (len(game) > 0):\n",
        "      if (game[0] == 'black'):\n",
        "          black.append(' '.join(game[1:]))\n",
        "      elif (game[0] == 'white'):\n",
        "          white.append(' '.join(game[1:]))\n",
        "#black = np.array(black)\n",
        "#white = np.array(white)"
      ],
      "execution_count": 11,
      "outputs": []
    },
    {
      "metadata": {
        "id": "R9wmMy6vTXyM",
        "colab_type": "text"
      },
      "cell_type": "markdown",
      "source": [
        "# Models saver:"
      ]
    },
    {
      "metadata": {
        "id": "UrowXchjSMTw",
        "colab_type": "code",
        "colab": {}
      },
      "cell_type": "code",
      "source": [
        "from googleapiclient.discovery import build\n",
        "drive_service = build('drive', 'v3')"
      ],
      "execution_count": 12,
      "outputs": []
    },
    {
      "metadata": {
        "id": "Y6lbyb_wLmXO",
        "colab_type": "code",
        "colab": {}
      },
      "cell_type": "code",
      "source": [
        "from googleapiclient.http import MediaFileUpload\n",
        "from googleapiclient.discovery import build\n",
        "drive_service = build('drive', 'v3')\n",
        "\n",
        "from googleapiclient.discovery import build\n",
        "drive_service = build('drive', 'v3')\n",
        "\n",
        "def saver(name):\n",
        "  file_metadata = {\n",
        "    'name': name + '.h5',\n",
        "    'mimeType': 'application/octet-stream'\n",
        "  }\n",
        "  media = MediaFileUpload(name + '.h5', \n",
        "                          mimetype='application/octet-stream',\n",
        "                          resumable=True)\n",
        "  created = drive_service.files().create(body=file_metadata,\n",
        "                                         media_body=media).execute()\n",
        "  print('File ID: {}'.format(created.get('id')))"
      ],
      "execution_count": 13,
      "outputs": []
    },
    {
      "metadata": {
        "id": "ov2HOYwXtP0D",
        "colab_type": "text"
      },
      "cell_type": "markdown",
      "source": [
        "# Generators for Networks:"
      ]
    },
    {
      "metadata": {
        "id": "zt9ByJ9E2kB4",
        "colab_type": "code",
        "colab": {}
      },
      "cell_type": "code",
      "source": [
        "POS_TO_LETTER = 'abcdefghjklmnop'\n",
        "LETTER_TO_POS = {letter: pos for pos, letter in enumerate(POS_TO_LETTER)}\n",
        "\n",
        "from random import randint, shuffle\n",
        "\n",
        "def to_pos(move):\n",
        "    return int(move[1:]) - 1, LETTER_TO_POS[move[0]]  \n",
        "  \n",
        "def rotare(img, times):\n",
        "    if times == 0:\n",
        "      return img\n",
        "    if times == 1:\n",
        "      return np.rot90(img)\n",
        "    if times == 2:\n",
        "      return np.rot90(np.rot90(img))\n",
        "    if times == 3:\n",
        "      return np.rot90(np.rot90(np.rot90(img)))\n",
        "\n",
        "def generator(data, batch_size = 64):\n",
        "    datas = []\n",
        "    labels = []\n",
        "    size = 0\n",
        "    while(1):\n",
        "      try:\n",
        "        for game in data:\n",
        "          img = np.zeros((15, 15))\n",
        "          game = game.split(' ')\n",
        "          min_i, min_j, max_i, max_j = 15, 15, 0, 0\n",
        "          for move in range(1, len(game)):\n",
        "              i, j = to_pos(game[move])\n",
        "              min_i = min(min_i, i)\n",
        "              min_j = min(min_j, j)\n",
        "              max_i = max(max_i, i)\n",
        "              max_j = max(max_j, j)\n",
        "              move_i = 0\n",
        "              move_j = 0\n",
        "              if (randint(0, 1)):\n",
        "                if (randint(0, 1)):\n",
        "                  move_i = randint(0, 15 - max_i)\n",
        "                  move_j = randint(0, 15 - max_j)\n",
        "                else:\n",
        "                  move_i = randint(0, 15 - max_i)\n",
        "                  move_j = -randint(0, min_j)\n",
        "              else:\n",
        "                if (randint(0, 1)):\n",
        "                  move_i = -randint(0, min_i)\n",
        "                  move_j = randint(0, 15 - max_j)\n",
        "                else:\n",
        "                  move_i = -randint(0, min_i)\n",
        "                  move_j = -randint(0, min_j)\n",
        "\n",
        "              if (move % 2 == 1):\n",
        "                if (game[0] == 'black'):\n",
        "                  rolled = np.roll(np.roll(img, move_i, axis = 0), move_j, axis = 1)\n",
        "                  label = np.zeros((15, 15))\n",
        "                  label[i, j] = 1\n",
        "                  label = np.roll(np.roll(label, move_i, axis = 0), move_j, axis = 1)\n",
        "                  seed = randint(0, 3)\n",
        "                  rolled = rotare(rolled, seed)\n",
        "                  res = np.zeros((1, 15, 15, 4))\n",
        "                  for i in range(15):\n",
        "                    for j in range(15):\n",
        "                      if (rolled[i, j] == 1):\n",
        "                        res[0, i, j, 0] = 1\n",
        "                        res[0, i, j, 2] = 1\n",
        "                      elif (data[i, j] == -1):\n",
        "                        res[0, i, j, 1] = 1\n",
        "                        res[0, i, j, 2] = 1\n",
        "                      res[0, i, j, 3] = 1\n",
        "                  datas.append(res)\n",
        "                  labels.append(rotare(label, seed).flatten())\n",
        "                  size += 1\n",
        "                img[i][j] = 1\n",
        "              else:\n",
        "                if (game[0] == 'white'):\n",
        "                  rolled = np.roll(np.roll(img, move_i, axis = 0), move_j, axis = 1)\n",
        "                  label = np.zeros((15, 15))\n",
        "                  label[i, j] = 1\n",
        "                  label = np.roll(np.roll(label, move_i, axis = 0), move_j, axis = 1)\n",
        "                  seed = randint(0, 3)\n",
        "                  rolled = rotare(rolled, seed)\n",
        "                  res = np.zeros((1, 15, 15, 4))\n",
        "                  for i in range(15):\n",
        "                    for j in range(15):\n",
        "                      if (rolled[i, j] == 1):\n",
        "                        res[0, i, j, 0] = 1\n",
        "                        res[0, i, j, 2] = 1\n",
        "                      elif (data[i, j] == -1):\n",
        "                        res[0, i, j, 1] = 1\n",
        "                        res[0, i, j, 2] = 1\n",
        "                      res[0, i, j, 3] = -1\n",
        "                  datas.append(res)\n",
        "                  labels.append(rotare(label, seed).flatten())\n",
        "                  size += 1\n",
        "                img[i][j] = -1\n",
        "\n",
        "              if (size == batch_size):\n",
        "                yield np.array(datas).reshape((batch_size, 15, 15, 4)), np.array(labels).reshape((batch_size, 225))\n",
        "                datas = []\n",
        "                labels = []\n",
        "                size = 0\n",
        "      except GeneratorExit:\n",
        "        raise GeneratorExit('exiting...')\n",
        "      except:\n",
        "        continue\n",
        "\n",
        "def generator_small(data, batch_size = 64):\n",
        "    datas = []\n",
        "    labels = []\n",
        "    size = 0\n",
        "    while(1):\n",
        "      random.shuffle(data)\n",
        "      try:\n",
        "        for game in data:\n",
        "          img = np.zeros((15, 15))\n",
        "          game = game.split(' ')\n",
        "          min_i, min_j, max_i, max_j = 15, 15, 0, 0\n",
        "          for move in range(1, len(game)):\n",
        "              i, j = to_pos(game[move])\n",
        "              min_i = min(min_i, i)\n",
        "              min_j = min(min_j, j)\n",
        "              max_i = max(max_i, i)\n",
        "              max_j = max(max_j, j)\n",
        "              move_i = 0\n",
        "              move_j = 0\n",
        "              if (randint(0, 1)):\n",
        "                if (randint(0, 1)):\n",
        "                  move_i = randint(0, 15 - max_i)\n",
        "                  move_j = randint(0, 15 - max_j)\n",
        "                else:\n",
        "                  move_i = randint(0, 15 - max_i)\n",
        "                  move_j = -randint(0, min_j)\n",
        "              else:\n",
        "                if (randint(0, 1)):\n",
        "                  move_i = -randint(0, min_i)\n",
        "                  move_j = randint(0, 15 - max_j)\n",
        "                else:\n",
        "                  move_i = -randint(0, min_i)\n",
        "                  move_j = -randint(0, min_j)\n",
        "\n",
        "              if (move % 2 == 1):\n",
        "                if (game[0] == 'black'):\n",
        "                  rolled = np.roll(np.roll(img, move_i, axis = 0), move_j, axis = 1)\n",
        "                  label = np.zeros((15, 15))\n",
        "                  label[i, j] = 1\n",
        "                  label = np.roll(np.roll(label, move_i, axis = 0), move_j, axis = 1)\n",
        "                  seed = randint(0, 3)\n",
        "                  datas.append(rotare(rolled, seed))\n",
        "                  labels.append(rotare(label, seed).flatten())\n",
        "                  size += 1\n",
        "                img[i][j] = 1\n",
        "              else:\n",
        "                if (game[0] == 'white'):\n",
        "                  rolled = np.roll(np.roll(img, move_i, axis = 0), move_j, axis = 1)\n",
        "                  label = np.zeros((15, 15))\n",
        "                  label[i, j] = 1\n",
        "                  label = np.roll(np.roll(label, move_i, axis = 0), move_j, axis = 1)\n",
        "                  seed = randint(0, 3)\n",
        "                  datas.append(rotare(rolled, seed))\n",
        "                  labels.append(rotare(label, seed).flatten())\n",
        "                  size += 1\n",
        "                img[i][j] = -1\n",
        "\n",
        "              if (size == batch_size):\n",
        "                yield np.array(datas).reshape((batch_size, 15, 15, 1)), np.array(labels).reshape((batch_size, 225))\n",
        "                datas = []\n",
        "                labels = []\n",
        "                size = 0\n",
        "      except GeneratorExit:\n",
        "        raise GeneratorExit('exiting...')\n",
        "      except:\n",
        "        continue"
      ],
      "execution_count": 14,
      "outputs": []
    },
    {
      "metadata": {
        "id": "vKlxBTEgxfu-",
        "colab_type": "code",
        "colab": {}
      },
      "cell_type": "code",
      "source": [
        "import random \n",
        "def generator_value(data, batch_size = 64, color = 'black'):\n",
        "    datas = []\n",
        "    labels = []\n",
        "    size = 0\n",
        "    while(1):\n",
        "      random.shuffle(data)\n",
        "      try:\n",
        "        for game in data:\n",
        "          img = np.zeros((15, 15))\n",
        "          game = game.split(' ')\n",
        "          if (len(game) < 5):\n",
        "            continue\n",
        "          #selected = set(game[-6:])\n",
        "          min_i, min_j, max_i, max_j = 15, 15, 0, 0\n",
        "          for move in range(1, len(game)):\n",
        "              i, j = to_pos(game[move])\n",
        "              min_i = min(min_i, i)\n",
        "              min_j = min(min_j, j)\n",
        "              max_i = max(max_i, i)\n",
        "              max_j = max(max_j, j)\n",
        "\n",
        "              if (move > len(game) - 17 and randint(0, 3) == 3):\n",
        "                move_i = 0\n",
        "                move_j = 0\n",
        "                if (randint(0, 1)):\n",
        "                  if (randint(0, 1)):\n",
        "                    move_i = randint(0, 15 - max_i)\n",
        "                    move_j = randint(0, 15 - max_j)\n",
        "                  else:\n",
        "                    move_i = randint(0, 15 - max_i)\n",
        "                    move_j = -randint(0, min_j)\n",
        "                else:\n",
        "                  if (randint(0, 1)):\n",
        "                    move_i = -randint(0, min_i)\n",
        "                    move_j = randint(0, 15 - max_j)\n",
        "                  else:\n",
        "                    move_i = -randint(0, min_i)\n",
        "                    move_j = -randint(0, min_j)\n",
        "\n",
        "                rolled = np.roll(np.roll(img, move_i, axis = 0), move_j, axis = 1)\n",
        "                seed = randint(0, 3)\n",
        "                datas.append(rotare(rolled, seed))\n",
        "                size += 1\n",
        "                if (game[0] == color):\n",
        "                  labels.append(1)\n",
        "                else:\n",
        "                  labels.append(-1)\n",
        "\n",
        "              if (move % 2 == 1):\n",
        "                img[i][j] = 1\n",
        "              else:\n",
        "                img[i][j] = -1\n",
        "\n",
        "              if (size == batch_size):\n",
        "                yield np.array(datas).reshape((batch_size, 15, 15, 1)), np.array(labels).reshape((batch_size, 1))\n",
        "                datas = []\n",
        "                labels = []\n",
        "                size = 0\n",
        "      except GeneratorExit:\n",
        "        raise GeneratorExit('exiting...')\n",
        "      except:\n",
        "        continue"
      ],
      "execution_count": 15,
      "outputs": []
    },
    {
      "metadata": {
        "id": "P6X1fiAOfCzI",
        "colab_type": "code",
        "colab": {
          "base_uri": "https://localhost:8080/",
          "height": 34
        },
        "outputId": "3c542953-8625-484d-b396-d0d09b4411ee"
      },
      "cell_type": "code",
      "source": [
        "import numpy as np\n",
        "import keras\n",
        "from keras.models import Sequential\n",
        "from keras.layers import Dense, Dropout, Flatten\n",
        "from keras.layers import Conv2D, MaxPooling2D, LeakyReLU, Activation, ZeroPadding2D\n",
        "from keras.layers.normalization import BatchNormalization\n",
        "from keras.optimizers import SGD"
      ],
      "execution_count": 16,
      "outputs": [
        {
          "output_type": "stream",
          "text": [
            "Using TensorFlow backend.\n"
          ],
          "name": "stderr"
        }
      ]
    },
    {
      "metadata": {
        "id": "4sA5gF4pszlP",
        "colab_type": "text"
      },
      "cell_type": "markdown",
      "source": [
        "# Policy Network"
      ]
    },
    {
      "metadata": {
        "id": "cUcepy2E4xyP",
        "colab_type": "text"
      },
      "cell_type": "markdown",
      "source": [
        "## Rollout model:"
      ]
    },
    {
      "metadata": {
        "id": "ABgrur8meUys",
        "colab_type": "code",
        "colab": {
          "base_uri": "https://localhost:8080/",
          "height": 660
        },
        "outputId": "c45f0327-2ce5-40da-fede-b8046156eb02"
      },
      "cell_type": "code",
      "source": [
        "model = Sequential()\n",
        "model.add(Conv2D(16, (3, 3), padding='same',\n",
        "                     input_shape=(15, 15, 1)))\n",
        "model.add(LeakyReLU())\n",
        "model.add(Conv2D(16, (2, 2), padding='same'))\n",
        "model.add(LeakyReLU())\n",
        "#model.add(MaxPooling2D(pool_size = (2, 2), padding = 'same'))\n",
        "#model.add(LeakyReLU())\n",
        "#model.add(BatchNormalization(axis = 3))\n",
        "\n",
        "model.add(Conv2D(32, (3, 3), padding='same'))\n",
        "model.add(LeakyReLU())\n",
        "model.add(Conv2D(32, (2, 2), padding='same'))\n",
        "model.add(LeakyReLU())\n",
        "#model.add(MaxPooling2D(pool_size = (2, 2), padding = 'same'))\n",
        "#model.add(LeakyReLU())\n",
        "#model.add(BatchNormalization(axis = 3))\n",
        "    \n",
        "model.add(Conv2D(64, (3, 3), padding='same'))\n",
        "model.add(LeakyReLU())\n",
        "model.add(Conv2D(64, (2, 2), padding='same'))\n",
        "model.add(LeakyReLU())\n",
        "#model.add(MaxPooling2D(pool_size = (2, 2), padding = 'same'))\n",
        "#model.add(LeakyReLU())\n",
        "#model.add(BatchNormalization(axis = 3))\n",
        "\n",
        "    \n",
        "model.add(Conv2D(1, (1, 1), padding='same'))\n",
        "#model.add(LeakyReLU())\n",
        "#model.add(Flatten())\n",
        "\n",
        "#model.add(LeakyReLU())\n",
        "model.add(Flatten())\n",
        "#model.add(Dense(1))\n",
        "#model.add(Dropout(0.35))\n",
        "#model.add(Dense(225))\n",
        "    \n",
        "model.add(Activation('softmax'))\n",
        "\n",
        "# initiate RMSprop optimizer\n",
        "model.compile(loss='categorical_crossentropy', optimizer = 'adam', metrics = ['accuracy'])\n",
        "model.summary()"
      ],
      "execution_count": 17,
      "outputs": [
        {
          "output_type": "stream",
          "text": [
            "_________________________________________________________________\n",
            "Layer (type)                 Output Shape              Param #   \n",
            "=================================================================\n",
            "conv2d_1 (Conv2D)            (None, 15, 15, 16)        160       \n",
            "_________________________________________________________________\n",
            "leaky_re_lu_1 (LeakyReLU)    (None, 15, 15, 16)        0         \n",
            "_________________________________________________________________\n",
            "conv2d_2 (Conv2D)            (None, 15, 15, 16)        1040      \n",
            "_________________________________________________________________\n",
            "leaky_re_lu_2 (LeakyReLU)    (None, 15, 15, 16)        0         \n",
            "_________________________________________________________________\n",
            "conv2d_3 (Conv2D)            (None, 15, 15, 32)        4640      \n",
            "_________________________________________________________________\n",
            "leaky_re_lu_3 (LeakyReLU)    (None, 15, 15, 32)        0         \n",
            "_________________________________________________________________\n",
            "conv2d_4 (Conv2D)            (None, 15, 15, 32)        4128      \n",
            "_________________________________________________________________\n",
            "leaky_re_lu_4 (LeakyReLU)    (None, 15, 15, 32)        0         \n",
            "_________________________________________________________________\n",
            "conv2d_5 (Conv2D)            (None, 15, 15, 64)        18496     \n",
            "_________________________________________________________________\n",
            "leaky_re_lu_5 (LeakyReLU)    (None, 15, 15, 64)        0         \n",
            "_________________________________________________________________\n",
            "conv2d_6 (Conv2D)            (None, 15, 15, 64)        16448     \n",
            "_________________________________________________________________\n",
            "leaky_re_lu_6 (LeakyReLU)    (None, 15, 15, 64)        0         \n",
            "_________________________________________________________________\n",
            "conv2d_7 (Conv2D)            (None, 15, 15, 1)         65        \n",
            "_________________________________________________________________\n",
            "flatten_1 (Flatten)          (None, 225)               0         \n",
            "_________________________________________________________________\n",
            "activation_1 (Activation)    (None, 225)               0         \n",
            "=================================================================\n",
            "Total params: 44,977\n",
            "Trainable params: 44,977\n",
            "Non-trainable params: 0\n",
            "_________________________________________________________________\n"
          ],
          "name": "stdout"
        }
      ]
    },
    {
      "metadata": {
        "id": "ebsm5-AY4-yu",
        "colab_type": "text"
      },
      "cell_type": "markdown",
      "source": [
        "## Main model"
      ]
    },
    {
      "metadata": {
        "id": "UoZkC3w844qj",
        "colab_type": "code",
        "colab": {
          "base_uri": "https://localhost:8080/",
          "height": 918
        },
        "outputId": "f192d256-6a0d-4044-c9a2-c72fb167128a"
      },
      "cell_type": "code",
      "source": [
        "model = Sequential()\n",
        "model.add(Conv2D(16, (3, 3), padding='same',\n",
        "                     input_shape=(15, 15, 1)))\n",
        "model.add(LeakyReLU())\n",
        "model.add(Conv2D(16, (2, 2), padding='same'))\n",
        "model.add(LeakyReLU())\n",
        "#model.add(MaxPooling2D(pool_size = (2, 2), padding = 'same'))\n",
        "#model.add(LeakyReLU())\n",
        "#model.add(BatchNormalization(axis = 3))\n",
        "\n",
        "model.add(Conv2D(32, (3, 3), padding='same'))\n",
        "model.add(LeakyReLU())\n",
        "model.add(Conv2D(32, (2, 2), padding='same'))\n",
        "model.add(LeakyReLU())\n",
        "#model.add(MaxPooling2D(pool_size = (2, 2), padding = 'same'))\n",
        "#model.add(LeakyReLU())\n",
        "#model.add(BatchNormalization(axis = 3))\n",
        "    \n",
        "model.add(Conv2D(64, (3, 3), padding='same'))\n",
        "model.add(LeakyReLU())\n",
        "model.add(Conv2D(64, (2, 2), padding='same'))\n",
        "model.add(LeakyReLU())\n",
        "#model.add(MaxPooling2D(pool_size = (2, 2), padding = 'same'))\n",
        "#model.add(LeakyReLU())\n",
        "#model.add(BatchNormalization(axis = 3))\n",
        "\n",
        "model.add(Conv2D(128, (3, 3), padding='same'))\n",
        "model.add(LeakyReLU())\n",
        "model.add(Conv2D(128, (2, 2), padding='same'))\n",
        "model.add(LeakyReLU())\n",
        "#model.add(MaxPooling2D(pool_size = (2, 2), padding = 'same'))\n",
        "#model.add(LeakyReLU())\n",
        "\n",
        "model.add(Conv2D(256, (3, 3), padding='same'))\n",
        "model.add(LeakyReLU())\n",
        "model.add(Conv2D(256, (2, 2), padding='same'))\n",
        "model.add(LeakyReLU())\n",
        "#model.add(MaxPooling2D(pool_size = (2, 2), padding = 'same'))\n",
        "#model.add(LeakyReLU())\n",
        "#model.add(BatchNormalization(axis = 3))\n",
        "\n",
        "    \n",
        "model.add(Conv2D(1, (1, 1), padding='same'))\n",
        "#model.add(LeakyReLU())\n",
        "#model.add(Flatten())\n",
        "\n",
        "#model.add(LeakyReLU())\n",
        "model.add(Flatten())\n",
        "#model.add(Dense(1))\n",
        "#model.add(Dropout(0.35))\n",
        "#model.add(Dense(225))\n",
        "    \n",
        "model.add(Activation('softmax'))\n",
        "\n",
        "# initiate RMSprop optimizer\n",
        "model.compile(loss='categorical_crossentropy', optimizer = 'adam', metrics = ['accuracy'])\n",
        "model.summary()"
      ],
      "execution_count": 18,
      "outputs": [
        {
          "output_type": "stream",
          "text": [
            "_________________________________________________________________\n",
            "Layer (type)                 Output Shape              Param #   \n",
            "=================================================================\n",
            "conv2d_1 (Conv2D)            (None, 15, 15, 16)        160       \n",
            "_________________________________________________________________\n",
            "leaky_re_lu_1 (LeakyReLU)    (None, 15, 15, 16)        0         \n",
            "_________________________________________________________________\n",
            "conv2d_2 (Conv2D)            (None, 15, 15, 16)        1040      \n",
            "_________________________________________________________________\n",
            "leaky_re_lu_2 (LeakyReLU)    (None, 15, 15, 16)        0         \n",
            "_________________________________________________________________\n",
            "conv2d_3 (Conv2D)            (None, 15, 15, 32)        4640      \n",
            "_________________________________________________________________\n",
            "leaky_re_lu_3 (LeakyReLU)    (None, 15, 15, 32)        0         \n",
            "_________________________________________________________________\n",
            "conv2d_4 (Conv2D)            (None, 15, 15, 32)        4128      \n",
            "_________________________________________________________________\n",
            "leaky_re_lu_4 (LeakyReLU)    (None, 15, 15, 32)        0         \n",
            "_________________________________________________________________\n",
            "conv2d_5 (Conv2D)            (None, 15, 15, 64)        18496     \n",
            "_________________________________________________________________\n",
            "leaky_re_lu_5 (LeakyReLU)    (None, 15, 15, 64)        0         \n",
            "_________________________________________________________________\n",
            "conv2d_6 (Conv2D)            (None, 15, 15, 64)        16448     \n",
            "_________________________________________________________________\n",
            "leaky_re_lu_6 (LeakyReLU)    (None, 15, 15, 64)        0         \n",
            "_________________________________________________________________\n",
            "conv2d_7 (Conv2D)            (None, 15, 15, 128)       73856     \n",
            "_________________________________________________________________\n",
            "leaky_re_lu_7 (LeakyReLU)    (None, 15, 15, 128)       0         \n",
            "_________________________________________________________________\n",
            "conv2d_8 (Conv2D)            (None, 15, 15, 128)       65664     \n",
            "_________________________________________________________________\n",
            "leaky_re_lu_8 (LeakyReLU)    (None, 15, 15, 128)       0         \n",
            "_________________________________________________________________\n",
            "conv2d_9 (Conv2D)            (None, 15, 15, 256)       295168    \n",
            "_________________________________________________________________\n",
            "leaky_re_lu_9 (LeakyReLU)    (None, 15, 15, 256)       0         \n",
            "_________________________________________________________________\n",
            "conv2d_10 (Conv2D)           (None, 15, 15, 256)       262400    \n",
            "_________________________________________________________________\n",
            "leaky_re_lu_10 (LeakyReLU)   (None, 15, 15, 256)       0         \n",
            "_________________________________________________________________\n",
            "conv2d_11 (Conv2D)           (None, 15, 15, 1)         257       \n",
            "_________________________________________________________________\n",
            "flatten_1 (Flatten)          (None, 225)               0         \n",
            "_________________________________________________________________\n",
            "activation_1 (Activation)    (None, 225)               0         \n",
            "=================================================================\n",
            "Total params: 742,257\n",
            "Trainable params: 742,257\n",
            "Non-trainable params: 0\n",
            "_________________________________________________________________\n"
          ],
          "name": "stdout"
        }
      ]
    },
    {
      "metadata": {
        "id": "DluoALaCuJ7g",
        "colab_type": "text"
      },
      "cell_type": "markdown",
      "source": [
        "# BIG PAPA MODEL"
      ]
    },
    {
      "metadata": {
        "id": "zH-AXZieujI8",
        "colab_type": "code",
        "colab": {
          "base_uri": "https://localhost:8080/",
          "height": 34
        },
        "outputId": "cbb4ba73-c8e3-4171-b1a7-c4f84372af73"
      },
      "cell_type": "code",
      "source": [
        "import numpy as np\n",
        "import keras\n",
        "from keras.models import Sequential, Model\n",
        "from keras.layers import Dense, Dropout, Flatten, Input\n",
        "from keras.layers import Conv2D, MaxPooling2D, LeakyReLU, Activation\n",
        "from keras.layers.normalization import BatchNormalization\n",
        "from keras.preprocessing.image import ImageDataGenerator\n",
        "from keras.optimizers import SGD"
      ],
      "execution_count": 19,
      "outputs": [
        {
          "output_type": "stream",
          "text": [
            "Using TensorFlow backend.\n"
          ],
          "name": "stderr"
        }
      ]
    },
    {
      "metadata": {
        "id": "HKFAzFfquPaP",
        "colab_type": "code",
        "colab": {
          "base_uri": "https://localhost:8080/",
          "height": 1312
        },
        "outputId": "f4a3a0cc-3d13-4828-a11e-04c8f1f99de2"
      },
      "cell_type": "code",
      "source": [
        "from keras.models import Model\n",
        "from keras.optimizers import Nadam\n",
        "from keras.layers import BatchNormalization, Convolution2D, Input, merge, LeakyReLU\n",
        "from keras.layers.core import Activation, Layer\n",
        "\n",
        "def conv_block_3(feat_maps_out, prev):\n",
        "    prev = Conv2D(feat_maps_out, (3, 3), padding='same')(prev) \n",
        "    prev = LeakyReLU()(prev)\n",
        "    prev = Conv2D(feat_maps_out, (2, 2), padding='same')(prev) \n",
        "    prev = LeakyReLU()(prev)\n",
        "    return prev\n",
        "\n",
        "def skip_block(feat_maps_in, feat_maps_out, prev):\n",
        "    if feat_maps_in != feat_maps_out:\n",
        "        prev = Conv2D(feat_maps_out, (1, 1), padding='same')(prev)\n",
        "    return prev \n",
        "\n",
        "def Residual_3(feat_maps_in, feat_maps_out, prev_layer):\n",
        "    skip = skip_block(feat_maps_in, feat_maps_out, prev_layer)\n",
        "    conv = conv_block_3(feat_maps_out, prev_layer)\n",
        "    return merge([skip, conv], mode='sum')\n",
        "\n",
        "img_rows = 15 \n",
        "img_cols = 15 \n",
        "\n",
        "inp = Input((img_rows, img_cols, 1))\n",
        "cnv1 = Conv2D(32, (3, 3), padding='same')(inp)\n",
        "cnv1 = LeakyReLU()(cnv1)\n",
        "r1 = Residual_3(32, 64, cnv1)\n",
        "r2 = Residual_3(64, 64, r1)\n",
        "r3 = Residual_3(64, 128, r2)\n",
        "r4 = Residual_3(128, 256, r3)\n",
        "cnv2 = Conv2D(1, (1, 1), padding='same')(r4)\n",
        "cnv2 = LeakyReLU()(cnv2)\n",
        "cnv2 = Flatten()(cnv2)\n",
        "out = Activation('softmax')(cnv2)\n",
        "model = Model(input=inp, output=out)\n",
        "model.compile(loss='categorical_crossentropy', optimizer = 'adam', metrics = ['accuracy'])\n",
        "model.summary()"
      ],
      "execution_count": 20,
      "outputs": [
        {
          "output_type": "stream",
          "text": [
            "/usr/local/lib/python3.6/dist-packages/ipykernel_launcher.py:21: UserWarning: The `merge` function is deprecated and will be removed after 08/2017. Use instead layers from `keras.layers.merge`, e.g. `add`, `concatenate`, etc.\n",
            "/usr/local/lib/python3.6/dist-packages/keras/legacy/layers.py:465: UserWarning: The `Merge` layer is deprecated and will be removed after 08/2017. Use instead layers from `keras.layers.merge`, e.g. `add`, `concatenate`, etc.\n",
            "  name=name)\n",
            "/usr/local/lib/python3.6/dist-packages/ipykernel_launcher.py:37: UserWarning: Update your `Model` call to the Keras 2 API: `Model(inputs=Tensor(\"in..., outputs=Tensor(\"ac...)`\n"
          ],
          "name": "stderr"
        },
        {
          "output_type": "stream",
          "text": [
            "__________________________________________________________________________________________________\n",
            "Layer (type)                    Output Shape         Param #     Connected to                     \n",
            "==================================================================================================\n",
            "input_3 (InputLayer)            (None, 15, 15, 1)    0                                            \n",
            "__________________________________________________________________________________________________\n",
            "conv2d_26 (Conv2D)              (None, 15, 15, 32)   320         input_3[0][0]                    \n",
            "__________________________________________________________________________________________________\n",
            "leaky_re_lu_21 (LeakyReLU)      (None, 15, 15, 32)   0           conv2d_26[0][0]                  \n",
            "__________________________________________________________________________________________________\n",
            "conv2d_28 (Conv2D)              (None, 15, 15, 64)   18496       leaky_re_lu_21[0][0]             \n",
            "__________________________________________________________________________________________________\n",
            "leaky_re_lu_22 (LeakyReLU)      (None, 15, 15, 64)   0           conv2d_28[0][0]                  \n",
            "__________________________________________________________________________________________________\n",
            "conv2d_29 (Conv2D)              (None, 15, 15, 64)   16448       leaky_re_lu_22[0][0]             \n",
            "__________________________________________________________________________________________________\n",
            "conv2d_27 (Conv2D)              (None, 15, 15, 64)   2112        leaky_re_lu_21[0][0]             \n",
            "__________________________________________________________________________________________________\n",
            "leaky_re_lu_23 (LeakyReLU)      (None, 15, 15, 64)   0           conv2d_29[0][0]                  \n",
            "__________________________________________________________________________________________________\n",
            "merge_9 (Merge)                 (None, 15, 15, 64)   0           conv2d_27[0][0]                  \n",
            "                                                                 leaky_re_lu_23[0][0]             \n",
            "__________________________________________________________________________________________________\n",
            "conv2d_30 (Conv2D)              (None, 15, 15, 64)   36928       merge_9[0][0]                    \n",
            "__________________________________________________________________________________________________\n",
            "leaky_re_lu_24 (LeakyReLU)      (None, 15, 15, 64)   0           conv2d_30[0][0]                  \n",
            "__________________________________________________________________________________________________\n",
            "conv2d_31 (Conv2D)              (None, 15, 15, 64)   16448       leaky_re_lu_24[0][0]             \n",
            "__________________________________________________________________________________________________\n",
            "leaky_re_lu_25 (LeakyReLU)      (None, 15, 15, 64)   0           conv2d_31[0][0]                  \n",
            "__________________________________________________________________________________________________\n",
            "merge_10 (Merge)                (None, 15, 15, 64)   0           merge_9[0][0]                    \n",
            "                                                                 leaky_re_lu_25[0][0]             \n",
            "__________________________________________________________________________________________________\n",
            "conv2d_33 (Conv2D)              (None, 15, 15, 128)  73856       merge_10[0][0]                   \n",
            "__________________________________________________________________________________________________\n",
            "leaky_re_lu_26 (LeakyReLU)      (None, 15, 15, 128)  0           conv2d_33[0][0]                  \n",
            "__________________________________________________________________________________________________\n",
            "conv2d_34 (Conv2D)              (None, 15, 15, 128)  65664       leaky_re_lu_26[0][0]             \n",
            "__________________________________________________________________________________________________\n",
            "conv2d_32 (Conv2D)              (None, 15, 15, 128)  8320        merge_10[0][0]                   \n",
            "__________________________________________________________________________________________________\n",
            "leaky_re_lu_27 (LeakyReLU)      (None, 15, 15, 128)  0           conv2d_34[0][0]                  \n",
            "__________________________________________________________________________________________________\n",
            "merge_11 (Merge)                (None, 15, 15, 128)  0           conv2d_32[0][0]                  \n",
            "                                                                 leaky_re_lu_27[0][0]             \n",
            "__________________________________________________________________________________________________\n",
            "conv2d_36 (Conv2D)              (None, 15, 15, 256)  295168      merge_11[0][0]                   \n",
            "__________________________________________________________________________________________________\n",
            "leaky_re_lu_28 (LeakyReLU)      (None, 15, 15, 256)  0           conv2d_36[0][0]                  \n",
            "__________________________________________________________________________________________________\n",
            "conv2d_37 (Conv2D)              (None, 15, 15, 256)  262400      leaky_re_lu_28[0][0]             \n",
            "__________________________________________________________________________________________________\n",
            "conv2d_35 (Conv2D)              (None, 15, 15, 256)  33024       merge_11[0][0]                   \n",
            "__________________________________________________________________________________________________\n",
            "leaky_re_lu_29 (LeakyReLU)      (None, 15, 15, 256)  0           conv2d_37[0][0]                  \n",
            "__________________________________________________________________________________________________\n",
            "merge_12 (Merge)                (None, 15, 15, 256)  0           conv2d_35[0][0]                  \n",
            "                                                                 leaky_re_lu_29[0][0]             \n",
            "__________________________________________________________________________________________________\n",
            "conv2d_38 (Conv2D)              (None, 15, 15, 1)    257         merge_12[0][0]                   \n",
            "__________________________________________________________________________________________________\n",
            "leaky_re_lu_30 (LeakyReLU)      (None, 15, 15, 1)    0           conv2d_38[0][0]                  \n",
            "__________________________________________________________________________________________________\n",
            "flatten_3 (Flatten)             (None, 225)          0           leaky_re_lu_30[0][0]             \n",
            "__________________________________________________________________________________________________\n",
            "activation_3 (Activation)       (None, 225)          0           flatten_3[0][0]                  \n",
            "==================================================================================================\n",
            "Total params: 829,441\n",
            "Trainable params: 829,441\n",
            "Non-trainable params: 0\n",
            "__________________________________________________________________________________________________\n"
          ],
          "name": "stdout"
        }
      ]
    },
    {
      "metadata": {
        "id": "G7j-5An2srSu",
        "colab_type": "text"
      },
      "cell_type": "markdown",
      "source": [
        "# Value Network:"
      ]
    },
    {
      "metadata": {
        "id": "cbHRZT3DZlfp",
        "colab_type": "code",
        "colab": {}
      },
      "cell_type": "code",
      "source": [
        "model = Sequential()\n",
        "model.add(ZeroPadding2D(padding=(2, 2), input_shape=(15, 15, 1)))\n",
        "model.add(Conv2D(16, (5, 5),\n",
        "                        padding='valid'))\n",
        "model.add(Activation('relu'))\n",
        "model.add(Dropout(0.1))\n",
        "model.add(Conv2D(16, (5, 5),\n",
        "                        padding='valid')) # same\n",
        "model.add(Activation('relu'))\n",
        "model.add(Dropout(0.1))\n",
        "model.add(Flatten())\n",
        "model.add(Dense(512))  # 1024\n",
        "model.add(Activation('relu'))\n",
        "model.add(Dropout(0.1))\n",
        "\n",
        "model.add(Dense(1))\n",
        "model.add(Activation('tanh'))\n",
        "\n",
        "model.compile(loss='mse',\n",
        "              optimizer=\"adadelta\", metrics = ['accuracy'])"
      ],
      "execution_count": 21,
      "outputs": []
    },
    {
      "metadata": {
        "id": "adoc3kbntpsF",
        "colab_type": "text"
      },
      "cell_type": "markdown",
      "source": [
        "# Fitting value:"
      ]
    },
    {
      "metadata": {
        "id": "YTZ9QQyq7_EU",
        "colab_type": "code",
        "colab": {
          "base_uri": "https://localhost:8080/",
          "height": 241
        },
        "outputId": "3c100a14-d7df-42a7-9976-86a61c585a3a"
      },
      "cell_type": "code",
      "source": [
        "epochs = 4\n",
        "for _ in range(epochs):\n",
        "  model.fit_generator(generator_value(data), steps_per_epoch = 50000, epochs = 1)\n",
        "  model.save('value_black.h5')\n",
        "  saver('value_black')"
      ],
      "execution_count": 22,
      "outputs": [
        {
          "output_type": "stream",
          "text": [
            "50000/50000 [==============================] - 1040s 21ms/step - loss: 0.9346 - acc: 0.0598\n",
            "File ID: 1g7BsA6MIOXdiqIsW4nb2WI1FNMx1Fm7b\n",
            "50000/50000 [==============================] - 1040s 21ms/step - loss: 0.9133 - acc: 0.0953\n",
            "File ID: 18YWLn9L6pOAyvYFmlU73rsbmccKrMImj\n",
            "50000/50000 [==============================] - 1037s 21ms/step - loss: 0.9083 - acc: 0.1052\n",
            "File ID: 1fNenL4UvUA2Q3qnRtnkt5QzFnb-f6myU\n",
            "50000/50000 [==============================] - 1031s 21ms/step - loss: 0.9056 - acc: 0.1100\n",
            "File ID: 1D-nIJdBLSLGB5l2rgzpPRpABAiW91M4d\n"
          ],
          "name": "stdout"
        }
      ]
    },
    {
      "metadata": {
        "id": "fmOpwl4DyICw",
        "colab_type": "code",
        "colab": {
          "base_uri": "https://localhost:8080/",
          "height": 34
        },
        "outputId": "27e9fe1e-0c9c-4ec9-dd22-2a2d51a7ee2c"
      },
      "cell_type": "code",
      "source": [
        "model.save('value_black256.h5')\n",
        "saver('value_black256')"
      ],
      "execution_count": 23,
      "outputs": [
        {
          "output_type": "stream",
          "text": [
            "File ID: 16BIhkk780AbDTuG9Qlhgs1D8yBvBEfGT\n"
          ],
          "name": "stdout"
        }
      ]
    },
    {
      "metadata": {
        "id": "ttSf0maSrsDc",
        "colab_type": "code",
        "colab": {
          "base_uri": "https://localhost:8080/",
          "height": 1373
        },
        "outputId": "7db35755-5b78-4256-8634-f33f2f4b8eb5"
      },
      "cell_type": "code",
      "source": [
        "epochs = 4\n",
        "for _ in range(epochs):\n",
        "  model.fit_generator(generator_value(data, 256), steps_per_epoch = 50000, epochs = 1)\n",
        "  model.save('value_black256.h5')\n",
        "  saver('value_black256')"
      ],
      "execution_count": 24,
      "outputs": [
        {
          "output_type": "stream",
          "text": [
            "50000/50000 [==============================] - ETA: 0:00 - loss: 0.8866 - acc: 0.1298"
          ],
          "name": "stdout"
        }
      ]
    },
    {
      "metadata": {
        "id": "usH25YY5xoX-",
        "colab_type": "code",
        "colab": {}
      },
      "cell_type": "code",
      "source": [
        "epochs = 4\n",
        "for _ in range(epochs):\n",
        "  model.fit_generator(generator_value(data, 1024), steps_per_epoch = 50000, epochs = 1)\n",
        "  model.save('value_black1024.h5')\n",
        "  saver('value_black1024')"
      ],
      "execution_count": 0,
      "outputs": []
    },
    {
      "metadata": {
        "id": "1kiVZOmByydm",
        "colab_type": "code",
        "colab": {}
      },
      "cell_type": "code",
      "source": [
        "epochs = 5\n",
        "for _ in range(epochs):\n",
        "  model.fit_generator(generator_value(data, 4096), steps_per_epoch = 50000, epochs = 1)\n",
        "  model.save('value_black4096.h5')\n",
        "  saver('value_black4096')"
      ],
      "execution_count": 0,
      "outputs": []
    },
    {
      "metadata": {
        "id": "4dV57z0vtynl",
        "colab_type": "text"
      },
      "cell_type": "markdown",
      "source": [
        "# Fitting policy network"
      ]
    },
    {
      "metadata": {
        "id": "L-GyckJFOvl6",
        "colab_type": "code",
        "colab": {
          "base_uri": "https://localhost:8080/",
          "height": 88
        },
        "outputId": "ef96b987-e2c9-4d02-e994-45df407d5f7d"
      },
      "cell_type": "code",
      "source": [
        "from keras.models import load_model\n",
        "drive.CreateFile({'id': '191FOnjZpHzWkgqU2c1eOxuUuC-qqzM6Z'}).GetContentFile('white1024.h5')\n",
        "model = load_model('white1024.h5')"
      ],
      "execution_count": 25,
      "outputs": [
        {
          "output_type": "stream",
          "text": [
            "Using TensorFlow backend.\n",
            "/usr/local/lib/python3.6/dist-packages/keras/engine/topology.py:1271: UserWarning: The `Merge` layer is deprecated and will be removed after 08/2017. Use instead layers from `keras.layers.merge`, e.g. `add`, `concatenate`, etc.\n",
            "  return cls(**config)\n"
          ],
          "name": "stderr"
        }
      ]
    },
    {
      "metadata": {
        "id": "LkCqo5yfuy2W",
        "colab_type": "code",
        "colab": {
          "base_uri": "https://localhost:8080/",
          "height": 1526
        },
        "outputId": "8403aeb0-428c-43cd-bd71-3b745caf8f0a"
      },
      "cell_type": "code",
      "source": [
        "model.fit_generator(generator_small(black, batch_size = 64), steps_per_epoch = num_states(black) / 128, epochs = 1)\n",
        "model.save('black.h5')\n",
        "saver('black')\n"
      ],
      "execution_count": 26,
      "outputs": [
        {
          "output_type": "stream",
          "text": [
            "Epoch 1/1\n",
            "138677/138677 [==============================] - ETA: 0s - loss: 2.3617 - acc: 0.3807"
          ],
          "name": "stdout"
        }
      ]
    },
    {
      "metadata": {
        "id": "7027f-j7nEeF",
        "colab_type": "code",
        "colab": {
          "base_uri": "https://localhost:8080/",
          "height": 88
        },
        "outputId": "868f8532-e548-41f2-d389-72a2b454dce5"
      },
      "cell_type": "code",
      "source": [
        "model.fit_generator(generator_small(black, batch_size = 128), steps_per_epoch = num_states(black) / 256, epochs = 1)\n",
        "model.save('black.h5')\n",
        "saver('black')\n",
        "#model.fit_generator(generator_small(black, batch_size = 128), steps_per_epoch = num_states(black) / 256, epochs = 1)\n",
        "#model.save('black.h5')\n",
        "#saver('black')"
      ],
      "execution_count": 27,
      "outputs": [
        {
          "output_type": "stream",
          "text": [
            "69339/69338 [==============================] - 6836s 99ms/step - loss: 2.0352 - acc: 0.4700\n",
            "File ID: 1_AMGZhdETlhlj-7bdrcAixFw3cWtWYf5\n"
          ],
          "name": "stdout"
        }
      ]
    },
    {
      "metadata": {
        "id": "N0vY9P37Wt1A",
        "colab_type": "code",
        "colab": {
          "base_uri": "https://localhost:8080/",
          "height": 68
        },
        "outputId": "ca0379e4-a02b-4e7c-d691-39bb45a545ce"
      },
      "cell_type": "code",
      "source": [
        "model.fit_generator(generator_small(black, batch_size = 256), steps_per_epoch = num_states(black) / 256, epochs = 1)\n",
        "model.save('black256.h5')\n",
        "saver('black256')"
      ],
      "execution_count": 28,
      "outputs": [
        {
          "output_type": "stream",
          "text": [
            "Epoch 1/1\n",
            "69338/69338 [==============================] - ETA: 0s - loss: 2.0496 - acc: 0.4618"
          ],
          "name": "stdout"
        },
        {
          "output_type": "stream",
          "text": [
            "\b\b\b\b\b\b\b\b\b\b\b\b\b\b\b\b\b\b\b\b\b\b\b\b\b\b\b\b\b\b\b\b\b\b\b\b\b\b\b\b\b\b\b\b\b\b\b\b\b\b\b\b\b\b\b\b\b\b\b\b\b\b\b\b\b\b\b\b\b\b\b\b\b\b\b\b\b\b\b\b\b\b\b\r69339/69338 [==============================] - 11497s 166ms/step - loss: 2.0496 - acc: 0.4618\n",
            "File ID: 1l9_pwPWox3nW_OuJASYtxHp-sD0q5CCw\n"
          ],
          "name": "stdout"
        }
      ]
    },
    {
      "metadata": {
        "id": "kcfHL48-W8Mg",
        "colab_type": "code",
        "colab": {
          "base_uri": "https://localhost:8080/",
          "height": 68
        },
        "outputId": "0a4c7f7e-2469-4ae8-df9b-3cb45f040f75"
      },
      "cell_type": "code",
      "source": [
        "model.fit_generator(generator_small(black, batch_size = 1024), steps_per_epoch = num_states(black) / 1024, epochs = 1)\n",
        "model.save('black1024.h5')\n",
        "saver('black1024')"
      ],
      "execution_count": 29,
      "outputs": [
        {
          "output_type": "stream",
          "text": [
            "Epoch 1/1\n",
            "17334/17334 [==============================] - ETA: 0s - loss: 2.0357 - acc: 0.4619"
          ],
          "name": "stdout"
        },
        {
          "output_type": "stream",
          "text": [
            "\b\b\b\b\b\b\b\b\b\b\b\b\b\b\b\b\b\b\b\b\b\b\b\b\b\b\b\b\b\b\b\b\b\b\b\b\b\b\b\b\b\b\b\b\b\b\b\b\b\b\b\b\b\b\b\b\b\b\b\b\b\b\b\b\b\b\b\b\b\b\b\b\b\b\b\b\b\b\b\b\b\b\b\r17335/17334 [==============================] - 9710s 560ms/step - loss: 2.0357 - acc: 0.4619\n",
            "File ID: 14yZad6_8-TGsHDPAqYaqNKGyiEMZlXJm\n"
          ],
          "name": "stdout"
        }
      ]
    },
    {
      "metadata": {
        "id": "iPGlB7x6r5vY",
        "colab_type": "code",
        "colab": {
          "base_uri": "https://localhost:8080/",
          "height": 2930
        },
        "outputId": "2cc8e43c-6eba-403b-d825-04b1a93e2f0a"
      },
      "cell_type": "code",
      "source": [
        "model.fit_generator(generator_small(black, batch_size = 4096), steps_per_epoch = num_states(black) / 4096, epochs = 1)\n",
        "model.save('black4096.h5')\n",
        "saver('black4096')"
      ],
      "execution_count": 30,
      "outputs": [
        {
          "output_type": "stream",
          "text": [
            "Epoch 1/1\n",
            "2326/4176 [==============================] - ETA: 1:10:56 - loss: 1.7274 - acc: 0.5132"
          ],
          "name": "stdout"
        }
      ]
    },
    {
      "metadata": {
        "id": "brtNyd6Bvzto",
        "colab_type": "code",
        "colab": {
          "base_uri": "https://localhost:8080/",
          "height": 88
        },
        "outputId": "d1e540e7-8113-422d-fefa-d575c6c7fb6f"
      },
      "cell_type": "code",
      "source": [
        "model.fit_generator(generator_small(white[::-1], batch_size = 64), steps_per_epoch = num_states(white) / 128, epochs = 1)\n",
        "model.save('white.h5')\n",
        "saver('white')"
      ],
      "execution_count": 31,
      "outputs": [
        {
          "output_type": "stream",
          "text": [
            "133664/133663 [==============================] - 8460s 63ms/step - loss: 1.9380 - acc: 0.4680\n",
            "File ID: 1dNqWppl7EK6QmlxhTPlUqcKR_iYjRfCX\n"
          ],
          "name": "stdout"
        }
      ]
    },
    {
      "metadata": {
        "id": "roV0jNcPyn24",
        "colab_type": "code",
        "colab": {
          "base_uri": "https://localhost:8080/",
          "height": 88
        },
        "outputId": "806e504f-d0e9-49a6-bbe7-1d1b5e0ae76f"
      },
      "cell_type": "code",
      "source": [
        "model.fit_generator(generator_small(white, batch_size = 128), steps_per_epoch = num_states(white) / 128, epochs = 1)\n",
        "model.save('white.h5')\n",
        "saver('white')"
      ],
      "execution_count": 32,
      "outputs" : [
        {
          "output_type": "stream",
          "text": [
            "133664/133663 [==============================] - 13222s 99ms/step - loss: 1.8446 - acc: 0.4883\n",
            "File ID: 1oZQDbXO-L4LZ4eWkZO2DoH-5eOghCx1k\n"
          ],
          "name": "stdout"
        }
      ]
    },
    {
      "metadata": {
        "id": "QbV4oqRgwWaa",
        "colab_type": "code",
        "colab": {
          "base_uri": "https://localhost:8080/",
          "height": 68
        },
        "outputId": "b88d9adf-f045-4e1a-fc6e-12e05567f635"
      },
      "cell_type": "code",
      "source": [
        "model.fit_generator(generator_small(white, batch_size = 256), steps_per_epoch = num_states(white) / 256, epochs = 1)\n",
        "model.save('white256.h5')\n",
        "saver('white256')"
      ],
      "execution_count": 33,
      "outputs": [
        {
          "output_type": "stream",
          "text": [
            "66832/66831 [==============================] - 11055s 165ms/step - loss: 1.8197 - acc: 0.4925\n",
            "File ID: 10RO8KzLkjJeqU6fm3aEfcwJjGOvfgCOp\n"
          ],
          "name": "stdout"
        }
      ]
    },
    {
      "metadata": {
        "id": "FsxdzTkZUG1X",
        "colab_type": "code",
        "colab": {
          "base_uri": "https://localhost:8080/",
          "height": 180
        },
        "outputId": "36206f9d-8e82-4c35-e138-899a12890c9e"
      },
      "cell_type": "code",
      "source": [
        "model.save('white1024.h5')\n",
        "saver('white1024')"
      ],
      "execution_count": 34,
      "outputs": [
      ]
    },
    {
      "metadata": {
        "id": "hQ02W3SEwilS",
        "colab_type": "code",
        "colab": {
          "base_uri": "https://localhost:8080/",
          "height": 68
        },
        "outputId": "08330419-9d59-45e0-df38-f6ae28df28da"
      },
      "cell_type": "code",
      "source": [
        "model.fit_generator(generator_small(white, batch_size = 1024), steps_per_epoch = num_states(white) / 1024, epochs = 1)\n",
        "model.save('white1024.h5')\n",
        "saver('white1024')"
      ],
      "execution_count": 35,
      "outputs": [
        {
          "output_type": "stream",
          "text": [
            "Epoch 1/1\n",
            "16707/16707 [==============================] - ETA: 0s - loss: 1.7597 - acc: 0.5058"
          ],
          "name": "stdout"
        },
        {
          "output_type": "stream",
          "text": [
            "\b\b\b\b\b\b\b\b\b\b\b\b\b\b\b\b\b\b\b\b\b\b\b\b\b\b\b\b\b\b\b\b\b\b\b\b\b\b\b\b\b\b\b\b\b\b\b\b\b\b\b\b\b\b\b\b\b\b\b\b\b\b\b\b\b\b\b\b\b\b\b\b\b\b\b\b\b\b\b\b\b\b\b\r16708/16707 [==============================] - 9350s 560ms/step - loss: 1.7597 - acc: 0.5058\n",
            "File ID: 191FOnjZpHzWkgqU2c1eOxuUuC-qqzM6Z\n"
          ],
          "name": "stdout"
        }
      ]
    },
    {
      "metadata": {
        "id": "OwcxdmjHBsXv",
        "colab_type": "code",
        "colab": {
          "base_uri": "https://localhost:8080/",
          "height": 51
        },
        "outputId": "dca38af1-0932-4563-a8cd-9a90a1e1185e"
      },
      "cell_type": "code",
      "source": [
        "model.fit_generator(generator_small(white, batch_size = 4096), steps_per_epoch = num_states(white) / 4096, epochs = 1)\n",
        "model.save('white4096.h5')\n",
        "saver('white4096')"
      ],
      "execution_count": 36,
      "outputs": [
        {
          "output_type": "stream",
          "text": [
            "Epoch 1/1\n",
            "2326/4176 [==============================] - ETA: 1:10:56 - loss: 1.7274 - acc: 0.5132"
          ],
          "name": "stdout"
        }
      ]
    },
    {
      "metadata": {
        "id": "TeJ8osmLkX0S",
        "colab_type": "code",
        "colab": {}
      },
      "cell_type": "code",
      "source": [
        "def upload_file_to_drive(file_name, file_data):\n",
        "  uploaded = drive.CreateFile({'title': file_name})\n",
        "  uploaded.SetContentS(file_data)\n",
        "  uploaded.Upload()\n",
        "  print('Uploaded file with ID {}'.format(uploaded.get('id')))\n",
        "  return uploaded.get('id')"
      ],
      "execution_count": 37,
      "outputs": []
    },
    {
      "metadata": {
        "id": "aq6_MBxlkaCu",
        "colab_type": "code",
        "colab": {
          "base_uri": "https://localhost:8080/",
          "height": 69
        },
        "outputId": "680340ba-6f29-476a-f6ca-57a9f7c9fab3"
      },
      "cell_type": "code",
      "source": [
        "upload_file_to_drive('black.renju', \"\\n\".join(black))\n",
        "upload_file_to_drive('white.renju', \"\\n\".join(white))"
      ],
      "execution_count": 39,
      "outputs": [
        {
          "output_type": "stream",
          "text": [
            "Uploaded file with ID 1NvY2_XsQ-AMfoh06J6p95Kd0878_ReSR\n",
            "Uploaded file with ID 1CBAGTSBbBUkSYr6RSJH6kJ3rXNOfKyT6\n"
          ],
          "name": "stdout"
        },
        {
          "output_type": "execute_result",
          "data": {
            "text/plain": [
              "'1CBAGTSBbBUkSYr6RSJH6kJ3rXNOfKyT6'"
            ]
          },
          "metadata": {
            "tags": []
          },
          "execution_count": 40
        }
      ]
    },
    {
      "metadata": {
        "id": "t58oSad1qBoM",
        "colab_type": "code",
        "colab": {}
      },
      "cell_type": "code",
      "source": [
        "black = drive.CreateFile({'id': '1NvY2_XsQ-AMfoh06J6p95Kd0878_ReSR'}).GetContentString().split('\\n')\n",
        "white = drive.CreateFile({'id': '1CBAGTSBbBUkSYr6RSJH6kJ3rXNOfKyT6'}).GetContentString().split('\\n')"
      ],
      "execution_count": 41,
      "outputs": []
    },
    {
      "metadata": {
        "id": "a6XBFSOHslFO",
        "colab_type": "code",
        "colab": {}
      },
      "cell_type": "code",
      "source": [
        "black = np.array(black)\n",
        "np.save('black.npy', black)\n",
        "black = 0\n",
        "white = np.array(white)\n",
        "np.save('white.npy', white)\n",
        "white = 0"
      ],
      "execution_count": 42,
      "outputs": []
    },
    {
      "metadata": {
        "id": "hKAzY81QpYnU",
        "colab_type": "code",
        "colab": {
          "base_uri": "https://localhost:8080/",
          "height": 34
        },
        "outputId": "18f1bbd5-c630-4b01-87a0-51a9baa3d869"
      },
      "cell_type": "code",
      "source": [
        "black[0]"
      ],
      "execution_count": 43,
      "outputs": [
        {
          "output_type": "execute_result",
          "data": {
            "text/plain": [
              "'h8 h9 j10 k10 g11 f10 k9 l8 h11 f11 j8 g10 j9 j7 h10 f12 k8 e12 l7'"
            ]
          },
          "metadata": {
            "tags": []
          },
          "execution_count": 44
        }
      ]
    }
  ]
}
